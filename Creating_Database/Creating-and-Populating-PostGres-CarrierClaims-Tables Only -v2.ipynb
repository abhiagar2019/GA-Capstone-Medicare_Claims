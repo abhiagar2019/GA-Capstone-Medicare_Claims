{
 "cells": [
  {
   "cell_type": "code",
   "execution_count": 1,
   "metadata": {},
   "outputs": [],
   "source": [
    "import sqlalchemy\n",
    "import psycopg2\n",
    "import pandas as pd\n",
    "\n",
    "from tqdm import tqdm\n",
    "\n",
    "# DSN (data source name) format for database connections:  \n",
    "# [protocol / database  name]://[username]:[password]@[hostname / ip]:[port]/[database name here]\n",
    "\n",
    "# on your computer you are the user postgres (full administrative access)\n",
    "db_user = 'postgres'\n",
    "# if you need a password to access a database, put it here\n",
    "db_password = ''\n",
    "# on your computer, use localhost\n",
    "db_host = 'localhost'\n",
    "# the default port for postgres is 5432\n",
    "db_port = 5432\n",
    "# we want to creat a database with the following name\n",
    "database = 'cms_medicare_claims'   #'cms_claims' #\n",
    "#set up a connection to postgres without specifying the database\n",
    "conn_postgres = f'postgresql://{db_user}:{db_password}@{db_host}:{db_port}'"
   ]
  },
  {
   "cell_type": "code",
   "execution_count": 2,
   "metadata": {},
   "outputs": [],
   "source": [
    "# create an sqlalchemy connection\n",
    "engine = sqlalchemy.engine.create_engine(conn_postgres)"
   ]
  },
  {
   "cell_type": "code",
   "execution_count": 3,
   "metadata": {},
   "outputs": [],
   "source": [
    "# connect using sqlalchemy\n",
    "connection = engine.connect()"
   ]
  },
  {
   "cell_type": "code",
   "execution_count": 4,
   "metadata": {},
   "outputs": [
    {
     "data": {
      "text/plain": [
       "<sqlalchemy.engine.result.ResultProxy at 0x11d82b910>"
      ]
     },
     "execution_count": 4,
     "metadata": {},
     "output_type": "execute_result"
    }
   ],
   "source": [
    "# commit\n",
    "connection.execute('commit')"
   ]
  },
  {
   "cell_type": "code",
   "execution_count": null,
   "metadata": {},
   "outputs": [],
   "source": [
    "#SELECT * FROM pg_stat_activity WHERE datname = ‘cms_medicare_claims’;"
   ]
  },
  {
   "cell_type": "code",
   "execution_count": null,
   "metadata": {},
   "outputs": [],
   "source": [
    "# dropping database\n",
    "# connection.execute(f\"drop database {database}\")  "
   ]
  },
  {
   "cell_type": "code",
   "execution_count": null,
   "metadata": {},
   "outputs": [],
   "source": [
    "# create database\n",
    "#connection.execute(f\"create database {database}\")"
   ]
  },
  {
   "cell_type": "code",
   "execution_count": 5,
   "metadata": {},
   "outputs": [],
   "source": [
    "# close connection\n",
    "connection.close()"
   ]
  },
  {
   "cell_type": "code",
   "execution_count": 6,
   "metadata": {},
   "outputs": [],
   "source": [
    "# open a new connection to the database that we created\n",
    "conn_str = f'postgresql://{db_user}:{db_password}@{db_host}:{db_port}/{database}'\n",
    "conn = psycopg2.connect(conn_str)"
   ]
  },
  {
   "cell_type": "code",
   "execution_count": 7,
   "metadata": {},
   "outputs": [],
   "source": [
    "# connect using sqlalchemy\n",
    "engine = sqlalchemy.engine.create_engine(conn_str)"
   ]
  },
  {
   "cell_type": "markdown",
   "metadata": {},
   "source": [
    "### Defining file paths"
   ]
  },
  {
   "cell_type": "code",
   "execution_count": 8,
   "metadata": {},
   "outputs": [],
   "source": [
    "# Each file has 300,000 rows - total of 2.5GB when combined and around 5 million rows\n",
    "\n",
    "Claim_file_1 = '/Users/abhi/Documents/Abhi/General Assembly/Immersive course/Capstone Project/CMS_Data/Sample1/xaa.csv'\n",
    "Claim_file_2 = '/Users/abhi/Documents/Abhi/General Assembly/Immersive course/Capstone Project/CMS_Data/Sample1/xab.csv'\n",
    "Claim_file_3 = '/Users/abhi/Documents/Abhi/General Assembly/Immersive course/Capstone Project/CMS_Data/Sample1/xac.csv'\n",
    "Claim_file_4 = '/Users/abhi/Documents/Abhi/General Assembly/Immersive course/Capstone Project/CMS_Data/Sample1/xad.csv'\n",
    "Claim_file_5 = '/Users/abhi/Documents/Abhi/General Assembly/Immersive course/Capstone Project/CMS_Data/Sample1/xae.csv'\n",
    "Claim_file_6 = '/Users/abhi/Documents/Abhi/General Assembly/Immersive course/Capstone Project/CMS_Data/Sample1/xaf.csv'\n",
    "Claim_file_7 = '/Users/abhi/Documents/Abhi/General Assembly/Immersive course/Capstone Project/CMS_Data/Sample1/xag.csv'\n",
    "Claim_file_8 = '/Users/abhi/Documents/Abhi/General Assembly/Immersive course/Capstone Project/CMS_Data/Sample1/xah.csv'\n",
    "\n",
    "Claim_file_9 = '/Users/abhi/Documents/Abhi/General Assembly/Immersive course/Capstone Project/CMS_Data/Sample1/xba.csv'\n",
    "Claim_file_10 = '/Users/abhi/Documents/Abhi/General Assembly/Immersive course/Capstone Project/CMS_Data/Sample1/xbb.csv'\n",
    "Claim_file_11 = '/Users/abhi/Documents/Abhi/General Assembly/Immersive course/Capstone Project/CMS_Data/Sample1/xbc.csv'\n",
    "Claim_file_12 = '/Users/abhi/Documents/Abhi/General Assembly/Immersive course/Capstone Project/CMS_Data/Sample1/xbd.csv'\n",
    "Claim_file_13 = '/Users/abhi/Documents/Abhi/General Assembly/Immersive course/Capstone Project/CMS_Data/Sample1/xbe.csv'\n",
    "Claim_file_14 = '/Users/abhi/Documents/Abhi/General Assembly/Immersive course/Capstone Project/CMS_Data/Sample1/xbf.csv'\n",
    "Claim_file_15 = '/Users/abhi/Documents/Abhi/General Assembly/Immersive course/Capstone Project/CMS_Data/Sample1/xbg.csv'\n",
    "Claim_file_16 = '/Users/abhi/Documents/Abhi/General Assembly/Immersive course/Capstone Project/CMS_Data/Sample1/xbh.csv'"
   ]
  },
  {
   "cell_type": "markdown",
   "metadata": {},
   "source": [
    "### Reading files in DataFrames"
   ]
  },
  {
   "cell_type": "code",
   "execution_count": 10,
   "metadata": {},
   "outputs": [
    {
     "data": {
      "text/plain": [
       "datetime.datetime(2020, 4, 30, 19, 34, 42, 812557)"
      ]
     },
     "execution_count": 10,
     "metadata": {},
     "output_type": "execute_result"
    }
   ],
   "source": [
    "from datetime import datetime\n",
    "datetime.now()"
   ]
  },
  {
   "cell_type": "code",
   "execution_count": 11,
   "metadata": {},
   "outputs": [
    {
     "name": "stderr",
     "output_type": "stream",
     "text": [
      "/Users/abhi/opt/anaconda3/lib/python3.7/site-packages/IPython/core/interactiveshell.py:3058: DtypeWarning: Columns (10,11,46,47,48,49,50,137,138,139,140,141) have mixed types. Specify dtype option on import or set low_memory=False.\n",
      "  interactivity=interactivity, compiler=compiler, result=result)\n",
      "/Users/abhi/opt/anaconda3/lib/python3.7/site-packages/IPython/core/interactiveshell.py:3058: DtypeWarning: Columns (9,10,11,48,49,50,137,138,139,140,141) have mixed types. Specify dtype option on import or set low_memory=False.\n",
      "  interactivity=interactivity, compiler=compiler, result=result)\n",
      "/Users/abhi/opt/anaconda3/lib/python3.7/site-packages/IPython/core/interactiveshell.py:3058: DtypeWarning: Columns (9,10,11,47,48,49,50,133,135,136,137,138,139,140,141) have mixed types. Specify dtype option on import or set low_memory=False.\n",
      "  interactivity=interactivity, compiler=compiler, result=result)\n",
      "/Users/abhi/opt/anaconda3/lib/python3.7/site-packages/IPython/core/interactiveshell.py:3058: DtypeWarning: Columns (10,11,47,48,49,50,136,137,138,139,140,141) have mixed types. Specify dtype option on import or set low_memory=False.\n",
      "  interactivity=interactivity, compiler=compiler, result=result)\n"
     ]
    }
   ],
   "source": [
    "carrier_claimsDF_1 = pd.read_csv(Claim_file_1)\n",
    "carrier_claimsDF_2 = pd.read_csv(Claim_file_2)\n",
    "carrier_claimsDF_3 = pd.read_csv(Claim_file_3)\n",
    "carrier_claimsDF_4 = pd.read_csv(Claim_file_4)"
   ]
  },
  {
   "cell_type": "code",
   "execution_count": 29,
   "metadata": {},
   "outputs": [
    {
     "data": {
      "text/plain": [
       "datetime.datetime(2020, 4, 30, 19, 55, 33, 436844)"
      ]
     },
     "execution_count": 29,
     "metadata": {},
     "output_type": "execute_result"
    }
   ],
   "source": [
    "datetime.now()"
   ]
  },
  {
   "cell_type": "code",
   "execution_count": 30,
   "metadata": {},
   "outputs": [
    {
     "name": "stderr",
     "output_type": "stream",
     "text": [
      "/Users/abhi/opt/anaconda3/lib/python3.7/site-packages/IPython/core/interactiveshell.py:3058: DtypeWarning: Columns (9,10,11,43,45,46,47,48,49,50,136,137,138,139,140,141) have mixed types. Specify dtype option on import or set low_memory=False.\n",
      "  interactivity=interactivity, compiler=compiler, result=result)\n",
      "/Users/abhi/opt/anaconda3/lib/python3.7/site-packages/IPython/core/interactiveshell.py:3058: DtypeWarning: Columns (9,10,11,44,45,46,47,48,49,50,135,136,137,138,139,140,141) have mixed types. Specify dtype option on import or set low_memory=False.\n",
      "  interactivity=interactivity, compiler=compiler, result=result)\n",
      "/Users/abhi/opt/anaconda3/lib/python3.7/site-packages/IPython/core/interactiveshell.py:3058: DtypeWarning: Columns (9,10,11,46,47,48,49,50,136,137,138,139,140,141) have mixed types. Specify dtype option on import or set low_memory=False.\n",
      "  interactivity=interactivity, compiler=compiler, result=result)\n",
      "/Users/abhi/opt/anaconda3/lib/python3.7/site-packages/IPython/core/interactiveshell.py:3058: DtypeWarning: Columns (9,10,11,46,47,48,49,50,128,133,134,135,136,137,138,139,140,141) have mixed types. Specify dtype option on import or set low_memory=False.\n",
      "  interactivity=interactivity, compiler=compiler, result=result)\n"
     ]
    }
   ],
   "source": [
    "carrier_claimsDF_5 = pd.read_csv(Claim_file_5)\n",
    "carrier_claimsDF_6 = pd.read_csv(Claim_file_6)\n",
    "carrier_claimsDF_7 = pd.read_csv(Claim_file_7)\n",
    "carrier_claimsDF_8 = pd.read_csv(Claim_file_8)"
   ]
  },
  {
   "cell_type": "code",
   "execution_count": 44,
   "metadata": {},
   "outputs": [
    {
     "data": {
      "text/plain": [
       "datetime.datetime(2020, 4, 30, 20, 14, 55, 565386)"
      ]
     },
     "execution_count": 44,
     "metadata": {},
     "output_type": "execute_result"
    }
   ],
   "source": [
    "datetime.now()"
   ]
  },
  {
   "cell_type": "code",
   "execution_count": 45,
   "metadata": {},
   "outputs": [
    {
     "name": "stderr",
     "output_type": "stream",
     "text": [
      "/Users/abhi/opt/anaconda3/lib/python3.7/site-packages/IPython/core/interactiveshell.py:3058: DtypeWarning: Columns (9,10,11,46,48,49,50,128,136,137,138,139,140,141) have mixed types. Specify dtype option on import or set low_memory=False.\n",
      "  interactivity=interactivity, compiler=compiler, result=result)\n",
      "/Users/abhi/opt/anaconda3/lib/python3.7/site-packages/IPython/core/interactiveshell.py:3058: DtypeWarning: Columns (9,10,11,46,48,49,50,136,138,139,140,141) have mixed types. Specify dtype option on import or set low_memory=False.\n",
      "  interactivity=interactivity, compiler=compiler, result=result)\n",
      "/Users/abhi/opt/anaconda3/lib/python3.7/site-packages/IPython/core/interactiveshell.py:3058: DtypeWarning: Columns (9,10,11,45,47,48,49,50,136,137,138,139,140,141) have mixed types. Specify dtype option on import or set low_memory=False.\n",
      "  interactivity=interactivity, compiler=compiler, result=result)\n"
     ]
    }
   ],
   "source": [
    "carrier_claimsDF_9 = pd.read_csv(Claim_file_9)\n",
    "carrier_claimsDF_10 = pd.read_csv(Claim_file_10)\n",
    "carrier_claimsDF_11 = pd.read_csv(Claim_file_11)\n",
    "carrier_claimsDF_12 = pd.read_csv(Claim_file_12)"
   ]
  },
  {
   "cell_type": "code",
   "execution_count": 61,
   "metadata": {},
   "outputs": [
    {
     "data": {
      "text/plain": [
       "datetime.datetime(2020, 4, 30, 20, 40, 18, 545428)"
      ]
     },
     "execution_count": 61,
     "metadata": {},
     "output_type": "execute_result"
    }
   ],
   "source": [
    "datetime.now()"
   ]
  },
  {
   "cell_type": "code",
   "execution_count": 62,
   "metadata": {},
   "outputs": [
    {
     "name": "stderr",
     "output_type": "stream",
     "text": [
      "/Users/abhi/opt/anaconda3/lib/python3.7/site-packages/IPython/core/interactiveshell.py:3058: DtypeWarning: Columns (9,10,11,47,48,49,50,136,137,138,139,140,141) have mixed types. Specify dtype option on import or set low_memory=False.\n",
      "  interactivity=interactivity, compiler=compiler, result=result)\n",
      "/Users/abhi/opt/anaconda3/lib/python3.7/site-packages/IPython/core/interactiveshell.py:3058: DtypeWarning: Columns (9,10,11,46,47,48,49,50,128,136,137,138,139,140,141) have mixed types. Specify dtype option on import or set low_memory=False.\n",
      "  interactivity=interactivity, compiler=compiler, result=result)\n",
      "/Users/abhi/opt/anaconda3/lib/python3.7/site-packages/IPython/core/interactiveshell.py:3058: DtypeWarning: Columns (9,10,11,45,47,48,49,50,128,135,136,137,138,139,140,141) have mixed types. Specify dtype option on import or set low_memory=False.\n",
      "  interactivity=interactivity, compiler=compiler, result=result)\n",
      "/Users/abhi/opt/anaconda3/lib/python3.7/site-packages/IPython/core/interactiveshell.py:3058: DtypeWarning: Columns (9,10,11,47,48,49,50,133,134,135,136,137,138,139,140,141) have mixed types. Specify dtype option on import or set low_memory=False.\n",
      "  interactivity=interactivity, compiler=compiler, result=result)\n"
     ]
    }
   ],
   "source": [
    "carrier_claimsDF_13 = pd.read_csv(Claim_file_13)\n",
    "carrier_claimsDF_14 = pd.read_csv(Claim_file_14)\n",
    "carrier_claimsDF_15 = pd.read_csv(Claim_file_15)\n",
    "carrier_claimsDF_16 = pd.read_csv(Claim_file_16)"
   ]
  },
  {
   "cell_type": "code",
   "execution_count": 63,
   "metadata": {},
   "outputs": [
    {
     "data": {
      "text/plain": [
       "datetime.datetime(2020, 4, 30, 20, 40, 29, 982032)"
      ]
     },
     "execution_count": 63,
     "metadata": {},
     "output_type": "execute_result"
    }
   ],
   "source": [
    "datetime.now()"
   ]
  },
  {
   "cell_type": "code",
   "execution_count": null,
   "metadata": {},
   "outputs": [],
   "source": [
    "#carrier_claimsDF_1.shape, carrier_claimsDF_2.shape#, carrier_claimsDF_3.shape"
   ]
  },
  {
   "cell_type": "code",
   "execution_count": 13,
   "metadata": {},
   "outputs": [
    {
     "data": {
      "text/plain": [
       "datetime.datetime(2020, 4, 30, 19, 34, 55, 217967)"
      ]
     },
     "execution_count": 13,
     "metadata": {},
     "output_type": "execute_result"
    }
   ],
   "source": [
    "datetime.now()"
   ]
  },
  {
   "cell_type": "code",
   "execution_count": 14,
   "metadata": {},
   "outputs": [],
   "source": [
    "# Datetime conversion\n",
    "carrier_claimsDF_1['CLM_FROM_DT'] = pd.to_datetime(carrier_claimsDF_1['CLM_FROM_DT'], format='%Y%m%d', errors='coerce')\n",
    "carrier_claimsDF_1['CLM_THRU_DT'] = pd.to_datetime(carrier_claimsDF_1['CLM_THRU_DT'], format='%Y%m%d', errors='coerce')\n",
    "\n",
    "carrier_claimsDF_2['CLM_FROM_DT'] = pd.to_datetime(carrier_claimsDF_2['CLM_FROM_DT'], format='%Y%m%d', errors='coerce')\n",
    "carrier_claimsDF_2['CLM_THRU_DT'] = pd.to_datetime(carrier_claimsDF_2['CLM_THRU_DT'], format='%Y%m%d', errors='coerce')\n",
    "\n",
    "carrier_claimsDF_3['CLM_FROM_DT'] = pd.to_datetime(carrier_claimsDF_3['CLM_FROM_DT'], format='%Y%m%d', errors='coerce')\n",
    "carrier_claimsDF_3['CLM_THRU_DT'] = pd.to_datetime(carrier_claimsDF_3['CLM_THRU_DT'], format='%Y%m%d', errors='coerce')\n",
    "\n",
    "carrier_claimsDF_4['CLM_FROM_DT'] = pd.to_datetime(carrier_claimsDF_4['CLM_FROM_DT'], format='%Y%m%d', errors='coerce')\n",
    "carrier_claimsDF_4['CLM_THRU_DT'] = pd.to_datetime(carrier_claimsDF_4['CLM_THRU_DT'], format='%Y%m%d', errors='coerce')"
   ]
  },
  {
   "cell_type": "code",
   "execution_count": 17,
   "metadata": {},
   "outputs": [
    {
     "data": {
      "text/html": [
       "<div>\n",
       "<style scoped>\n",
       "    .dataframe tbody tr th:only-of-type {\n",
       "        vertical-align: middle;\n",
       "    }\n",
       "\n",
       "    .dataframe tbody tr th {\n",
       "        vertical-align: top;\n",
       "    }\n",
       "\n",
       "    .dataframe thead th {\n",
       "        text-align: right;\n",
       "    }\n",
       "</style>\n",
       "<table border=\"1\" class=\"dataframe\">\n",
       "  <thead>\n",
       "    <tr style=\"text-align: right;\">\n",
       "      <th></th>\n",
       "      <th>DESYNPUF_ID</th>\n",
       "      <th>CLM_ID</th>\n",
       "      <th>CLM_FROM_DT</th>\n",
       "      <th>CLM_THRU_DT</th>\n",
       "      <th>ICD9_DGNS_CD_1</th>\n",
       "      <th>ICD9_DGNS_CD_2</th>\n",
       "      <th>ICD9_DGNS_CD_3</th>\n",
       "      <th>ICD9_DGNS_CD_4</th>\n",
       "      <th>ICD9_DGNS_CD_5</th>\n",
       "      <th>ICD9_DGNS_CD_6</th>\n",
       "      <th>...</th>\n",
       "      <th>LINE_ICD9_DGNS_CD_4</th>\n",
       "      <th>LINE_ICD9_DGNS_CD_5</th>\n",
       "      <th>LINE_ICD9_DGNS_CD_6</th>\n",
       "      <th>LINE_ICD9_DGNS_CD_7</th>\n",
       "      <th>LINE_ICD9_DGNS_CD_8</th>\n",
       "      <th>LINE_ICD9_DGNS_CD_9</th>\n",
       "      <th>LINE_ICD9_DGNS_CD_10</th>\n",
       "      <th>LINE_ICD9_DGNS_CD_11</th>\n",
       "      <th>LINE_ICD9_DGNS_CD_12</th>\n",
       "      <th>LINE_ICD9_DGNS_CD_13</th>\n",
       "    </tr>\n",
       "  </thead>\n",
       "  <tbody>\n",
       "    <tr>\n",
       "      <td>0</td>\n",
       "      <td>2FD08D519AEB11AA</td>\n",
       "      <td>8.879030e+14</td>\n",
       "      <td>2009-07-28</td>\n",
       "      <td>2009-07-28</td>\n",
       "      <td>9053</td>\n",
       "      <td>311</td>\n",
       "      <td>V5861</td>\n",
       "      <td>NaN</td>\n",
       "      <td>NaN</td>\n",
       "      <td>NaN</td>\n",
       "      <td>...</td>\n",
       "      <td>NaN</td>\n",
       "      <td>NaN</td>\n",
       "      <td>NaN</td>\n",
       "      <td>NaN</td>\n",
       "      <td>NaN</td>\n",
       "      <td>NaN</td>\n",
       "      <td>NaN</td>\n",
       "      <td>NaN</td>\n",
       "      <td>NaN</td>\n",
       "      <td>NaN</td>\n",
       "    </tr>\n",
       "    <tr>\n",
       "      <td>1</td>\n",
       "      <td>2FD08D519AEB11AA</td>\n",
       "      <td>8.874230e+14</td>\n",
       "      <td>2009-08-09</td>\n",
       "      <td>2009-08-18</td>\n",
       "      <td>V520</td>\n",
       "      <td>486</td>\n",
       "      <td>51889</td>\n",
       "      <td>NaN</td>\n",
       "      <td>NaN</td>\n",
       "      <td>NaN</td>\n",
       "      <td>...</td>\n",
       "      <td>51881</td>\n",
       "      <td>51881</td>\n",
       "      <td>51881</td>\n",
       "      <td>NaN</td>\n",
       "      <td>NaN</td>\n",
       "      <td>NaN</td>\n",
       "      <td>NaN</td>\n",
       "      <td>NaN</td>\n",
       "      <td>NaN</td>\n",
       "      <td>NaN</td>\n",
       "    </tr>\n",
       "  </tbody>\n",
       "</table>\n",
       "<p>2 rows × 142 columns</p>\n",
       "</div>"
      ],
      "text/plain": [
       "        DESYNPUF_ID        CLM_ID CLM_FROM_DT CLM_THRU_DT ICD9_DGNS_CD_1  \\\n",
       "0  2FD08D519AEB11AA  8.879030e+14  2009-07-28  2009-07-28           9053   \n",
       "1  2FD08D519AEB11AA  8.874230e+14  2009-08-09  2009-08-18           V520   \n",
       "\n",
       "  ICD9_DGNS_CD_2 ICD9_DGNS_CD_3 ICD9_DGNS_CD_4 ICD9_DGNS_CD_5 ICD9_DGNS_CD_6  \\\n",
       "0            311          V5861            NaN            NaN            NaN   \n",
       "1            486          51889            NaN            NaN            NaN   \n",
       "\n",
       "   ... LINE_ICD9_DGNS_CD_4 LINE_ICD9_DGNS_CD_5  LINE_ICD9_DGNS_CD_6  \\\n",
       "0  ...                 NaN                 NaN                  NaN   \n",
       "1  ...               51881               51881                51881   \n",
       "\n",
       "   LINE_ICD9_DGNS_CD_7  LINE_ICD9_DGNS_CD_8  LINE_ICD9_DGNS_CD_9  \\\n",
       "0                  NaN                  NaN                  NaN   \n",
       "1                  NaN                  NaN                  NaN   \n",
       "\n",
       "   LINE_ICD9_DGNS_CD_10  LINE_ICD9_DGNS_CD_11  LINE_ICD9_DGNS_CD_12  \\\n",
       "0                   NaN                   NaN                   NaN   \n",
       "1                   NaN                   NaN                   NaN   \n",
       "\n",
       "   LINE_ICD9_DGNS_CD_13  \n",
       "0                   NaN  \n",
       "1                   NaN  \n",
       "\n",
       "[2 rows x 142 columns]"
      ]
     },
     "execution_count": 17,
     "metadata": {},
     "output_type": "execute_result"
    }
   ],
   "source": [
    "#carrier_claimsDF_4.head(2)"
   ]
  },
  {
   "cell_type": "code",
   "execution_count": 32,
   "metadata": {},
   "outputs": [
    {
     "data": {
      "text/plain": [
       "datetime.datetime(2020, 4, 30, 19, 56, 19, 135931)"
      ]
     },
     "execution_count": 32,
     "metadata": {},
     "output_type": "execute_result"
    }
   ],
   "source": [
    "datetime.now()"
   ]
  },
  {
   "cell_type": "code",
   "execution_count": 33,
   "metadata": {},
   "outputs": [],
   "source": [
    "# Datetime conversion\n",
    "carrier_claimsDF_5['CLM_FROM_DT'] = pd.to_datetime(carrier_claimsDF_5['CLM_FROM_DT'], format='%Y%m%d', errors='coerce')\n",
    "carrier_claimsDF_5['CLM_THRU_DT'] = pd.to_datetime(carrier_claimsDF_5['CLM_THRU_DT'], format='%Y%m%d', errors='coerce')\n",
    "\n",
    "carrier_claimsDF_6['CLM_FROM_DT'] = pd.to_datetime(carrier_claimsDF_6['CLM_FROM_DT'], format='%Y%m%d', errors='coerce')\n",
    "carrier_claimsDF_6['CLM_THRU_DT'] = pd.to_datetime(carrier_claimsDF_6['CLM_THRU_DT'], format='%Y%m%d', errors='coerce')\n",
    "\n",
    "carrier_claimsDF_7['CLM_FROM_DT'] = pd.to_datetime(carrier_claimsDF_7['CLM_FROM_DT'], format='%Y%m%d', errors='coerce')\n",
    "carrier_claimsDF_7['CLM_THRU_DT'] = pd.to_datetime(carrier_claimsDF_7['CLM_THRU_DT'], format='%Y%m%d', errors='coerce')\n",
    "\n",
    "carrier_claimsDF_8['CLM_FROM_DT'] = pd.to_datetime(carrier_claimsDF_8['CLM_FROM_DT'], format='%Y%m%d', errors='coerce')\n",
    "carrier_claimsDF_8['CLM_THRU_DT'] = pd.to_datetime(carrier_claimsDF_8['CLM_THRU_DT'], format='%Y%m%d', errors='coerce')"
   ]
  },
  {
   "cell_type": "code",
   "execution_count": 47,
   "metadata": {},
   "outputs": [
    {
     "data": {
      "text/plain": [
       "datetime.datetime(2020, 4, 30, 20, 15, 7, 294108)"
      ]
     },
     "execution_count": 47,
     "metadata": {},
     "output_type": "execute_result"
    }
   ],
   "source": [
    "datetime.now()"
   ]
  },
  {
   "cell_type": "code",
   "execution_count": 48,
   "metadata": {},
   "outputs": [],
   "source": [
    "# Datetime conversion\n",
    "carrier_claimsDF_9['CLM_FROM_DT'] = pd.to_datetime(carrier_claimsDF_9['CLM_FROM_DT'], format='%Y%m%d', errors='coerce')\n",
    "carrier_claimsDF_9['CLM_THRU_DT'] = pd.to_datetime(carrier_claimsDF_9['CLM_THRU_DT'], format='%Y%m%d', errors='coerce')\n",
    "\n",
    "carrier_claimsDF_10['CLM_FROM_DT'] = pd.to_datetime(carrier_claimsDF_10['CLM_FROM_DT'], format='%Y%m%d', errors='coerce')\n",
    "carrier_claimsDF_10['CLM_THRU_DT'] = pd.to_datetime(carrier_claimsDF_10['CLM_THRU_DT'], format='%Y%m%d', errors='coerce')\n",
    "\n",
    "carrier_claimsDF_11['CLM_FROM_DT'] = pd.to_datetime(carrier_claimsDF_11['CLM_FROM_DT'], format='%Y%m%d', errors='coerce')\n",
    "carrier_claimsDF_11['CLM_THRU_DT'] = pd.to_datetime(carrier_claimsDF_11['CLM_THRU_DT'], format='%Y%m%d', errors='coerce')\n",
    "\n",
    "carrier_claimsDF_12['CLM_FROM_DT'] = pd.to_datetime(carrier_claimsDF_12['CLM_FROM_DT'], format='%Y%m%d', errors='coerce')\n",
    "carrier_claimsDF_12['CLM_THRU_DT'] = pd.to_datetime(carrier_claimsDF_12['CLM_THRU_DT'], format='%Y%m%d', errors='coerce')"
   ]
  },
  {
   "cell_type": "code",
   "execution_count": 64,
   "metadata": {},
   "outputs": [
    {
     "data": {
      "text/plain": [
       "datetime.datetime(2020, 4, 30, 20, 40, 34, 97029)"
      ]
     },
     "execution_count": 64,
     "metadata": {},
     "output_type": "execute_result"
    }
   ],
   "source": [
    "datetime.now()"
   ]
  },
  {
   "cell_type": "code",
   "execution_count": 65,
   "metadata": {},
   "outputs": [],
   "source": [
    "# Datetime conversion\n",
    "carrier_claimsDF_13['CLM_FROM_DT'] = pd.to_datetime(carrier_claimsDF_13['CLM_FROM_DT'], format='%Y%m%d', errors='coerce')\n",
    "carrier_claimsDF_13['CLM_THRU_DT'] = pd.to_datetime(carrier_claimsDF_13['CLM_THRU_DT'], format='%Y%m%d', errors='coerce')\n",
    "\n",
    "carrier_claimsDF_14['CLM_FROM_DT'] = pd.to_datetime(carrier_claimsDF_14['CLM_FROM_DT'], format='%Y%m%d', errors='coerce')\n",
    "carrier_claimsDF_14['CLM_THRU_DT'] = pd.to_datetime(carrier_claimsDF_14['CLM_THRU_DT'], format='%Y%m%d', errors='coerce')\n",
    "\n",
    "carrier_claimsDF_15['CLM_FROM_DT'] = pd.to_datetime(carrier_claimsDF_15['CLM_FROM_DT'], format='%Y%m%d', errors='coerce')\n",
    "carrier_claimsDF_15['CLM_THRU_DT'] = pd.to_datetime(carrier_claimsDF_15['CLM_THRU_DT'], format='%Y%m%d', errors='coerce')\n",
    "\n",
    "carrier_claimsDF_16['CLM_FROM_DT'] = pd.to_datetime(carrier_claimsDF_16['CLM_FROM_DT'], format='%Y%m%d', errors='coerce')\n",
    "carrier_claimsDF_16['CLM_THRU_DT'] = pd.to_datetime(carrier_claimsDF_16['CLM_THRU_DT'], format='%Y%m%d', errors='coerce')"
   ]
  },
  {
   "cell_type": "code",
   "execution_count": 66,
   "metadata": {},
   "outputs": [
    {
     "data": {
      "text/plain": [
       "datetime.datetime(2020, 4, 30, 20, 40, 36, 304377)"
      ]
     },
     "execution_count": 66,
     "metadata": {},
     "output_type": "execute_result"
    }
   ],
   "source": [
    "datetime.now()"
   ]
  },
  {
   "cell_type": "markdown",
   "metadata": {},
   "source": [
    "#### Checking tables in the database before creating new tables"
   ]
  },
  {
   "cell_type": "code",
   "execution_count": null,
   "metadata": {},
   "outputs": [],
   "source": [
    "pd.read_sql(\"SELECT tablename FROM pg_catalog.pg_tables WHERE schemaname='public'\", con=engine)"
   ]
  },
  {
   "cell_type": "markdown",
   "metadata": {},
   "source": [
    "### Creating tables and loading DataFrames to the Database"
   ]
  },
  {
   "cell_type": "code",
   "execution_count": 18,
   "metadata": {},
   "outputs": [
    {
     "data": {
      "text/plain": [
       "datetime.datetime(2020, 4, 30, 19, 35, 50, 94249)"
      ]
     },
     "execution_count": 18,
     "metadata": {},
     "output_type": "execute_result"
    }
   ],
   "source": [
    "datetime.now()"
   ]
  },
  {
   "cell_type": "code",
   "execution_count": 19,
   "metadata": {},
   "outputs": [],
   "source": [
    "# Creating the table - Takes 5 mins\n",
    "\n",
    "carrier_claimsDF_1.to_sql(name = 'carrier_claims', con = engine, if_exists = 'replace', index = False) "
   ]
  },
  {
   "cell_type": "code",
   "execution_count": 20,
   "metadata": {},
   "outputs": [
    {
     "data": {
      "text/plain": [
       "datetime.datetime(2020, 4, 30, 19, 40, 59, 294551)"
      ]
     },
     "execution_count": 20,
     "metadata": {},
     "output_type": "execute_result"
    }
   ],
   "source": [
    "datetime.now()"
   ]
  },
  {
   "cell_type": "code",
   "execution_count": 21,
   "metadata": {},
   "outputs": [],
   "source": [
    "# Appending the table - Takes 5 mins\n",
    "\n",
    "carrier_claimsDF_2.to_sql(name = 'carrier_claims', con = engine, if_exists = 'append', index = False) #append"
   ]
  },
  {
   "cell_type": "code",
   "execution_count": 22,
   "metadata": {},
   "outputs": [
    {
     "data": {
      "text/plain": [
       "datetime.datetime(2020, 4, 30, 19, 45, 37, 207000)"
      ]
     },
     "execution_count": 22,
     "metadata": {},
     "output_type": "execute_result"
    }
   ],
   "source": [
    "datetime.now()"
   ]
  },
  {
   "cell_type": "code",
   "execution_count": 23,
   "metadata": {},
   "outputs": [],
   "source": [
    "# Appending the table\n",
    "\n",
    "carrier_claimsDF_3.to_sql(name = 'carrier_claims', con = engine, if_exists = 'append', index = False) #append"
   ]
  },
  {
   "cell_type": "code",
   "execution_count": 24,
   "metadata": {},
   "outputs": [
    {
     "data": {
      "text/plain": [
       "datetime.datetime(2020, 4, 30, 19, 50, 15, 138538)"
      ]
     },
     "execution_count": 24,
     "metadata": {},
     "output_type": "execute_result"
    }
   ],
   "source": [
    "datetime.now()"
   ]
  },
  {
   "cell_type": "code",
   "execution_count": 25,
   "metadata": {},
   "outputs": [],
   "source": [
    "# Appending the table\n",
    "\n",
    "carrier_claimsDF_4.to_sql(name = 'carrier_claims', con = engine, if_exists = 'append', index = False) #append"
   ]
  },
  {
   "cell_type": "code",
   "execution_count": 35,
   "metadata": {},
   "outputs": [
    {
     "data": {
      "text/plain": [
       "datetime.datetime(2020, 4, 30, 19, 56, 29, 697077)"
      ]
     },
     "execution_count": 35,
     "metadata": {},
     "output_type": "execute_result"
    }
   ],
   "source": [
    "datetime.now()"
   ]
  },
  {
   "cell_type": "code",
   "execution_count": 36,
   "metadata": {},
   "outputs": [],
   "source": [
    "# Appending the table\n",
    "\n",
    "carrier_claimsDF_5.to_sql(name = 'carrier_claims', con = engine, if_exists = 'append', index = False) #append"
   ]
  },
  {
   "cell_type": "code",
   "execution_count": 37,
   "metadata": {},
   "outputs": [
    {
     "data": {
      "text/plain": [
       "datetime.datetime(2020, 4, 30, 20, 1, 15, 73551)"
      ]
     },
     "execution_count": 37,
     "metadata": {},
     "output_type": "execute_result"
    }
   ],
   "source": [
    "datetime.now()"
   ]
  },
  {
   "cell_type": "code",
   "execution_count": 38,
   "metadata": {},
   "outputs": [],
   "source": [
    "# Appending the table\n",
    "\n",
    "carrier_claimsDF_6.to_sql(name = 'carrier_claims', con = engine, if_exists = 'append', index = False) #append"
   ]
  },
  {
   "cell_type": "code",
   "execution_count": 39,
   "metadata": {},
   "outputs": [
    {
     "data": {
      "text/plain": [
       "datetime.datetime(2020, 4, 30, 20, 5, 55, 688320)"
      ]
     },
     "execution_count": 39,
     "metadata": {},
     "output_type": "execute_result"
    }
   ],
   "source": [
    "datetime.now()"
   ]
  },
  {
   "cell_type": "code",
   "execution_count": 40,
   "metadata": {},
   "outputs": [],
   "source": [
    "# Appending the table\n",
    "\n",
    "carrier_claimsDF_7.to_sql(name = 'carrier_claims', con = engine, if_exists = 'append', index = False) #append"
   ]
  },
  {
   "cell_type": "code",
   "execution_count": 41,
   "metadata": {},
   "outputs": [
    {
     "data": {
      "text/plain": [
       "datetime.datetime(2020, 4, 30, 20, 10, 42, 69429)"
      ]
     },
     "execution_count": 41,
     "metadata": {},
     "output_type": "execute_result"
    }
   ],
   "source": [
    "datetime.now()"
   ]
  },
  {
   "cell_type": "code",
   "execution_count": 42,
   "metadata": {},
   "outputs": [],
   "source": [
    "# Appending the table\n",
    "\n",
    "carrier_claimsDF_8.to_sql(name = 'carrier_claims', con = engine, if_exists = 'append', index = False) #append"
   ]
  },
  {
   "cell_type": "code",
   "execution_count": 50,
   "metadata": {},
   "outputs": [
    {
     "data": {
      "text/plain": [
       "datetime.datetime(2020, 4, 30, 20, 17, 18, 72586)"
      ]
     },
     "execution_count": 50,
     "metadata": {},
     "output_type": "execute_result"
    }
   ],
   "source": [
    "datetime.now()"
   ]
  },
  {
   "cell_type": "code",
   "execution_count": 51,
   "metadata": {},
   "outputs": [],
   "source": [
    "# Appending the table\n",
    "\n",
    "carrier_claimsDF_9.to_sql(name = 'carrier_claims', con = engine, if_exists = 'append', index = False) #append"
   ]
  },
  {
   "cell_type": "code",
   "execution_count": 52,
   "metadata": {},
   "outputs": [
    {
     "data": {
      "text/plain": [
       "datetime.datetime(2020, 4, 30, 20, 22, 33, 2936)"
      ]
     },
     "execution_count": 52,
     "metadata": {},
     "output_type": "execute_result"
    }
   ],
   "source": [
    "datetime.now()"
   ]
  },
  {
   "cell_type": "code",
   "execution_count": 53,
   "metadata": {},
   "outputs": [],
   "source": [
    "# Appending the table\n",
    "\n",
    "carrier_claimsDF_10.to_sql(name = 'carrier_claims', con = engine, if_exists = 'append', index = False) #append"
   ]
  },
  {
   "cell_type": "code",
   "execution_count": 54,
   "metadata": {},
   "outputs": [
    {
     "data": {
      "text/plain": [
       "datetime.datetime(2020, 4, 30, 20, 27, 18, 966222)"
      ]
     },
     "execution_count": 54,
     "metadata": {},
     "output_type": "execute_result"
    }
   ],
   "source": [
    "datetime.now()"
   ]
  },
  {
   "cell_type": "code",
   "execution_count": 55,
   "metadata": {},
   "outputs": [],
   "source": [
    "# Appending the table\n",
    "\n",
    "carrier_claimsDF_11.to_sql(name = 'carrier_claims', con = engine, if_exists = 'append', index = False) #append"
   ]
  },
  {
   "cell_type": "code",
   "execution_count": 56,
   "metadata": {},
   "outputs": [
    {
     "data": {
      "text/plain": [
       "datetime.datetime(2020, 4, 30, 20, 32, 5, 386199)"
      ]
     },
     "execution_count": 56,
     "metadata": {},
     "output_type": "execute_result"
    }
   ],
   "source": [
    "datetime.now()"
   ]
  },
  {
   "cell_type": "code",
   "execution_count": 57,
   "metadata": {},
   "outputs": [],
   "source": [
    "# Appending the table\n",
    "\n",
    "carrier_claimsDF_12.to_sql(name = 'carrier_claims', con = engine, if_exists = 'append', index = False) #append"
   ]
  },
  {
   "cell_type": "code",
   "execution_count": 67,
   "metadata": {},
   "outputs": [
    {
     "data": {
      "text/plain": [
       "datetime.datetime(2020, 4, 30, 20, 40, 45, 794105)"
      ]
     },
     "execution_count": 67,
     "metadata": {},
     "output_type": "execute_result"
    }
   ],
   "source": [
    "datetime.now()"
   ]
  },
  {
   "cell_type": "code",
   "execution_count": 68,
   "metadata": {},
   "outputs": [],
   "source": [
    "# Appending the table\n",
    "\n",
    "carrier_claimsDF_13.to_sql(name = 'carrier_claims', con = engine, if_exists = 'append', index = False) #append"
   ]
  },
  {
   "cell_type": "code",
   "execution_count": 69,
   "metadata": {},
   "outputs": [
    {
     "data": {
      "text/plain": [
       "datetime.datetime(2020, 4, 30, 20, 45, 30, 673079)"
      ]
     },
     "execution_count": 69,
     "metadata": {},
     "output_type": "execute_result"
    }
   ],
   "source": [
    "datetime.now()"
   ]
  },
  {
   "cell_type": "code",
   "execution_count": 70,
   "metadata": {},
   "outputs": [],
   "source": [
    "# Appending the table\n",
    "\n",
    "carrier_claimsDF_14.to_sql(name = 'carrier_claims', con = engine, if_exists = 'append', index = False) #append"
   ]
  },
  {
   "cell_type": "code",
   "execution_count": 71,
   "metadata": {},
   "outputs": [
    {
     "data": {
      "text/plain": [
       "datetime.datetime(2020, 4, 30, 20, 50, 8, 351925)"
      ]
     },
     "execution_count": 71,
     "metadata": {},
     "output_type": "execute_result"
    }
   ],
   "source": [
    "datetime.now()"
   ]
  },
  {
   "cell_type": "code",
   "execution_count": 72,
   "metadata": {},
   "outputs": [],
   "source": [
    "# Appending the table\n",
    "\n",
    "carrier_claimsDF_15.to_sql(name = 'carrier_claims', con = engine, if_exists = 'append', index = False) #append"
   ]
  },
  {
   "cell_type": "code",
   "execution_count": 73,
   "metadata": {},
   "outputs": [
    {
     "data": {
      "text/plain": [
       "datetime.datetime(2020, 4, 30, 20, 55, 0, 226639)"
      ]
     },
     "execution_count": 73,
     "metadata": {},
     "output_type": "execute_result"
    }
   ],
   "source": [
    "datetime.now()"
   ]
  },
  {
   "cell_type": "code",
   "execution_count": 74,
   "metadata": {},
   "outputs": [],
   "source": [
    "# Appending the table\n",
    "\n",
    "carrier_claimsDF_16.to_sql(name = 'carrier_claims', con = engine, if_exists = 'append', index = False) #append"
   ]
  },
  {
   "cell_type": "code",
   "execution_count": 75,
   "metadata": {},
   "outputs": [
    {
     "data": {
      "text/plain": [
       "datetime.datetime(2020, 4, 30, 20, 59, 20, 41461)"
      ]
     },
     "execution_count": 75,
     "metadata": {},
     "output_type": "execute_result"
    }
   ],
   "source": [
    "datetime.now()"
   ]
  },
  {
   "cell_type": "code",
   "execution_count": 76,
   "metadata": {},
   "outputs": [],
   "source": [
    "conn.commit()   #engine.commit()"
   ]
  },
  {
   "cell_type": "markdown",
   "metadata": {},
   "source": [
    "#### Checking tables in the database after creating new tables"
   ]
  },
  {
   "cell_type": "code",
   "execution_count": 77,
   "metadata": {},
   "outputs": [
    {
     "data": {
      "text/html": [
       "<div>\n",
       "<style scoped>\n",
       "    .dataframe tbody tr th:only-of-type {\n",
       "        vertical-align: middle;\n",
       "    }\n",
       "\n",
       "    .dataframe tbody tr th {\n",
       "        vertical-align: top;\n",
       "    }\n",
       "\n",
       "    .dataframe thead th {\n",
       "        text-align: right;\n",
       "    }\n",
       "</style>\n",
       "<table border=\"1\" class=\"dataframe\">\n",
       "  <thead>\n",
       "    <tr style=\"text-align: right;\">\n",
       "      <th></th>\n",
       "      <th>tablename</th>\n",
       "    </tr>\n",
       "  </thead>\n",
       "  <tbody>\n",
       "    <tr>\n",
       "      <td>0</td>\n",
       "      <td>icd9_diagonsis</td>\n",
       "    </tr>\n",
       "    <tr>\n",
       "      <td>1</td>\n",
       "      <td>icd9_procedures</td>\n",
       "    </tr>\n",
       "    <tr>\n",
       "      <td>2</td>\n",
       "      <td>hcpcs</td>\n",
       "    </tr>\n",
       "    <tr>\n",
       "      <td>3</td>\n",
       "      <td>beneficiary2008</td>\n",
       "    </tr>\n",
       "    <tr>\n",
       "      <td>4</td>\n",
       "      <td>beneficiary2009</td>\n",
       "    </tr>\n",
       "    <tr>\n",
       "      <td>5</td>\n",
       "      <td>beneficiary2010</td>\n",
       "    </tr>\n",
       "    <tr>\n",
       "      <td>6</td>\n",
       "      <td>inpatient_claims</td>\n",
       "    </tr>\n",
       "    <tr>\n",
       "      <td>7</td>\n",
       "      <td>outpatient_claims</td>\n",
       "    </tr>\n",
       "    <tr>\n",
       "      <td>8</td>\n",
       "      <td>prescription_drug_events</td>\n",
       "    </tr>\n",
       "    <tr>\n",
       "      <td>9</td>\n",
       "      <td>carrier_claims</td>\n",
       "    </tr>\n",
       "  </tbody>\n",
       "</table>\n",
       "</div>"
      ],
      "text/plain": [
       "                  tablename\n",
       "0            icd9_diagonsis\n",
       "1           icd9_procedures\n",
       "2                     hcpcs\n",
       "3           beneficiary2008\n",
       "4           beneficiary2009\n",
       "5           beneficiary2010\n",
       "6          inpatient_claims\n",
       "7         outpatient_claims\n",
       "8  prescription_drug_events\n",
       "9            carrier_claims"
      ]
     },
     "execution_count": 77,
     "metadata": {},
     "output_type": "execute_result"
    }
   ],
   "source": [
    "pd.read_sql(\"SELECT tablename FROM pg_catalog.pg_tables WHERE schemaname='public'\", con=engine)"
   ]
  },
  {
   "cell_type": "code",
   "execution_count": null,
   "metadata": {},
   "outputs": [],
   "source": []
  }
 ],
 "metadata": {
  "kernelspec": {
   "display_name": "Python 3",
   "language": "python",
   "name": "python3"
  },
  "language_info": {
   "codemirror_mode": {
    "name": "ipython",
    "version": 3
   },
   "file_extension": ".py",
   "mimetype": "text/x-python",
   "name": "python",
   "nbconvert_exporter": "python",
   "pygments_lexer": "ipython3",
   "version": "3.7.4"
  },
  "toc": {
   "base_numbering": 1,
   "nav_menu": {},
   "number_sections": false,
   "sideBar": true,
   "skip_h1_title": false,
   "title_cell": "Table of Contents",
   "title_sidebar": "Contents",
   "toc_cell": false,
   "toc_position": {},
   "toc_section_display": true,
   "toc_window_display": false
  }
 },
 "nbformat": 4,
 "nbformat_minor": 4
}
