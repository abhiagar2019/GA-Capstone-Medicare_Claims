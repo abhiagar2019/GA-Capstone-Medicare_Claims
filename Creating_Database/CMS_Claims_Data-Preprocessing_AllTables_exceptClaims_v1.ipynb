{
 "cells": [
  {
   "cell_type": "code",
   "execution_count": 44,
   "metadata": {},
   "outputs": [],
   "source": [
    "import pandas as pd\n",
    "import numpy as np\n",
    "\n",
    "import time\n",
    "\n",
    "import sqlalchemy\n",
    "import psycopg2\n",
    "\n",
    "from tqdm import tqdm\n",
    "from datetime import datetime\n",
    "\n",
    "pd.set_option('display.max_columns', 500)   # to display 500 columns\n",
    "pd.set_option('display.max_rows', 500) # to display 500 rows"
   ]
  },
  {
   "cell_type": "code",
   "execution_count": 45,
   "metadata": {},
   "outputs": [],
   "source": [
    "#![](FileStructure.png)\n",
    "#from IPython.display import Image\n",
    "#Image(filename='FileStructure.png')"
   ]
  },
  {
   "cell_type": "code",
   "execution_count": 46,
   "metadata": {},
   "outputs": [],
   "source": [
    "#import psycopg2\n",
    "\n",
    "# DSN (data source name) format for database connections:  \n",
    "# [protocol / database  name]://[username]:[password]@[hostname / ip]:[port]/[database name here]\n",
    "\n",
    "# on your computer you are the user postgres (full administrative access)\n",
    "db_user = 'postgres'\n",
    "# if you need a password to access a database, put it here\n",
    "db_password = ''\n",
    "# on your computer, use localhost\n",
    "db_host = 'localhost'\n",
    "# the default port for postgres is 5432\n",
    "db_port = 5432\n",
    "# we want to connect to the northwind database\n",
    "database =  'cms_claims' # 'cms_medicare_claims'\n",
    "\n",
    "conn_str = f'postgresql://{db_user}:{db_password}@{db_host}:{db_port}/{database}'\n",
    "conn = psycopg2.connect(conn_str)"
   ]
  },
  {
   "cell_type": "code",
   "execution_count": 47,
   "metadata": {},
   "outputs": [
    {
     "data": {
      "text/html": [
       "<div>\n",
       "<style scoped>\n",
       "    .dataframe tbody tr th:only-of-type {\n",
       "        vertical-align: middle;\n",
       "    }\n",
       "\n",
       "    .dataframe tbody tr th {\n",
       "        vertical-align: top;\n",
       "    }\n",
       "\n",
       "    .dataframe thead th {\n",
       "        text-align: right;\n",
       "    }\n",
       "</style>\n",
       "<table border=\"1\" class=\"dataframe\">\n",
       "  <thead>\n",
       "    <tr style=\"text-align: right;\">\n",
       "      <th></th>\n",
       "      <th>tablename</th>\n",
       "    </tr>\n",
       "  </thead>\n",
       "  <tbody>\n",
       "    <tr>\n",
       "      <td>0</td>\n",
       "      <td>carrier_claims</td>\n",
       "    </tr>\n",
       "    <tr>\n",
       "      <td>1</td>\n",
       "      <td>hcpcs</td>\n",
       "    </tr>\n",
       "    <tr>\n",
       "      <td>2</td>\n",
       "      <td>inpatient_claims</td>\n",
       "    </tr>\n",
       "    <tr>\n",
       "      <td>3</td>\n",
       "      <td>outpatient_claims</td>\n",
       "    </tr>\n",
       "    <tr>\n",
       "      <td>4</td>\n",
       "      <td>beneficiary2009</td>\n",
       "    </tr>\n",
       "    <tr>\n",
       "      <td>5</td>\n",
       "      <td>beneficiary2008</td>\n",
       "    </tr>\n",
       "    <tr>\n",
       "      <td>6</td>\n",
       "      <td>beneficiary2010</td>\n",
       "    </tr>\n",
       "    <tr>\n",
       "      <td>7</td>\n",
       "      <td>icd9_diagonsis</td>\n",
       "    </tr>\n",
       "    <tr>\n",
       "      <td>8</td>\n",
       "      <td>icd9_procedures</td>\n",
       "    </tr>\n",
       "    <tr>\n",
       "      <td>9</td>\n",
       "      <td>prescription_drug_events</td>\n",
       "    </tr>\n",
       "  </tbody>\n",
       "</table>\n",
       "</div>"
      ],
      "text/plain": [
       "                  tablename\n",
       "0            carrier_claims\n",
       "1                     hcpcs\n",
       "2          inpatient_claims\n",
       "3         outpatient_claims\n",
       "4           beneficiary2009\n",
       "5           beneficiary2008\n",
       "6           beneficiary2010\n",
       "7            icd9_diagonsis\n",
       "8           icd9_procedures\n",
       "9  prescription_drug_events"
      ]
     },
     "execution_count": 47,
     "metadata": {},
     "output_type": "execute_result"
    }
   ],
   "source": [
    "# Check Tables in the Database\n",
    "query = \"\"\"\n",
    "SELECT tablename \n",
    "FROM pg_catalog.pg_tables \n",
    "WHERE schemaname='public'\n",
    "\"\"\"\n",
    "\n",
    "pd.read_sql(query, con=conn)"
   ]
  },
  {
   "cell_type": "code",
   "execution_count": 48,
   "metadata": {},
   "outputs": [
    {
     "data": {
      "text/plain": [
       "' query = \"\"\"\\nSELECT table_name, column_name, data_type, table_schema\\nFROM information_schema.columns\\nWHERE table_schema = \\'public\\'\\norder by table_name\\n\"\"\"\\npd.read_sql(query, con=conn) '"
      ]
     },
     "execution_count": 48,
     "metadata": {},
     "output_type": "execute_result"
    }
   ],
   "source": [
    "# to view All tables and columns\n",
    "''' query = \"\"\"\n",
    "SELECT table_name, column_name, data_type, table_schema\n",
    "FROM information_schema.columns\n",
    "WHERE table_schema = 'public'\n",
    "order by table_name\n",
    "\"\"\"\n",
    "pd.read_sql(query, con=conn) '''"
   ]
  },
  {
   "cell_type": "markdown",
   "metadata": {},
   "source": [
    "#### Function"
   ]
  },
  {
   "cell_type": "code",
   "execution_count": 49,
   "metadata": {},
   "outputs": [],
   "source": [
    "def query_func(query, conn):\n",
    "    df = pd.read_sql(query , con=conn)\n",
    "    return df"
   ]
  },
  {
   "cell_type": "markdown",
   "metadata": {},
   "source": [
    "### Data processing & cleaning (Datetime conversion) for Benefeciary tables"
   ]
  },
  {
   "cell_type": "code",
   "execution_count": 50,
   "metadata": {},
   "outputs": [
    {
     "name": "stdout",
     "output_type": "stream",
     "text": [
      "(116352, 32)\n"
     ]
    },
    {
     "data": {
      "text/html": [
       "<div>\n",
       "<style scoped>\n",
       "    .dataframe tbody tr th:only-of-type {\n",
       "        vertical-align: middle;\n",
       "    }\n",
       "\n",
       "    .dataframe tbody tr th {\n",
       "        vertical-align: top;\n",
       "    }\n",
       "\n",
       "    .dataframe thead th {\n",
       "        text-align: right;\n",
       "    }\n",
       "</style>\n",
       "<table border=\"1\" class=\"dataframe\">\n",
       "  <thead>\n",
       "    <tr style=\"text-align: right;\">\n",
       "      <th></th>\n",
       "      <th>DESYNPUF_ID</th>\n",
       "      <th>BENE_BIRTH_DT</th>\n",
       "      <th>BENE_DEATH_DT</th>\n",
       "      <th>BENE_SEX_IDENT_CD</th>\n",
       "      <th>BENE_RACE_CD</th>\n",
       "      <th>BENE_ESRD_IND</th>\n",
       "      <th>SP_STATE_CODE</th>\n",
       "      <th>BENE_COUNTY_CD</th>\n",
       "      <th>BENE_HI_CVRAGE_TOT_MONS</th>\n",
       "      <th>BENE_SMI_CVRAGE_TOT_MONS</th>\n",
       "      <th>BENE_HMO_CVRAGE_TOT_MONS</th>\n",
       "      <th>PLAN_CVRG_MOS_NUM</th>\n",
       "      <th>SP_ALZHDMTA</th>\n",
       "      <th>SP_CHF</th>\n",
       "      <th>SP_CHRNKIDN</th>\n",
       "      <th>SP_CNCR</th>\n",
       "      <th>SP_COPD</th>\n",
       "      <th>SP_DEPRESSN</th>\n",
       "      <th>SP_DIABETES</th>\n",
       "      <th>SP_ISCHMCHT</th>\n",
       "      <th>SP_OSTEOPRS</th>\n",
       "      <th>SP_RA_OA</th>\n",
       "      <th>SP_STRKETIA</th>\n",
       "      <th>MEDREIMB_IP</th>\n",
       "      <th>BENRES_IP</th>\n",
       "      <th>PPPYMT_IP</th>\n",
       "      <th>MEDREIMB_OP</th>\n",
       "      <th>BENRES_OP</th>\n",
       "      <th>PPPYMT_OP</th>\n",
       "      <th>MEDREIMB_CAR</th>\n",
       "      <th>BENRES_CAR</th>\n",
       "      <th>PPPYMT_CAR</th>\n",
       "    </tr>\n",
       "  </thead>\n",
       "  <tbody>\n",
       "    <tr>\n",
       "      <td>0</td>\n",
       "      <td>00013D2EFD8E45D1</td>\n",
       "      <td>1923-05-01</td>\n",
       "      <td>NaT</td>\n",
       "      <td>1</td>\n",
       "      <td>1</td>\n",
       "      <td>0</td>\n",
       "      <td>26</td>\n",
       "      <td>950</td>\n",
       "      <td>12</td>\n",
       "      <td>12</td>\n",
       "      <td>12</td>\n",
       "      <td>12</td>\n",
       "      <td>2</td>\n",
       "      <td>2</td>\n",
       "      <td>2</td>\n",
       "      <td>2</td>\n",
       "      <td>2</td>\n",
       "      <td>2</td>\n",
       "      <td>2</td>\n",
       "      <td>2</td>\n",
       "      <td>2</td>\n",
       "      <td>2</td>\n",
       "      <td>2</td>\n",
       "      <td>0.0</td>\n",
       "      <td>0.0</td>\n",
       "      <td>0.0</td>\n",
       "      <td>50.0</td>\n",
       "      <td>10.0</td>\n",
       "      <td>0.0</td>\n",
       "      <td>0.0</td>\n",
       "      <td>0.0</td>\n",
       "      <td>0.0</td>\n",
       "    </tr>\n",
       "  </tbody>\n",
       "</table>\n",
       "</div>"
      ],
      "text/plain": [
       "        DESYNPUF_ID BENE_BIRTH_DT BENE_DEATH_DT  BENE_SEX_IDENT_CD  \\\n",
       "0  00013D2EFD8E45D1    1923-05-01           NaT                  1   \n",
       "\n",
       "   BENE_RACE_CD BENE_ESRD_IND  SP_STATE_CODE  BENE_COUNTY_CD  \\\n",
       "0             1             0             26             950   \n",
       "\n",
       "   BENE_HI_CVRAGE_TOT_MONS  BENE_SMI_CVRAGE_TOT_MONS  \\\n",
       "0                       12                        12   \n",
       "\n",
       "   BENE_HMO_CVRAGE_TOT_MONS  PLAN_CVRG_MOS_NUM  SP_ALZHDMTA  SP_CHF  \\\n",
       "0                        12                 12            2       2   \n",
       "\n",
       "   SP_CHRNKIDN  SP_CNCR  SP_COPD  SP_DEPRESSN  SP_DIABETES  SP_ISCHMCHT  \\\n",
       "0            2        2        2            2            2            2   \n",
       "\n",
       "   SP_OSTEOPRS  SP_RA_OA  SP_STRKETIA  MEDREIMB_IP  BENRES_IP  PPPYMT_IP  \\\n",
       "0            2         2            2          0.0        0.0        0.0   \n",
       "\n",
       "   MEDREIMB_OP  BENRES_OP  PPPYMT_OP  MEDREIMB_CAR  BENRES_CAR  PPPYMT_CAR  \n",
       "0         50.0       10.0        0.0           0.0         0.0         0.0  "
      ]
     },
     "execution_count": 50,
     "metadata": {},
     "output_type": "execute_result"
    }
   ],
   "source": [
    "q = '''SELECT * FROM beneficiary2008 '''\n",
    "\n",
    "Beneficiary2008DF = query_func(q, conn)\n",
    "\n",
    "print(Beneficiary2008DF.shape)\n",
    "Beneficiary2008DF.head(1)"
   ]
  },
  {
   "cell_type": "code",
   "execution_count": 51,
   "metadata": {},
   "outputs": [
    {
     "data": {
      "text/plain": [
       "2    0.579363\n",
       "1    0.420637\n",
       "Name: SP_ISCHMCHT, dtype: float64"
      ]
     },
     "execution_count": 51,
     "metadata": {},
     "output_type": "execute_result"
    }
   ],
   "source": [
    "Beneficiary2008DF.SP_ISCHMCHT.value_counts(normalize=True)  # 1 means have disease, 2 means no disease"
   ]
  },
  {
   "cell_type": "code",
   "execution_count": 52,
   "metadata": {},
   "outputs": [
    {
     "name": "stdout",
     "output_type": "stream",
     "text": [
      "<class 'pandas._libs.tslibs.timestamps.Timestamp'>\n"
     ]
    },
    {
     "ename": "ValueError",
     "evalue": "time data '1942-05-01 00:00:00' does not match format '%Y%m%d'",
     "output_type": "error",
     "traceback": [
      "\u001b[0;31m---------------------------------------------------------------------------\u001b[0m",
      "\u001b[0;31mValueError\u001b[0m                                Traceback (most recent call last)",
      "\u001b[0;32m<ipython-input-52-e554e88f6462>\u001b[0m in \u001b[0;36m<module>\u001b[0;34m\u001b[0m\n\u001b[1;32m      1\u001b[0m \u001b[0;31m# working with date time conversion\u001b[0m\u001b[0;34m\u001b[0m\u001b[0;34m\u001b[0m\u001b[0;34m\u001b[0m\u001b[0m\n\u001b[1;32m      2\u001b[0m \u001b[0mprint\u001b[0m\u001b[0;34m(\u001b[0m\u001b[0mtype\u001b[0m\u001b[0;34m(\u001b[0m\u001b[0mBeneficiary2008DF\u001b[0m\u001b[0;34m[\u001b[0m\u001b[0;34m'BENE_BIRTH_DT'\u001b[0m\u001b[0;34m]\u001b[0m\u001b[0;34m[\u001b[0m\u001b[0;36m7\u001b[0m\u001b[0;34m]\u001b[0m\u001b[0;34m)\u001b[0m\u001b[0;34m)\u001b[0m\u001b[0;34m\u001b[0m\u001b[0;34m\u001b[0m\u001b[0m\n\u001b[0;32m----> 3\u001b[0;31m \u001b[0mprint\u001b[0m\u001b[0;34m(\u001b[0m\u001b[0mtype\u001b[0m\u001b[0;34m(\u001b[0m\u001b[0mdatetime\u001b[0m\u001b[0;34m.\u001b[0m\u001b[0mstrptime\u001b[0m\u001b[0;34m(\u001b[0m\u001b[0mstr\u001b[0m\u001b[0;34m(\u001b[0m\u001b[0mBeneficiary2008DF\u001b[0m\u001b[0;34m[\u001b[0m\u001b[0;34m'BENE_BIRTH_DT'\u001b[0m\u001b[0;34m]\u001b[0m\u001b[0;34m[\u001b[0m\u001b[0;36m100\u001b[0m\u001b[0;34m]\u001b[0m\u001b[0;34m)\u001b[0m\u001b[0;34m,\u001b[0m \u001b[0;34m'%Y%m%d'\u001b[0m\u001b[0;34m)\u001b[0m\u001b[0;34m)\u001b[0m\u001b[0;34m)\u001b[0m\u001b[0;34m\u001b[0m\u001b[0;34m\u001b[0m\u001b[0m\n\u001b[0m\u001b[1;32m      4\u001b[0m \u001b[0mprint\u001b[0m\u001b[0;34m(\u001b[0m\u001b[0mdatetime\u001b[0m\u001b[0;34m.\u001b[0m\u001b[0mstrptime\u001b[0m\u001b[0;34m(\u001b[0m\u001b[0mstr\u001b[0m\u001b[0;34m(\u001b[0m\u001b[0mBeneficiary2008DF\u001b[0m\u001b[0;34m[\u001b[0m\u001b[0;34m'BENE_BIRTH_DT'\u001b[0m\u001b[0;34m]\u001b[0m\u001b[0;34m[\u001b[0m\u001b[0;36m100\u001b[0m\u001b[0;34m]\u001b[0m\u001b[0;34m)\u001b[0m\u001b[0;34m,\u001b[0m \u001b[0;34m'%Y%m%d'\u001b[0m\u001b[0;34m)\u001b[0m\u001b[0;34m)\u001b[0m\u001b[0;34m\u001b[0m\u001b[0;34m\u001b[0m\u001b[0m\n\u001b[1;32m      5\u001b[0m \u001b[0mdatetime\u001b[0m\u001b[0;34m.\u001b[0m\u001b[0mstrptime\u001b[0m\u001b[0;34m(\u001b[0m\u001b[0mstr\u001b[0m\u001b[0;34m(\u001b[0m\u001b[0mBeneficiary2008DF\u001b[0m\u001b[0;34m[\u001b[0m\u001b[0;34m'BENE_BIRTH_DT'\u001b[0m\u001b[0;34m]\u001b[0m\u001b[0;34m[\u001b[0m\u001b[0;36m100\u001b[0m\u001b[0;34m]\u001b[0m\u001b[0;34m)\u001b[0m\u001b[0;34m,\u001b[0m \u001b[0;34m'%Y%m%d'\u001b[0m\u001b[0;34m)\u001b[0m\u001b[0;34m\u001b[0m\u001b[0;34m\u001b[0m\u001b[0m\n",
      "\u001b[0;32m~/opt/anaconda3/lib/python3.7/_strptime.py\u001b[0m in \u001b[0;36m_strptime_datetime\u001b[0;34m(cls, data_string, format)\u001b[0m\n\u001b[1;32m    575\u001b[0m     \"\"\"Return a class cls instance based on the input string and the\n\u001b[1;32m    576\u001b[0m     format string.\"\"\"\n\u001b[0;32m--> 577\u001b[0;31m     \u001b[0mtt\u001b[0m\u001b[0;34m,\u001b[0m \u001b[0mfraction\u001b[0m\u001b[0;34m,\u001b[0m \u001b[0mgmtoff_fraction\u001b[0m \u001b[0;34m=\u001b[0m \u001b[0m_strptime\u001b[0m\u001b[0;34m(\u001b[0m\u001b[0mdata_string\u001b[0m\u001b[0;34m,\u001b[0m \u001b[0mformat\u001b[0m\u001b[0;34m)\u001b[0m\u001b[0;34m\u001b[0m\u001b[0;34m\u001b[0m\u001b[0m\n\u001b[0m\u001b[1;32m    578\u001b[0m     \u001b[0mtzname\u001b[0m\u001b[0;34m,\u001b[0m \u001b[0mgmtoff\u001b[0m \u001b[0;34m=\u001b[0m \u001b[0mtt\u001b[0m\u001b[0;34m[\u001b[0m\u001b[0;34m-\u001b[0m\u001b[0;36m2\u001b[0m\u001b[0;34m:\u001b[0m\u001b[0;34m]\u001b[0m\u001b[0;34m\u001b[0m\u001b[0;34m\u001b[0m\u001b[0m\n\u001b[1;32m    579\u001b[0m     \u001b[0margs\u001b[0m \u001b[0;34m=\u001b[0m \u001b[0mtt\u001b[0m\u001b[0;34m[\u001b[0m\u001b[0;34m:\u001b[0m\u001b[0;36m6\u001b[0m\u001b[0;34m]\u001b[0m \u001b[0;34m+\u001b[0m \u001b[0;34m(\u001b[0m\u001b[0mfraction\u001b[0m\u001b[0;34m,\u001b[0m\u001b[0;34m)\u001b[0m\u001b[0;34m\u001b[0m\u001b[0;34m\u001b[0m\u001b[0m\n",
      "\u001b[0;32m~/opt/anaconda3/lib/python3.7/_strptime.py\u001b[0m in \u001b[0;36m_strptime\u001b[0;34m(data_string, format)\u001b[0m\n\u001b[1;32m    357\u001b[0m     \u001b[0;32mif\u001b[0m \u001b[0;32mnot\u001b[0m \u001b[0mfound\u001b[0m\u001b[0;34m:\u001b[0m\u001b[0;34m\u001b[0m\u001b[0;34m\u001b[0m\u001b[0m\n\u001b[1;32m    358\u001b[0m         raise ValueError(\"time data %r does not match format %r\" %\n\u001b[0;32m--> 359\u001b[0;31m                          (data_string, format))\n\u001b[0m\u001b[1;32m    360\u001b[0m     \u001b[0;32mif\u001b[0m \u001b[0mlen\u001b[0m\u001b[0;34m(\u001b[0m\u001b[0mdata_string\u001b[0m\u001b[0;34m)\u001b[0m \u001b[0;34m!=\u001b[0m \u001b[0mfound\u001b[0m\u001b[0;34m.\u001b[0m\u001b[0mend\u001b[0m\u001b[0;34m(\u001b[0m\u001b[0;34m)\u001b[0m\u001b[0;34m:\u001b[0m\u001b[0;34m\u001b[0m\u001b[0;34m\u001b[0m\u001b[0m\n\u001b[1;32m    361\u001b[0m         raise ValueError(\"unconverted data remains: %s\" %\n",
      "\u001b[0;31mValueError\u001b[0m: time data '1942-05-01 00:00:00' does not match format '%Y%m%d'"
     ]
    }
   ],
   "source": [
    "# working with date time conversion\n",
    "print(type(Beneficiary2008DF['BENE_BIRTH_DT'][7]))\n",
    "print(type(datetime.strptime(str(Beneficiary2008DF['BENE_BIRTH_DT'][100]), '%Y%m%d')))\n",
    "print(datetime.strptime(str(Beneficiary2008DF['BENE_BIRTH_DT'][100]), '%Y%m%d'))\n",
    "datetime.strptime(str(Beneficiary2008DF['BENE_BIRTH_DT'][100]), '%Y%m%d')"
   ]
  },
  {
   "cell_type": "code",
   "execution_count": null,
   "metadata": {},
   "outputs": [],
   "source": [
    "Beneficiary2008DF['BENE_BIRTH_DT'] = pd.to_datetime(Beneficiary2008DF['BENE_BIRTH_DT'], format='%Y%m%d', errors='coerce')\n",
    "Beneficiary2008DF['BENE_BIRTH_DT'].head(1)"
   ]
  },
  {
   "cell_type": "code",
   "execution_count": null,
   "metadata": {},
   "outputs": [],
   "source": [
    "Beneficiary2008DF['BENE_DEATH_DT'] = pd.to_datetime(Beneficiary2008DF['BENE_DEATH_DT'], format='%Y%m%d', errors='coerce')\n",
    "Beneficiary2008DF['BENE_DEATH_DT'].head(1)"
   ]
  },
  {
   "cell_type": "code",
   "execution_count": null,
   "metadata": {},
   "outputs": [],
   "source": [
    "q = '''SELECT * FROM beneficiary2009 '''\n",
    "\n",
    "Beneficiary2009DF = query_func(q, conn)\n",
    "\n",
    "print(Beneficiary2009DF.shape)\n",
    "Beneficiary2009DF.head(1)"
   ]
  },
  {
   "cell_type": "code",
   "execution_count": null,
   "metadata": {},
   "outputs": [],
   "source": [
    "# Converting  int to Datetime format\n",
    "Beneficiary2009DF['BENE_BIRTH_DT'] = pd.to_datetime(Beneficiary2009DF['BENE_BIRTH_DT'], format='%Y%m%d', errors='coerce')\n",
    "Beneficiary2009DF['BENE_DEATH_DT'] = pd.to_datetime(Beneficiary2009DF['BENE_DEATH_DT'], format='%Y%m%d', errors='coerce')"
   ]
  },
  {
   "cell_type": "code",
   "execution_count": null,
   "metadata": {},
   "outputs": [],
   "source": [
    "q = '''SELECT * FROM beneficiary2010 '''\n",
    "\n",
    "Beneficiary2010DF = query_func(q, conn)\n",
    "\n",
    "print(Beneficiary2010DF.shape)\n",
    "Beneficiary2010DF.head(2)"
   ]
  },
  {
   "cell_type": "code",
   "execution_count": null,
   "metadata": {},
   "outputs": [],
   "source": [
    "# Converting  int to Datetime format\n",
    "Beneficiary2010DF['BENE_BIRTH_DT'] = pd.to_datetime(Beneficiary2010DF['BENE_BIRTH_DT'], format='%Y%m%d', errors='coerce')\n",
    "Beneficiary2010DF['BENE_DEATH_DT'] = pd.to_datetime(Beneficiary2010DF['BENE_DEATH_DT'], format='%Y%m%d', errors='coerce')"
   ]
  },
  {
   "cell_type": "code",
   "execution_count": null,
   "metadata": {},
   "outputs": [],
   "source": [
    "q = '''SELECT * FROM icd9_diagonsis '''\n",
    "\n",
    "ICD9_DiagonsisDF = query_func(q, conn)\n",
    "print(ICD9_DiagonsisDF.shape)\n",
    "ICD9_DiagonsisDF.head(2)"
   ]
  },
  {
   "cell_type": "code",
   "execution_count": null,
   "metadata": {},
   "outputs": [],
   "source": [
    "ICD9_DiagonsisDF.dtypes"
   ]
  },
  {
   "cell_type": "code",
   "execution_count": null,
   "metadata": {},
   "outputs": [],
   "source": [
    "q = '''SELECT * FROM icd9_procedures '''\n",
    "\n",
    "ICD9_ProcedureDF = query_func(q, conn)\n",
    "print(ICD9_ProcedureDF.shape)\n",
    "ICD9_ProcedureDF.tail(2)"
   ]
  },
  {
   "cell_type": "code",
   "execution_count": 53,
   "metadata": {},
   "outputs": [
    {
     "data": {
      "text/plain": [
       "procedure_cd     int64\n",
       "long_desc       object\n",
       "short_desc      object\n",
       "dtype: object"
      ]
     },
     "execution_count": 53,
     "metadata": {},
     "output_type": "execute_result"
    }
   ],
   "source": [
    "ICD9_ProcedureDF.dtypes"
   ]
  },
  {
   "cell_type": "code",
   "execution_count": 54,
   "metadata": {},
   "outputs": [
    {
     "ename": "NameError",
     "evalue": "name 'ICD9_DiagonsisDF' is not defined",
     "output_type": "error",
     "traceback": [
      "\u001b[0;31m---------------------------------------------------------------------------\u001b[0m",
      "\u001b[0;31mNameError\u001b[0m                                 Traceback (most recent call last)",
      "\u001b[0;32m<ipython-input-54-b0e1d7aef8f9>\u001b[0m in \u001b[0;36m<module>\u001b[0;34m\u001b[0m\n\u001b[0;32m----> 1\u001b[0;31m \u001b[0mICD9_DiagonsisDF\u001b[0m\u001b[0;34m[\u001b[0m\u001b[0mICD9_DiagonsisDF\u001b[0m\u001b[0;34m.\u001b[0m\u001b[0mdiagnosis_cd\u001b[0m\u001b[0;34m.\u001b[0m\u001b[0mnotnull\u001b[0m\u001b[0;34m(\u001b[0m\u001b[0;34m)\u001b[0m\u001b[0;34m]\u001b[0m\u001b[0;34m.\u001b[0m\u001b[0mhead\u001b[0m\u001b[0;34m(\u001b[0m\u001b[0;36m2\u001b[0m\u001b[0;34m)\u001b[0m\u001b[0;34m\u001b[0m\u001b[0;34m\u001b[0m\u001b[0m\n\u001b[0m",
      "\u001b[0;31mNameError\u001b[0m: name 'ICD9_DiagonsisDF' is not defined"
     ]
    }
   ],
   "source": [
    "#ICD9_DiagonsisDF[ICD9_DiagonsisDF.diagnosis_cd.notnull()].head(2)"
   ]
  },
  {
   "cell_type": "code",
   "execution_count": 55,
   "metadata": {},
   "outputs": [
    {
     "name": "stdout",
     "output_type": "stream",
     "text": [
      "(15079, 2)\n"
     ]
    },
    {
     "data": {
      "text/html": [
       "<div>\n",
       "<style scoped>\n",
       "    .dataframe tbody tr th:only-of-type {\n",
       "        vertical-align: middle;\n",
       "    }\n",
       "\n",
       "    .dataframe tbody tr th {\n",
       "        vertical-align: top;\n",
       "    }\n",
       "\n",
       "    .dataframe thead th {\n",
       "        text-align: right;\n",
       "    }\n",
       "</style>\n",
       "<table border=\"1\" class=\"dataframe\">\n",
       "  <thead>\n",
       "    <tr style=\"text-align: right;\">\n",
       "      <th></th>\n",
       "      <th>HCPCS</th>\n",
       "      <th>DESCRIPTION</th>\n",
       "    </tr>\n",
       "  </thead>\n",
       "  <tbody>\n",
       "    <tr>\n",
       "      <td>0</td>\n",
       "      <td>A0021</td>\n",
       "      <td>Outside state ambulance serv</td>\n",
       "    </tr>\n",
       "    <tr>\n",
       "      <td>1</td>\n",
       "      <td>A0080</td>\n",
       "      <td>Noninterest escort in non er</td>\n",
       "    </tr>\n",
       "  </tbody>\n",
       "</table>\n",
       "</div>"
      ],
      "text/plain": [
       "   HCPCS                   DESCRIPTION\n",
       "0  A0021  Outside state ambulance serv\n",
       "1  A0080  Noninterest escort in non er"
      ]
     },
     "execution_count": 55,
     "metadata": {},
     "output_type": "execute_result"
    }
   ],
   "source": [
    "q = '''SELECT * FROM hcpcs '''\n",
    "\n",
    "hcpcsDF = query_func(q, conn)\n",
    "\n",
    "print(hcpcsDF.shape)\n",
    "hcpcsDF.head(2)"
   ]
  },
  {
   "cell_type": "code",
   "execution_count": 56,
   "metadata": {},
   "outputs": [
    {
     "data": {
      "text/plain": [
       "HCPCS          object\n",
       "DESCRIPTION    object\n",
       "dtype: object"
      ]
     },
     "execution_count": 56,
     "metadata": {},
     "output_type": "execute_result"
    }
   ],
   "source": [
    "hcpcsDF.dtypes"
   ]
  },
  {
   "cell_type": "code",
   "execution_count": 57,
   "metadata": {},
   "outputs": [
    {
     "data": {
      "text/plain": [
       "(15079, 2)"
      ]
     },
     "execution_count": 57,
     "metadata": {},
     "output_type": "execute_result"
    }
   ],
   "source": [
    "hcpcsDF.shape"
   ]
  },
  {
   "cell_type": "markdown",
   "metadata": {},
   "source": [
    "### Data processing & cleaning for outpatient_claims"
   ]
  },
  {
   "cell_type": "code",
   "execution_count": 24,
   "metadata": {},
   "outputs": [
    {
     "name": "stdout",
     "output_type": "stream",
     "text": [
      "(790790, 86)\n"
     ]
    },
    {
     "data": {
      "text/html": [
       "<div>\n",
       "<style scoped>\n",
       "    .dataframe tbody tr th:only-of-type {\n",
       "        vertical-align: middle;\n",
       "    }\n",
       "\n",
       "    .dataframe tbody tr th {\n",
       "        vertical-align: top;\n",
       "    }\n",
       "\n",
       "    .dataframe thead th {\n",
       "        text-align: right;\n",
       "    }\n",
       "</style>\n",
       "<table border=\"1\" class=\"dataframe\">\n",
       "  <thead>\n",
       "    <tr style=\"text-align: right;\">\n",
       "      <th></th>\n",
       "      <th>DESYNPUF_ID</th>\n",
       "      <th>CLM_ID</th>\n",
       "      <th>SEGMENT</th>\n",
       "      <th>CLM_FROM_DT</th>\n",
       "      <th>CLM_THRU_DT</th>\n",
       "      <th>PRVDR_NUM</th>\n",
       "      <th>CLM_PMT_AMT</th>\n",
       "      <th>NCH_PRMRY_PYR_CLM_PD_AMT</th>\n",
       "      <th>AT_PHYSN_NPI</th>\n",
       "      <th>OP_PHYSN_NPI</th>\n",
       "      <th>OT_PHYSN_NPI</th>\n",
       "      <th>NCH_BENE_BLOOD_DDCTBL_LBLTY_AM</th>\n",
       "      <th>ICD9_DGNS_CD_1</th>\n",
       "      <th>ICD9_DGNS_CD_2</th>\n",
       "      <th>ICD9_DGNS_CD_3</th>\n",
       "      <th>ICD9_DGNS_CD_4</th>\n",
       "      <th>ICD9_DGNS_CD_5</th>\n",
       "      <th>ICD9_DGNS_CD_6</th>\n",
       "      <th>ICD9_DGNS_CD_7</th>\n",
       "      <th>ICD9_DGNS_CD_8</th>\n",
       "      <th>ICD9_DGNS_CD_9</th>\n",
       "      <th>ICD9_DGNS_CD_10</th>\n",
       "      <th>ICD9_PRCDR_CD_1</th>\n",
       "      <th>ICD9_PRCDR_CD_2</th>\n",
       "      <th>ICD9_PRCDR_CD_3</th>\n",
       "      <th>ICD9_PRCDR_CD_4</th>\n",
       "      <th>ICD9_PRCDR_CD_5</th>\n",
       "      <th>ICD9_PRCDR_CD_6</th>\n",
       "      <th>NCH_BENE_PTB_DDCTBL_AMT</th>\n",
       "      <th>NCH_BENE_PTB_COINSRNC_AMT</th>\n",
       "      <th>ADMTNG_ICD9_DGNS_CD</th>\n",
       "      <th>HCPCS_CD_1</th>\n",
       "      <th>HCPCS_CD_2</th>\n",
       "      <th>HCPCS_CD_3</th>\n",
       "      <th>HCPCS_CD_4</th>\n",
       "      <th>HCPCS_CD_5</th>\n",
       "      <th>HCPCS_CD_6</th>\n",
       "      <th>HCPCS_CD_7</th>\n",
       "      <th>HCPCS_CD_8</th>\n",
       "      <th>HCPCS_CD_9</th>\n",
       "      <th>HCPCS_CD_10</th>\n",
       "      <th>HCPCS_CD_11</th>\n",
       "      <th>HCPCS_CD_12</th>\n",
       "      <th>HCPCS_CD_13</th>\n",
       "      <th>HCPCS_CD_14</th>\n",
       "      <th>HCPCS_CD_15</th>\n",
       "      <th>HCPCS_CD_16</th>\n",
       "      <th>HCPCS_CD_17</th>\n",
       "      <th>HCPCS_CD_18</th>\n",
       "      <th>HCPCS_CD_19</th>\n",
       "      <th>HCPCS_CD_20</th>\n",
       "      <th>HCPCS_CD_21</th>\n",
       "      <th>HCPCS_CD_22</th>\n",
       "      <th>HCPCS_CD_23</th>\n",
       "      <th>HCPCS_CD_24</th>\n",
       "      <th>HCPCS_CD_25</th>\n",
       "      <th>HCPCS_CD_26</th>\n",
       "      <th>HCPCS_CD_27</th>\n",
       "      <th>HCPCS_CD_28</th>\n",
       "      <th>HCPCS_CD_29</th>\n",
       "      <th>HCPCS_CD_30</th>\n",
       "      <th>HCPCS_CD_31</th>\n",
       "      <th>HCPCS_CD_32</th>\n",
       "      <th>HCPCS_CD_33</th>\n",
       "      <th>HCPCS_CD_34</th>\n",
       "      <th>HCPCS_CD_35</th>\n",
       "      <th>HCPCS_CD_36</th>\n",
       "      <th>HCPCS_CD_37</th>\n",
       "      <th>HCPCS_CD_38</th>\n",
       "      <th>HCPCS_CD_39</th>\n",
       "      <th>HCPCS_CD_40</th>\n",
       "      <th>HCPCS_CD_41</th>\n",
       "      <th>HCPCS_CD_42</th>\n",
       "      <th>HCPCS_CD_43</th>\n",
       "      <th>HCPCS_CD_44</th>\n",
       "      <th>HCPCS_CD_45</th>\n",
       "      <th>dgns_cd_1_desc</th>\n",
       "      <th>dgns_cd_2_desc</th>\n",
       "      <th>dgns_cd_3_desc</th>\n",
       "      <th>dgns_cd_4_desc</th>\n",
       "      <th>dgns_cd_5_desc</th>\n",
       "      <th>dgns_cd_6_desc</th>\n",
       "      <th>dgns_cd_7_desc</th>\n",
       "      <th>dgns_cd_8_desc</th>\n",
       "      <th>dgns_cd_9_desc</th>\n",
       "      <th>dgns_cd_10_desc</th>\n",
       "    </tr>\n",
       "  </thead>\n",
       "  <tbody>\n",
       "    <tr>\n",
       "      <td>0</td>\n",
       "      <td>00013D2EFD8E45D1</td>\n",
       "      <td>542192281063886</td>\n",
       "      <td>1</td>\n",
       "      <td>2008-09-04</td>\n",
       "      <td>2008-09-04</td>\n",
       "      <td>2600RA</td>\n",
       "      <td>50.0</td>\n",
       "      <td>0.0</td>\n",
       "      <td>4.824842e+09</td>\n",
       "      <td>NaN</td>\n",
       "      <td>NaN</td>\n",
       "      <td>0.0</td>\n",
       "      <td>V5841</td>\n",
       "      <td>None</td>\n",
       "      <td>None</td>\n",
       "      <td>None</td>\n",
       "      <td>None</td>\n",
       "      <td>None</td>\n",
       "      <td>None</td>\n",
       "      <td>None</td>\n",
       "      <td>None</td>\n",
       "      <td>None</td>\n",
       "      <td>NaN</td>\n",
       "      <td>None</td>\n",
       "      <td>None</td>\n",
       "      <td>None</td>\n",
       "      <td>None</td>\n",
       "      <td>None</td>\n",
       "      <td>0.0</td>\n",
       "      <td>10.0</td>\n",
       "      <td>V5883</td>\n",
       "      <td>85610</td>\n",
       "      <td>84153</td>\n",
       "      <td>None</td>\n",
       "      <td>None</td>\n",
       "      <td>None</td>\n",
       "      <td>None</td>\n",
       "      <td>None</td>\n",
       "      <td>None</td>\n",
       "      <td>None</td>\n",
       "      <td>None</td>\n",
       "      <td>None</td>\n",
       "      <td>None</td>\n",
       "      <td>None</td>\n",
       "      <td>None</td>\n",
       "      <td>None</td>\n",
       "      <td>None</td>\n",
       "      <td>None</td>\n",
       "      <td>None</td>\n",
       "      <td>None</td>\n",
       "      <td>None</td>\n",
       "      <td>None</td>\n",
       "      <td>None</td>\n",
       "      <td>None</td>\n",
       "      <td>None</td>\n",
       "      <td>None</td>\n",
       "      <td>None</td>\n",
       "      <td>None</td>\n",
       "      <td>None</td>\n",
       "      <td>None</td>\n",
       "      <td>None</td>\n",
       "      <td>None</td>\n",
       "      <td>None</td>\n",
       "      <td>None</td>\n",
       "      <td>None</td>\n",
       "      <td>None</td>\n",
       "      <td>None</td>\n",
       "      <td>None</td>\n",
       "      <td>None</td>\n",
       "      <td>None</td>\n",
       "      <td>None</td>\n",
       "      <td>None</td>\n",
       "      <td>None</td>\n",
       "      <td>None</td>\n",
       "      <td>None</td>\n",
       "      <td>None</td>\n",
       "      <td>Encounter for planned post-operative wound clo...</td>\n",
       "      <td>None</td>\n",
       "      <td>None</td>\n",
       "      <td>None</td>\n",
       "      <td>None</td>\n",
       "      <td>None</td>\n",
       "      <td>None</td>\n",
       "      <td>None</td>\n",
       "      <td>None</td>\n",
       "      <td>None</td>\n",
       "    </tr>\n",
       "    <tr>\n",
       "      <td>1</td>\n",
       "      <td>00016F745862898F</td>\n",
       "      <td>542272281166593</td>\n",
       "      <td>1</td>\n",
       "      <td>2009-06-02</td>\n",
       "      <td>2009-06-02</td>\n",
       "      <td>3901GS</td>\n",
       "      <td>30.0</td>\n",
       "      <td>0.0</td>\n",
       "      <td>2.963420e+09</td>\n",
       "      <td>NaN</td>\n",
       "      <td>2.963420e+09</td>\n",
       "      <td>0.0</td>\n",
       "      <td>V5832</td>\n",
       "      <td>V5861</td>\n",
       "      <td>2724</td>\n",
       "      <td>3182</td>\n",
       "      <td>V5869</td>\n",
       "      <td>42731</td>\n",
       "      <td>None</td>\n",
       "      <td>None</td>\n",
       "      <td>None</td>\n",
       "      <td>None</td>\n",
       "      <td>NaN</td>\n",
       "      <td>None</td>\n",
       "      <td>None</td>\n",
       "      <td>None</td>\n",
       "      <td>None</td>\n",
       "      <td>None</td>\n",
       "      <td>0.0</td>\n",
       "      <td>0.0</td>\n",
       "      <td>None</td>\n",
       "      <td>85610</td>\n",
       "      <td>80048</td>\n",
       "      <td>80061</td>\n",
       "      <td>82306</td>\n",
       "      <td>96372</td>\n",
       "      <td>87088</td>\n",
       "      <td>85025</td>\n",
       "      <td>80076</td>\n",
       "      <td>84075</td>\n",
       "      <td>None</td>\n",
       "      <td>None</td>\n",
       "      <td>None</td>\n",
       "      <td>None</td>\n",
       "      <td>None</td>\n",
       "      <td>None</td>\n",
       "      <td>None</td>\n",
       "      <td>None</td>\n",
       "      <td>None</td>\n",
       "      <td>None</td>\n",
       "      <td>None</td>\n",
       "      <td>None</td>\n",
       "      <td>None</td>\n",
       "      <td>None</td>\n",
       "      <td>None</td>\n",
       "      <td>None</td>\n",
       "      <td>None</td>\n",
       "      <td>None</td>\n",
       "      <td>None</td>\n",
       "      <td>None</td>\n",
       "      <td>None</td>\n",
       "      <td>None</td>\n",
       "      <td>None</td>\n",
       "      <td>None</td>\n",
       "      <td>None</td>\n",
       "      <td>None</td>\n",
       "      <td>None</td>\n",
       "      <td>None</td>\n",
       "      <td>None</td>\n",
       "      <td>None</td>\n",
       "      <td>None</td>\n",
       "      <td>None</td>\n",
       "      <td>None</td>\n",
       "      <td>None</td>\n",
       "      <td>None</td>\n",
       "      <td>None</td>\n",
       "      <td>Encounter for removal of sutures</td>\n",
       "      <td>Long-term (current) use of anticoagulants</td>\n",
       "      <td>Other and unspecified hyperlipidemia</td>\n",
       "      <td>Profound intellectual disabilities</td>\n",
       "      <td>Long-term (current) use of other medications</td>\n",
       "      <td>Atrial fibrillation</td>\n",
       "      <td>None</td>\n",
       "      <td>None</td>\n",
       "      <td>None</td>\n",
       "      <td>None</td>\n",
       "    </tr>\n",
       "    <tr>\n",
       "      <td>2</td>\n",
       "      <td>00016F745862898F</td>\n",
       "      <td>542282281644416</td>\n",
       "      <td>1</td>\n",
       "      <td>2009-06-23</td>\n",
       "      <td>2009-06-23</td>\n",
       "      <td>3939PG</td>\n",
       "      <td>30.0</td>\n",
       "      <td>0.0</td>\n",
       "      <td>5.737808e+09</td>\n",
       "      <td>NaN</td>\n",
       "      <td>5.737808e+09</td>\n",
       "      <td>0.0</td>\n",
       "      <td>9594</td>\n",
       "      <td>E9174</td>\n",
       "      <td>4019</td>\n",
       "      <td>None</td>\n",
       "      <td>None</td>\n",
       "      <td>None</td>\n",
       "      <td>None</td>\n",
       "      <td>None</td>\n",
       "      <td>None</td>\n",
       "      <td>None</td>\n",
       "      <td>NaN</td>\n",
       "      <td>None</td>\n",
       "      <td>None</td>\n",
       "      <td>None</td>\n",
       "      <td>None</td>\n",
       "      <td>None</td>\n",
       "      <td>0.0</td>\n",
       "      <td>70.0</td>\n",
       "      <td>None</td>\n",
       "      <td>71101</td>\n",
       "      <td>78480</td>\n",
       "      <td>94060</td>\n",
       "      <td>None</td>\n",
       "      <td>None</td>\n",
       "      <td>None</td>\n",
       "      <td>None</td>\n",
       "      <td>None</td>\n",
       "      <td>None</td>\n",
       "      <td>None</td>\n",
       "      <td>None</td>\n",
       "      <td>None</td>\n",
       "      <td>None</td>\n",
       "      <td>None</td>\n",
       "      <td>None</td>\n",
       "      <td>None</td>\n",
       "      <td>None</td>\n",
       "      <td>None</td>\n",
       "      <td>None</td>\n",
       "      <td>None</td>\n",
       "      <td>None</td>\n",
       "      <td>None</td>\n",
       "      <td>None</td>\n",
       "      <td>None</td>\n",
       "      <td>None</td>\n",
       "      <td>None</td>\n",
       "      <td>None</td>\n",
       "      <td>None</td>\n",
       "      <td>None</td>\n",
       "      <td>None</td>\n",
       "      <td>None</td>\n",
       "      <td>None</td>\n",
       "      <td>None</td>\n",
       "      <td>None</td>\n",
       "      <td>None</td>\n",
       "      <td>None</td>\n",
       "      <td>None</td>\n",
       "      <td>None</td>\n",
       "      <td>None</td>\n",
       "      <td>None</td>\n",
       "      <td>None</td>\n",
       "      <td>None</td>\n",
       "      <td>None</td>\n",
       "      <td>None</td>\n",
       "      <td>None</td>\n",
       "      <td>Hand, except finger injury</td>\n",
       "      <td>Striking against or struck accidentally by oth...</td>\n",
       "      <td>Unspecified essential hypertension</td>\n",
       "      <td>None</td>\n",
       "      <td>None</td>\n",
       "      <td>None</td>\n",
       "      <td>None</td>\n",
       "      <td>None</td>\n",
       "      <td>None</td>\n",
       "      <td>None</td>\n",
       "    </tr>\n",
       "  </tbody>\n",
       "</table>\n",
       "</div>"
      ],
      "text/plain": [
       "        DESYNPUF_ID           CLM_ID  SEGMENT CLM_FROM_DT CLM_THRU_DT  \\\n",
       "0  00013D2EFD8E45D1  542192281063886        1  2008-09-04  2008-09-04   \n",
       "1  00016F745862898F  542272281166593        1  2009-06-02  2009-06-02   \n",
       "2  00016F745862898F  542282281644416        1  2009-06-23  2009-06-23   \n",
       "\n",
       "  PRVDR_NUM  CLM_PMT_AMT  NCH_PRMRY_PYR_CLM_PD_AMT  AT_PHYSN_NPI  \\\n",
       "0    2600RA         50.0                       0.0  4.824842e+09   \n",
       "1    3901GS         30.0                       0.0  2.963420e+09   \n",
       "2    3939PG         30.0                       0.0  5.737808e+09   \n",
       "\n",
       "   OP_PHYSN_NPI  OT_PHYSN_NPI  NCH_BENE_BLOOD_DDCTBL_LBLTY_AM ICD9_DGNS_CD_1  \\\n",
       "0           NaN           NaN                             0.0          V5841   \n",
       "1           NaN  2.963420e+09                             0.0          V5832   \n",
       "2           NaN  5.737808e+09                             0.0           9594   \n",
       "\n",
       "  ICD9_DGNS_CD_2 ICD9_DGNS_CD_3 ICD9_DGNS_CD_4 ICD9_DGNS_CD_5 ICD9_DGNS_CD_6  \\\n",
       "0           None           None           None           None           None   \n",
       "1          V5861           2724           3182          V5869          42731   \n",
       "2          E9174           4019           None           None           None   \n",
       "\n",
       "  ICD9_DGNS_CD_7 ICD9_DGNS_CD_8 ICD9_DGNS_CD_9 ICD9_DGNS_CD_10  \\\n",
       "0           None           None           None            None   \n",
       "1           None           None           None            None   \n",
       "2           None           None           None            None   \n",
       "\n",
       "   ICD9_PRCDR_CD_1 ICD9_PRCDR_CD_2 ICD9_PRCDR_CD_3 ICD9_PRCDR_CD_4  \\\n",
       "0              NaN            None            None            None   \n",
       "1              NaN            None            None            None   \n",
       "2              NaN            None            None            None   \n",
       "\n",
       "  ICD9_PRCDR_CD_5 ICD9_PRCDR_CD_6  NCH_BENE_PTB_DDCTBL_AMT  \\\n",
       "0            None            None                      0.0   \n",
       "1            None            None                      0.0   \n",
       "2            None            None                      0.0   \n",
       "\n",
       "   NCH_BENE_PTB_COINSRNC_AMT ADMTNG_ICD9_DGNS_CD HCPCS_CD_1 HCPCS_CD_2  \\\n",
       "0                       10.0               V5883      85610      84153   \n",
       "1                        0.0                None      85610      80048   \n",
       "2                       70.0                None      71101      78480   \n",
       "\n",
       "  HCPCS_CD_3 HCPCS_CD_4 HCPCS_CD_5 HCPCS_CD_6 HCPCS_CD_7 HCPCS_CD_8  \\\n",
       "0       None       None       None       None       None       None   \n",
       "1      80061      82306      96372      87088      85025      80076   \n",
       "2      94060       None       None       None       None       None   \n",
       "\n",
       "  HCPCS_CD_9 HCPCS_CD_10 HCPCS_CD_11 HCPCS_CD_12 HCPCS_CD_13 HCPCS_CD_14  \\\n",
       "0       None        None        None        None        None        None   \n",
       "1      84075        None        None        None        None        None   \n",
       "2       None        None        None        None        None        None   \n",
       "\n",
       "  HCPCS_CD_15 HCPCS_CD_16 HCPCS_CD_17 HCPCS_CD_18 HCPCS_CD_19 HCPCS_CD_20  \\\n",
       "0        None        None        None        None        None        None   \n",
       "1        None        None        None        None        None        None   \n",
       "2        None        None        None        None        None        None   \n",
       "\n",
       "  HCPCS_CD_21 HCPCS_CD_22 HCPCS_CD_23 HCPCS_CD_24 HCPCS_CD_25 HCPCS_CD_26  \\\n",
       "0        None        None        None        None        None        None   \n",
       "1        None        None        None        None        None        None   \n",
       "2        None        None        None        None        None        None   \n",
       "\n",
       "  HCPCS_CD_27 HCPCS_CD_28 HCPCS_CD_29 HCPCS_CD_30 HCPCS_CD_31 HCPCS_CD_32  \\\n",
       "0        None        None        None        None        None        None   \n",
       "1        None        None        None        None        None        None   \n",
       "2        None        None        None        None        None        None   \n",
       "\n",
       "  HCPCS_CD_33 HCPCS_CD_34 HCPCS_CD_35 HCPCS_CD_36 HCPCS_CD_37 HCPCS_CD_38  \\\n",
       "0        None        None        None        None        None        None   \n",
       "1        None        None        None        None        None        None   \n",
       "2        None        None        None        None        None        None   \n",
       "\n",
       "  HCPCS_CD_39 HCPCS_CD_40 HCPCS_CD_41 HCPCS_CD_42 HCPCS_CD_43 HCPCS_CD_44  \\\n",
       "0        None        None        None        None        None        None   \n",
       "1        None        None        None        None        None        None   \n",
       "2        None        None        None        None        None        None   \n",
       "\n",
       "  HCPCS_CD_45                                     dgns_cd_1_desc  \\\n",
       "0        None  Encounter for planned post-operative wound clo...   \n",
       "1        None                   Encounter for removal of sutures   \n",
       "2        None                         Hand, except finger injury   \n",
       "\n",
       "                                      dgns_cd_2_desc  \\\n",
       "0                                               None   \n",
       "1          Long-term (current) use of anticoagulants   \n",
       "2  Striking against or struck accidentally by oth...   \n",
       "\n",
       "                         dgns_cd_3_desc                      dgns_cd_4_desc  \\\n",
       "0                                  None                                None   \n",
       "1  Other and unspecified hyperlipidemia  Profound intellectual disabilities   \n",
       "2    Unspecified essential hypertension                                None   \n",
       "\n",
       "                                 dgns_cd_5_desc       dgns_cd_6_desc  \\\n",
       "0                                          None                 None   \n",
       "1  Long-term (current) use of other medications  Atrial fibrillation   \n",
       "2                                          None                 None   \n",
       "\n",
       "  dgns_cd_7_desc dgns_cd_8_desc dgns_cd_9_desc dgns_cd_10_desc  \n",
       "0           None           None           None            None  \n",
       "1           None           None           None            None  \n",
       "2           None           None           None            None  "
      ]
     },
     "execution_count": 24,
     "metadata": {},
     "output_type": "execute_result"
    }
   ],
   "source": [
    "q = '''SELECT * FROM outpatient_claims '''\n",
    "\n",
    "OutpatientClaimsDF = query_func(q, conn)\n",
    "print(OutpatientClaimsDF.shape)\n",
    "OutpatientClaimsDF.head(3)"
   ]
  },
  {
   "cell_type": "code",
   "execution_count": null,
   "metadata": {},
   "outputs": [],
   "source": [
    "OutpatientClaimsDF[OutpatientClaimsDF.ICD9_PRCDR_CD_1.notnull()].head(1).index\n",
    "#OutpatientClaimsDF.ICD9_PRCDR_CD_1.dtypes"
   ]
  },
  {
   "cell_type": "code",
   "execution_count": null,
   "metadata": {},
   "outputs": [],
   "source": [
    "#OutpatientClaimsDF['ICD9_PRCDR_CD_1'] = OutpatientClaimsDF['ICD9_PRCDR_CD_1'].replace(np.nan, 0)\n",
    "# Now converting to int"
   ]
  },
  {
   "cell_type": "code",
   "execution_count": null,
   "metadata": {},
   "outputs": [],
   "source": [
    "# Working with date time conversion - Debug code\n",
    "\n",
    "print(type(OutpatientClaimsDF['CLM_FROM_DT'][7]))\n",
    "OutpatientClaimsDF['CLM_FROM_DT'][7]\n",
    "\n",
    "# To get rid of .0 in the end lets convert it to int\n",
    "print(type(int(OutpatientClaimsDF['CLM_FROM_DT'][7])))\n",
    "int(OutpatientClaimsDF['CLM_FROM_DT'][7])\n",
    "\n",
    "print(type(datetime.strptime(str(int(OutpatientClaimsDF['CLM_FROM_DT'][100])), '%Y%m%d')))\n",
    "print(datetime.strptime(str(int(OutpatientClaimsDF['CLM_FROM_DT'][100])), '%Y%m%d'))"
   ]
  },
  {
   "cell_type": "code",
   "execution_count": null,
   "metadata": {},
   "outputs": [],
   "source": [
    "# Converting to Datetime format\n",
    "\n",
    "datetime.strptime(str(int(OutpatientClaimsDF['CLM_FROM_DT'][100])), '%Y%m%d')\n",
    "OutpatientClaimsDF['CLM_FROM_DT'] = pd.to_datetime(OutpatientClaimsDF['CLM_FROM_DT'], format='%Y%m%d', errors='coerce')\n",
    "OutpatientClaimsDF['CLM_THRU_DT'] = pd.to_datetime(OutpatientClaimsDF['CLM_THRU_DT'], format='%Y%m%d', errors='coerce')"
   ]
  },
  {
   "cell_type": "code",
   "execution_count": 41,
   "metadata": {},
   "outputs": [
    {
     "name": "stdout",
     "output_type": "stream",
     "text": [
      "(790790, 86)\n"
     ]
    },
    {
     "data": {
      "text/html": [
       "<div>\n",
       "<style scoped>\n",
       "    .dataframe tbody tr th:only-of-type {\n",
       "        vertical-align: middle;\n",
       "    }\n",
       "\n",
       "    .dataframe tbody tr th {\n",
       "        vertical-align: top;\n",
       "    }\n",
       "\n",
       "    .dataframe thead th {\n",
       "        text-align: right;\n",
       "    }\n",
       "</style>\n",
       "<table border=\"1\" class=\"dataframe\">\n",
       "  <thead>\n",
       "    <tr style=\"text-align: right;\">\n",
       "      <th></th>\n",
       "      <th>DESYNPUF_ID</th>\n",
       "      <th>CLM_ID</th>\n",
       "      <th>SEGMENT</th>\n",
       "      <th>CLM_FROM_DT</th>\n",
       "      <th>CLM_THRU_DT</th>\n",
       "      <th>PRVDR_NUM</th>\n",
       "      <th>CLM_PMT_AMT</th>\n",
       "      <th>NCH_PRMRY_PYR_CLM_PD_AMT</th>\n",
       "      <th>AT_PHYSN_NPI</th>\n",
       "      <th>OP_PHYSN_NPI</th>\n",
       "      <th>OT_PHYSN_NPI</th>\n",
       "      <th>NCH_BENE_BLOOD_DDCTBL_LBLTY_AM</th>\n",
       "      <th>ICD9_DGNS_CD_1</th>\n",
       "      <th>ICD9_DGNS_CD_2</th>\n",
       "      <th>ICD9_DGNS_CD_3</th>\n",
       "      <th>ICD9_DGNS_CD_4</th>\n",
       "      <th>ICD9_DGNS_CD_5</th>\n",
       "      <th>ICD9_DGNS_CD_6</th>\n",
       "      <th>ICD9_DGNS_CD_7</th>\n",
       "      <th>ICD9_DGNS_CD_8</th>\n",
       "      <th>ICD9_DGNS_CD_9</th>\n",
       "      <th>ICD9_DGNS_CD_10</th>\n",
       "      <th>ICD9_PRCDR_CD_1</th>\n",
       "      <th>ICD9_PRCDR_CD_2</th>\n",
       "      <th>ICD9_PRCDR_CD_3</th>\n",
       "      <th>ICD9_PRCDR_CD_4</th>\n",
       "      <th>ICD9_PRCDR_CD_5</th>\n",
       "      <th>ICD9_PRCDR_CD_6</th>\n",
       "      <th>NCH_BENE_PTB_DDCTBL_AMT</th>\n",
       "      <th>NCH_BENE_PTB_COINSRNC_AMT</th>\n",
       "      <th>ADMTNG_ICD9_DGNS_CD</th>\n",
       "      <th>HCPCS_CD_1</th>\n",
       "      <th>HCPCS_CD_2</th>\n",
       "      <th>HCPCS_CD_3</th>\n",
       "      <th>HCPCS_CD_4</th>\n",
       "      <th>HCPCS_CD_5</th>\n",
       "      <th>HCPCS_CD_6</th>\n",
       "      <th>HCPCS_CD_7</th>\n",
       "      <th>HCPCS_CD_8</th>\n",
       "      <th>HCPCS_CD_9</th>\n",
       "      <th>HCPCS_CD_10</th>\n",
       "      <th>HCPCS_CD_11</th>\n",
       "      <th>HCPCS_CD_12</th>\n",
       "      <th>HCPCS_CD_13</th>\n",
       "      <th>HCPCS_CD_14</th>\n",
       "      <th>HCPCS_CD_15</th>\n",
       "      <th>HCPCS_CD_16</th>\n",
       "      <th>HCPCS_CD_17</th>\n",
       "      <th>HCPCS_CD_18</th>\n",
       "      <th>HCPCS_CD_19</th>\n",
       "      <th>HCPCS_CD_20</th>\n",
       "      <th>HCPCS_CD_21</th>\n",
       "      <th>HCPCS_CD_22</th>\n",
       "      <th>HCPCS_CD_23</th>\n",
       "      <th>HCPCS_CD_24</th>\n",
       "      <th>HCPCS_CD_25</th>\n",
       "      <th>HCPCS_CD_26</th>\n",
       "      <th>HCPCS_CD_27</th>\n",
       "      <th>HCPCS_CD_28</th>\n",
       "      <th>HCPCS_CD_29</th>\n",
       "      <th>HCPCS_CD_30</th>\n",
       "      <th>HCPCS_CD_31</th>\n",
       "      <th>HCPCS_CD_32</th>\n",
       "      <th>HCPCS_CD_33</th>\n",
       "      <th>HCPCS_CD_34</th>\n",
       "      <th>HCPCS_CD_35</th>\n",
       "      <th>HCPCS_CD_36</th>\n",
       "      <th>HCPCS_CD_37</th>\n",
       "      <th>HCPCS_CD_38</th>\n",
       "      <th>HCPCS_CD_39</th>\n",
       "      <th>HCPCS_CD_40</th>\n",
       "      <th>HCPCS_CD_41</th>\n",
       "      <th>HCPCS_CD_42</th>\n",
       "      <th>HCPCS_CD_43</th>\n",
       "      <th>HCPCS_CD_44</th>\n",
       "      <th>HCPCS_CD_45</th>\n",
       "      <th>dgns_cd_1_desc</th>\n",
       "      <th>dgns_cd_2_desc</th>\n",
       "      <th>dgns_cd_3_desc</th>\n",
       "      <th>dgns_cd_4_desc</th>\n",
       "      <th>dgns_cd_5_desc</th>\n",
       "      <th>dgns_cd_6_desc</th>\n",
       "      <th>dgns_cd_7_desc</th>\n",
       "      <th>dgns_cd_8_desc</th>\n",
       "      <th>dgns_cd_9_desc</th>\n",
       "      <th>dgns_cd_10_desc</th>\n",
       "    </tr>\n",
       "  </thead>\n",
       "  <tbody>\n",
       "    <tr>\n",
       "      <td>0</td>\n",
       "      <td>00013D2EFD8E45D1</td>\n",
       "      <td>542192281063886</td>\n",
       "      <td>1</td>\n",
       "      <td>2008-09-04</td>\n",
       "      <td>2008-09-04</td>\n",
       "      <td>2600RA</td>\n",
       "      <td>50.0</td>\n",
       "      <td>0.0</td>\n",
       "      <td>4.824842e+09</td>\n",
       "      <td>NaN</td>\n",
       "      <td>NaN</td>\n",
       "      <td>0.0</td>\n",
       "      <td>V5841</td>\n",
       "      <td>None</td>\n",
       "      <td>None</td>\n",
       "      <td>None</td>\n",
       "      <td>None</td>\n",
       "      <td>None</td>\n",
       "      <td>None</td>\n",
       "      <td>None</td>\n",
       "      <td>None</td>\n",
       "      <td>None</td>\n",
       "      <td>NaN</td>\n",
       "      <td>None</td>\n",
       "      <td>None</td>\n",
       "      <td>None</td>\n",
       "      <td>None</td>\n",
       "      <td>None</td>\n",
       "      <td>0.0</td>\n",
       "      <td>10.0</td>\n",
       "      <td>V5883</td>\n",
       "      <td>85610</td>\n",
       "      <td>84153</td>\n",
       "      <td>None</td>\n",
       "      <td>None</td>\n",
       "      <td>None</td>\n",
       "      <td>None</td>\n",
       "      <td>None</td>\n",
       "      <td>None</td>\n",
       "      <td>None</td>\n",
       "      <td>None</td>\n",
       "      <td>None</td>\n",
       "      <td>None</td>\n",
       "      <td>None</td>\n",
       "      <td>None</td>\n",
       "      <td>None</td>\n",
       "      <td>None</td>\n",
       "      <td>None</td>\n",
       "      <td>None</td>\n",
       "      <td>None</td>\n",
       "      <td>None</td>\n",
       "      <td>None</td>\n",
       "      <td>None</td>\n",
       "      <td>None</td>\n",
       "      <td>None</td>\n",
       "      <td>None</td>\n",
       "      <td>None</td>\n",
       "      <td>None</td>\n",
       "      <td>None</td>\n",
       "      <td>None</td>\n",
       "      <td>None</td>\n",
       "      <td>None</td>\n",
       "      <td>None</td>\n",
       "      <td>None</td>\n",
       "      <td>None</td>\n",
       "      <td>None</td>\n",
       "      <td>None</td>\n",
       "      <td>None</td>\n",
       "      <td>None</td>\n",
       "      <td>None</td>\n",
       "      <td>None</td>\n",
       "      <td>None</td>\n",
       "      <td>None</td>\n",
       "      <td>None</td>\n",
       "      <td>None</td>\n",
       "      <td>None</td>\n",
       "      <td>Encounter for planned post-operative wound clo...</td>\n",
       "      <td>None</td>\n",
       "      <td>None</td>\n",
       "      <td>None</td>\n",
       "      <td>None</td>\n",
       "      <td>None</td>\n",
       "      <td>None</td>\n",
       "      <td>None</td>\n",
       "      <td>None</td>\n",
       "      <td>None</td>\n",
       "    </tr>\n",
       "    <tr>\n",
       "      <td>1</td>\n",
       "      <td>00016F745862898F</td>\n",
       "      <td>542272281166593</td>\n",
       "      <td>1</td>\n",
       "      <td>2009-06-02</td>\n",
       "      <td>2009-06-02</td>\n",
       "      <td>3901GS</td>\n",
       "      <td>30.0</td>\n",
       "      <td>0.0</td>\n",
       "      <td>2.963420e+09</td>\n",
       "      <td>NaN</td>\n",
       "      <td>2.963420e+09</td>\n",
       "      <td>0.0</td>\n",
       "      <td>V5832</td>\n",
       "      <td>V5861</td>\n",
       "      <td>2724</td>\n",
       "      <td>3182</td>\n",
       "      <td>V5869</td>\n",
       "      <td>42731</td>\n",
       "      <td>None</td>\n",
       "      <td>None</td>\n",
       "      <td>None</td>\n",
       "      <td>None</td>\n",
       "      <td>NaN</td>\n",
       "      <td>None</td>\n",
       "      <td>None</td>\n",
       "      <td>None</td>\n",
       "      <td>None</td>\n",
       "      <td>None</td>\n",
       "      <td>0.0</td>\n",
       "      <td>0.0</td>\n",
       "      <td>None</td>\n",
       "      <td>85610</td>\n",
       "      <td>80048</td>\n",
       "      <td>80061</td>\n",
       "      <td>82306</td>\n",
       "      <td>96372</td>\n",
       "      <td>87088</td>\n",
       "      <td>85025</td>\n",
       "      <td>80076</td>\n",
       "      <td>84075</td>\n",
       "      <td>None</td>\n",
       "      <td>None</td>\n",
       "      <td>None</td>\n",
       "      <td>None</td>\n",
       "      <td>None</td>\n",
       "      <td>None</td>\n",
       "      <td>None</td>\n",
       "      <td>None</td>\n",
       "      <td>None</td>\n",
       "      <td>None</td>\n",
       "      <td>None</td>\n",
       "      <td>None</td>\n",
       "      <td>None</td>\n",
       "      <td>None</td>\n",
       "      <td>None</td>\n",
       "      <td>None</td>\n",
       "      <td>None</td>\n",
       "      <td>None</td>\n",
       "      <td>None</td>\n",
       "      <td>None</td>\n",
       "      <td>None</td>\n",
       "      <td>None</td>\n",
       "      <td>None</td>\n",
       "      <td>None</td>\n",
       "      <td>None</td>\n",
       "      <td>None</td>\n",
       "      <td>None</td>\n",
       "      <td>None</td>\n",
       "      <td>None</td>\n",
       "      <td>None</td>\n",
       "      <td>None</td>\n",
       "      <td>None</td>\n",
       "      <td>None</td>\n",
       "      <td>None</td>\n",
       "      <td>None</td>\n",
       "      <td>None</td>\n",
       "      <td>Encounter for removal of sutures</td>\n",
       "      <td>Long-term (current) use of anticoagulants</td>\n",
       "      <td>Other and unspecified hyperlipidemia</td>\n",
       "      <td>Profound intellectual disabilities</td>\n",
       "      <td>Long-term (current) use of other medications</td>\n",
       "      <td>Atrial fibrillation</td>\n",
       "      <td>None</td>\n",
       "      <td>None</td>\n",
       "      <td>None</td>\n",
       "      <td>None</td>\n",
       "    </tr>\n",
       "  </tbody>\n",
       "</table>\n",
       "</div>"
      ],
      "text/plain": [
       "        DESYNPUF_ID           CLM_ID  SEGMENT CLM_FROM_DT CLM_THRU_DT  \\\n",
       "0  00013D2EFD8E45D1  542192281063886        1  2008-09-04  2008-09-04   \n",
       "1  00016F745862898F  542272281166593        1  2009-06-02  2009-06-02   \n",
       "\n",
       "  PRVDR_NUM  CLM_PMT_AMT  NCH_PRMRY_PYR_CLM_PD_AMT  AT_PHYSN_NPI  \\\n",
       "0    2600RA         50.0                       0.0  4.824842e+09   \n",
       "1    3901GS         30.0                       0.0  2.963420e+09   \n",
       "\n",
       "   OP_PHYSN_NPI  OT_PHYSN_NPI  NCH_BENE_BLOOD_DDCTBL_LBLTY_AM ICD9_DGNS_CD_1  \\\n",
       "0           NaN           NaN                             0.0          V5841   \n",
       "1           NaN  2.963420e+09                             0.0          V5832   \n",
       "\n",
       "  ICD9_DGNS_CD_2 ICD9_DGNS_CD_3 ICD9_DGNS_CD_4 ICD9_DGNS_CD_5 ICD9_DGNS_CD_6  \\\n",
       "0           None           None           None           None           None   \n",
       "1          V5861           2724           3182          V5869          42731   \n",
       "\n",
       "  ICD9_DGNS_CD_7 ICD9_DGNS_CD_8 ICD9_DGNS_CD_9 ICD9_DGNS_CD_10  \\\n",
       "0           None           None           None            None   \n",
       "1           None           None           None            None   \n",
       "\n",
       "   ICD9_PRCDR_CD_1 ICD9_PRCDR_CD_2 ICD9_PRCDR_CD_3 ICD9_PRCDR_CD_4  \\\n",
       "0              NaN            None            None            None   \n",
       "1              NaN            None            None            None   \n",
       "\n",
       "  ICD9_PRCDR_CD_5 ICD9_PRCDR_CD_6  NCH_BENE_PTB_DDCTBL_AMT  \\\n",
       "0            None            None                      0.0   \n",
       "1            None            None                      0.0   \n",
       "\n",
       "   NCH_BENE_PTB_COINSRNC_AMT ADMTNG_ICD9_DGNS_CD HCPCS_CD_1 HCPCS_CD_2  \\\n",
       "0                       10.0               V5883      85610      84153   \n",
       "1                        0.0                None      85610      80048   \n",
       "\n",
       "  HCPCS_CD_3 HCPCS_CD_4 HCPCS_CD_5 HCPCS_CD_6 HCPCS_CD_7 HCPCS_CD_8  \\\n",
       "0       None       None       None       None       None       None   \n",
       "1      80061      82306      96372      87088      85025      80076   \n",
       "\n",
       "  HCPCS_CD_9 HCPCS_CD_10 HCPCS_CD_11 HCPCS_CD_12 HCPCS_CD_13 HCPCS_CD_14  \\\n",
       "0       None        None        None        None        None        None   \n",
       "1      84075        None        None        None        None        None   \n",
       "\n",
       "  HCPCS_CD_15 HCPCS_CD_16 HCPCS_CD_17 HCPCS_CD_18 HCPCS_CD_19 HCPCS_CD_20  \\\n",
       "0        None        None        None        None        None        None   \n",
       "1        None        None        None        None        None        None   \n",
       "\n",
       "  HCPCS_CD_21 HCPCS_CD_22 HCPCS_CD_23 HCPCS_CD_24 HCPCS_CD_25 HCPCS_CD_26  \\\n",
       "0        None        None        None        None        None        None   \n",
       "1        None        None        None        None        None        None   \n",
       "\n",
       "  HCPCS_CD_27 HCPCS_CD_28 HCPCS_CD_29 HCPCS_CD_30 HCPCS_CD_31 HCPCS_CD_32  \\\n",
       "0        None        None        None        None        None        None   \n",
       "1        None        None        None        None        None        None   \n",
       "\n",
       "  HCPCS_CD_33 HCPCS_CD_34 HCPCS_CD_35 HCPCS_CD_36 HCPCS_CD_37 HCPCS_CD_38  \\\n",
       "0        None        None        None        None        None        None   \n",
       "1        None        None        None        None        None        None   \n",
       "\n",
       "  HCPCS_CD_39 HCPCS_CD_40 HCPCS_CD_41 HCPCS_CD_42 HCPCS_CD_43 HCPCS_CD_44  \\\n",
       "0        None        None        None        None        None        None   \n",
       "1        None        None        None        None        None        None   \n",
       "\n",
       "  HCPCS_CD_45                                     dgns_cd_1_desc  \\\n",
       "0        None  Encounter for planned post-operative wound clo...   \n",
       "1        None                   Encounter for removal of sutures   \n",
       "\n",
       "                              dgns_cd_2_desc  \\\n",
       "0                                       None   \n",
       "1  Long-term (current) use of anticoagulants   \n",
       "\n",
       "                         dgns_cd_3_desc                      dgns_cd_4_desc  \\\n",
       "0                                  None                                None   \n",
       "1  Other and unspecified hyperlipidemia  Profound intellectual disabilities   \n",
       "\n",
       "                                 dgns_cd_5_desc       dgns_cd_6_desc  \\\n",
       "0                                          None                 None   \n",
       "1  Long-term (current) use of other medications  Atrial fibrillation   \n",
       "\n",
       "  dgns_cd_7_desc dgns_cd_8_desc dgns_cd_9_desc dgns_cd_10_desc  \n",
       "0           None           None           None            None  \n",
       "1           None           None           None            None  "
      ]
     },
     "execution_count": 41,
     "metadata": {},
     "output_type": "execute_result"
    }
   ],
   "source": [
    "print(OutpatientClaimsDF.shape)\n",
    "OutpatientClaimsDF.head(2)"
   ]
  },
  {
   "cell_type": "code",
   "execution_count": null,
   "metadata": {},
   "outputs": [],
   "source": [
    "datetime.now()"
   ]
  },
  {
   "cell_type": "markdown",
   "metadata": {},
   "source": [
    "#### Adding lookup for 10 Diagnostic codes for outpatient claims"
   ]
  },
  {
   "cell_type": "code",
   "execution_count": null,
   "metadata": {},
   "outputs": [],
   "source": [
    "q = '''SELECT  \n",
    "            OPD.\"DESYNPUF_ID\", \n",
    "            ICD9D1.long_desc as DGNS_CD_1_desc,\n",
    "            ICD9D2.long_desc as DGNS_CD_2_desc,\n",
    "            ICD9D3.long_desc as DGNS_CD_3_desc,\n",
    "            ICD9D4.long_desc as DGNS_CD_4_desc,\n",
    "            ICD9D5.long_desc as DGNS_CD_5_desc,\n",
    "            ICD9D6.long_desc as DGNS_CD_6_desc,\n",
    "            ICD9D7.long_desc as DGNS_CD_7_desc,\n",
    "            ICD9D8.long_desc as DGNS_CD_8_desc,\n",
    "            ICD9D9.long_desc as DGNS_CD_9_desc,\n",
    "            ICD9D10.long_desc as DGNS_CD_10_desc\n",
    "                 \n",
    "       FROM \n",
    "                      outpatient_claims as OPD\n",
    "            LEFT JOIN icd9_diagonsis as ICD9D1 ON OPD.\"ICD9_DGNS_CD_1\" = ICD9D1.diagnosis_cd\n",
    "            LEFT JOIN icd9_diagonsis as ICD9D2 ON OPD.\"ICD9_DGNS_CD_2\" = ICD9D2.diagnosis_cd\n",
    "            LEFT JOIN icd9_diagonsis as ICD9D3 ON OPD.\"ICD9_DGNS_CD_3\" = ICD9D3.diagnosis_cd\n",
    "            LEFT JOIN icd9_diagonsis as ICD9D4 ON OPD.\"ICD9_DGNS_CD_4\" = ICD9D4.diagnosis_cd\n",
    "            LEFT JOIN icd9_diagonsis as ICD9D5 ON OPD.\"ICD9_DGNS_CD_5\" = ICD9D5.diagnosis_cd\n",
    "            LEFT JOIN icd9_diagonsis as ICD9D6 ON OPD.\"ICD9_DGNS_CD_6\" = ICD9D6.diagnosis_cd\n",
    "            LEFT JOIN icd9_diagonsis as ICD9D7 ON OPD.\"ICD9_DGNS_CD_7\" = ICD9D7.diagnosis_cd\n",
    "            LEFT JOIN icd9_diagonsis as ICD9D8 ON OPD.\"ICD9_DGNS_CD_8\" = ICD9D8.diagnosis_cd\n",
    "            LEFT JOIN icd9_diagonsis as ICD9D9 ON OPD.\"ICD9_DGNS_CD_9\" = ICD9D9.diagnosis_cd\n",
    "            LEFT JOIN icd9_diagonsis as ICD9D10 ON OPD.\"ICD9_DGNS_CD_10\" = ICD9D10.diagnosis_cd\n",
    "            ;\n",
    "    '''\n",
    "\n",
    "ICD_descDF = query_func(q, conn)\n",
    "ICD_descDF.head(1)"
   ]
  },
  {
   "cell_type": "code",
   "execution_count": null,
   "metadata": {},
   "outputs": [],
   "source": [
    "print(ICD_descDF.shape)\n",
    "ICD_descDF.head(10)"
   ]
  },
  {
   "cell_type": "code",
   "execution_count": null,
   "metadata": {},
   "outputs": [],
   "source": [
    "print(OutpatientClaimsDF.shape)\n",
    "OutpatientClaimsDF.head(10)"
   ]
  },
  {
   "cell_type": "code",
   "execution_count": null,
   "metadata": {},
   "outputs": [],
   "source": [
    "datetime.now()"
   ]
  },
  {
   "cell_type": "markdown",
   "metadata": {},
   "source": [
    "#### Procedure code lookup for outpatient claims"
   ]
  },
  {
   "cell_type": "code",
   "execution_count": 43,
   "metadata": {},
   "outputs": [
    {
     "data": {
      "text/html": [
       "<div>\n",
       "<style scoped>\n",
       "    .dataframe tbody tr th:only-of-type {\n",
       "        vertical-align: middle;\n",
       "    }\n",
       "\n",
       "    .dataframe tbody tr th {\n",
       "        vertical-align: top;\n",
       "    }\n",
       "\n",
       "    .dataframe thead th {\n",
       "        text-align: right;\n",
       "    }\n",
       "</style>\n",
       "<table border=\"1\" class=\"dataframe\">\n",
       "  <thead>\n",
       "    <tr style=\"text-align: right;\">\n",
       "      <th></th>\n",
       "      <th>DESYNPUF_ID</th>\n",
       "      <th>prcdr_cd_1_desc</th>\n",
       "      <th>prcdr_cd_2_desc</th>\n",
       "      <th>prcdr_cd_3_desc</th>\n",
       "      <th>prcdr_cd_4_desc</th>\n",
       "      <th>prcdr_cd_5_desc</th>\n",
       "      <th>prcdr_cd_6_desc</th>\n",
       "    </tr>\n",
       "  </thead>\n",
       "  <tbody>\n",
       "    <tr>\n",
       "      <td>0</td>\n",
       "      <td>5A3F4B7A17890666</td>\n",
       "      <td>Excision of lesion or tissue of cerebral meninges</td>\n",
       "      <td>None</td>\n",
       "      <td>None</td>\n",
       "      <td>None</td>\n",
       "      <td>None</td>\n",
       "      <td>None</td>\n",
       "    </tr>\n",
       "    <tr>\n",
       "      <td>1</td>\n",
       "      <td>61944ED4227DE21A</td>\n",
       "      <td>Other operations on extraocular muscles and te...</td>\n",
       "      <td>None</td>\n",
       "      <td>None</td>\n",
       "      <td>None</td>\n",
       "      <td>None</td>\n",
       "      <td>None</td>\n",
       "    </tr>\n",
       "  </tbody>\n",
       "</table>\n",
       "</div>"
      ],
      "text/plain": [
       "        DESYNPUF_ID                                    prcdr_cd_1_desc  \\\n",
       "0  5A3F4B7A17890666  Excision of lesion or tissue of cerebral meninges   \n",
       "1  61944ED4227DE21A  Other operations on extraocular muscles and te...   \n",
       "\n",
       "  prcdr_cd_2_desc prcdr_cd_3_desc prcdr_cd_4_desc prcdr_cd_5_desc  \\\n",
       "0            None            None            None            None   \n",
       "1            None            None            None            None   \n",
       "\n",
       "  prcdr_cd_6_desc  \n",
       "0            None  \n",
       "1            None  "
      ]
     },
     "execution_count": 43,
     "metadata": {},
     "output_type": "execute_result"
    }
   ],
   "source": [
    "q = '''SELECT  \n",
    "            OPD.\"DESYNPUF_ID\", \n",
    "            ICD9P1.long_desc as PRCDR_CD_1_desc,\n",
    "            ICD9P2.long_desc as PRCDR_CD_2_desc,\n",
    "            ICD9P3.long_desc as PRCDR_CD_3_desc,\n",
    "            ICD9P4.long_desc as PRCDR_CD_4_desc,\n",
    "            ICD9P5.long_desc as PRCDR_CD_5_desc,\n",
    "            ICD9P6.long_desc as PRCDR_CD_6_desc\n",
    "                 \n",
    "       FROM \n",
    "                      outpatient_claims as OPD\n",
    "            LEFT JOIN icd9_procedures as ICD9P1 ON CAST(OPD.\"ICD9_PRCDR_CD_1\" as varchar) = CAST(ICD9P1.procedure_cd as varchar)\n",
    "            LEFT JOIN icd9_procedures as ICD9P2 ON CAST(OPD.\"ICD9_PRCDR_CD_2\" as varchar) = CAST(ICD9P2.procedure_cd as varchar)\n",
    "            LEFT JOIN icd9_procedures as ICD9P3 ON CAST(OPD.\"ICD9_PRCDR_CD_3\" as varchar) = CAST(ICD9P3.procedure_cd as varchar)\n",
    "            LEFT JOIN icd9_procedures as ICD9P4 ON CAST(OPD.\"ICD9_PRCDR_CD_4\" as varchar) = CAST(ICD9P4.procedure_cd as varchar)\n",
    "            LEFT JOIN icd9_procedures as ICD9P5 ON CAST(OPD.\"ICD9_PRCDR_CD_5\" as varchar) = CAST(ICD9P5.procedure_cd as varchar)\n",
    "            LEFT JOIN icd9_procedures as ICD9P6 ON CAST(OPD.\"ICD9_PRCDR_CD_6\" as varchar) = CAST(ICD9P6.procedure_cd as varchar)\n",
    "            ;\n",
    "    '''\n",
    "\n",
    "ICDProc_descDF_outpt = query_func(q, conn)\n",
    "ICDProc_descDF_outpt.head(2)"
   ]
  },
  {
   "cell_type": "code",
   "execution_count": null,
   "metadata": {},
   "outputs": [],
   "source": []
  },
  {
   "cell_type": "code",
   "execution_count": null,
   "metadata": {},
   "outputs": [],
   "source": []
  },
  {
   "cell_type": "code",
   "execution_count": null,
   "metadata": {},
   "outputs": [],
   "source": []
  },
  {
   "cell_type": "code",
   "execution_count": null,
   "metadata": {},
   "outputs": [],
   "source": []
  },
  {
   "cell_type": "markdown",
   "metadata": {},
   "source": [
    "#### HCPCS code lookup for outpatient claims"
   ]
  },
  {
   "cell_type": "code",
   "execution_count": null,
   "metadata": {},
   "outputs": [],
   "source": [
    "datetime.now()"
   ]
  },
  {
   "cell_type": "code",
   "execution_count": null,
   "metadata": {},
   "outputs": [],
   "source": [
    "q = '''SELECT  \n",
    "            OPD.\"DESYNPUF_ID\", \n",
    "            h1.\"DESCRIPTION\" as hcpcs_CD_1_desc,\n",
    "            h2.\"DESCRIPTION\" as hcpcs_CD_2_desc,\n",
    "            h3.\"DESCRIPTION\" as hcpcs_CD_3_desc,\n",
    "            h4.\"DESCRIPTION\" as hcpcs_CD_4_desc,\n",
    "            h5.\"DESCRIPTION\" as hcpcs_CD_5_desc,\n",
    "            h6.\"DESCRIPTION\" as hcpcs_CD_6_desc,\n",
    "            h7.\"DESCRIPTION\" as hcpcs_CD_7_desc,\n",
    "            h8.\"DESCRIPTION\" as hcpcs_CD_8_desc,\n",
    "            h9.\"DESCRIPTION\" as hcpcs_CD_9_desc,\n",
    "            h10.\"DESCRIPTION\" as hcpcs_CD_10_desc,\n",
    "            h11.\"DESCRIPTION\" as hcpcs_CD_11_desc\n",
    "           \n",
    "       FROM \n",
    "                      outpatient_claims as OPD\n",
    "            LEFT JOIN hcpcs as h1 ON OPD.\"HCPCS_CD_1\" = h1.\"HCPCS\"\n",
    "            LEFT JOIN hcpcs as h2 ON OPD.\"HCPCS_CD_2\" = h2.\"HCPCS\"\n",
    "            LEFT JOIN hcpcs as h3 ON OPD.\"HCPCS_CD_3\" = h3.\"HCPCS\"\n",
    "            LEFT JOIN hcpcs as h4 ON OPD.\"HCPCS_CD_4\" = h4.\"HCPCS\"\n",
    "            LEFT JOIN hcpcs as h5 ON OPD.\"HCPCS_CD_5\" = h5.\"HCPCS\"\n",
    "            LEFT JOIN hcpcs as h6 ON OPD.\"HCPCS_CD_6\" = h6.\"HCPCS\"\n",
    "            LEFT JOIN hcpcs as h7 ON OPD.\"HCPCS_CD_7\" = h7.\"HCPCS\"\n",
    "            LEFT JOIN hcpcs as h8 ON OPD.\"HCPCS_CD_8\" = h8.\"HCPCS\"\n",
    "            LEFT JOIN hcpcs as h9 ON OPD.\"HCPCS_CD_9\" = h9.\"HCPCS\"\n",
    "            LEFT JOIN hcpcs as h10 ON OPD.\"HCPCS_CD_10\" = h10.\"HCPCS\"\n",
    "            LEFT JOIN hcpcs as h11 ON OPD.\"HCPCS_CD_11\" = h11.\"HCPCS\"\n",
    "           \n",
    "            ;\n",
    "    '''\n",
    "\n",
    "hcpcsDF = query_func(q, conn)\n",
    "hcpcsDF.head(10)"
   ]
  },
  {
   "cell_type": "code",
   "execution_count": null,
   "metadata": {},
   "outputs": [],
   "source": [
    "#hcpcsDF.head(15)"
   ]
  },
  {
   "cell_type": "markdown",
   "metadata": {},
   "source": [
    "#### Merging ICD diagnostic description to outpatient claims DF"
   ]
  },
  {
   "cell_type": "code",
   "execution_count": null,
   "metadata": {},
   "outputs": [],
   "source": [
    "OutpatientClaimsDF.index"
   ]
  },
  {
   "cell_type": "code",
   "execution_count": null,
   "metadata": {},
   "outputs": [],
   "source": [
    "ICD_descDF.index"
   ]
  },
  {
   "cell_type": "code",
   "execution_count": null,
   "metadata": {},
   "outputs": [],
   "source": [
    "#OutpatientClaimsDF = pd.merge(OutpatientClaimsDF, ICD_descDF, on='DESYNPUF_ID')"
   ]
  },
  {
   "cell_type": "code",
   "execution_count": null,
   "metadata": {},
   "outputs": [],
   "source": [
    "OutpatientClaimsDF = OutpatientClaimsDF.merge(ICD_descDF, on='DESYNPUF_ID', \n",
    "                                              how='inner',  left_index=True, right_index=True)"
   ]
  },
  {
   "cell_type": "code",
   "execution_count": null,
   "metadata": {},
   "outputs": [],
   "source": [
    "datetime.now()  "
   ]
  },
  {
   "cell_type": "code",
   "execution_count": null,
   "metadata": {},
   "outputs": [],
   "source": [
    "print(OutpatientClaimsDF.shape)\n",
    "OutpatientClaimsDF.head(2)"
   ]
  },
  {
   "cell_type": "markdown",
   "metadata": {},
   "source": [
    "### Data processing & cleaning for inpatient_claims"
   ]
  },
  {
   "cell_type": "code",
   "execution_count": 25,
   "metadata": {},
   "outputs": [
    {
     "name": "stdout",
     "output_type": "stream",
     "text": [
      "(178561, 101)\n"
     ]
    },
    {
     "data": {
      "text/html": [
       "<div>\n",
       "<style scoped>\n",
       "    .dataframe tbody tr th:only-of-type {\n",
       "        vertical-align: middle;\n",
       "    }\n",
       "\n",
       "    .dataframe tbody tr th {\n",
       "        vertical-align: top;\n",
       "    }\n",
       "\n",
       "    .dataframe thead th {\n",
       "        text-align: right;\n",
       "    }\n",
       "</style>\n",
       "<table border=\"1\" class=\"dataframe\">\n",
       "  <thead>\n",
       "    <tr style=\"text-align: right;\">\n",
       "      <th></th>\n",
       "      <th>DESYNPUF_ID</th>\n",
       "      <th>CLM_ID</th>\n",
       "      <th>SEGMENT</th>\n",
       "      <th>CLM_FROM_DT</th>\n",
       "      <th>CLM_THRU_DT</th>\n",
       "      <th>PRVDR_NUM</th>\n",
       "      <th>CLM_PMT_AMT</th>\n",
       "      <th>NCH_PRMRY_PYR_CLM_PD_AMT</th>\n",
       "      <th>AT_PHYSN_NPI</th>\n",
       "      <th>OP_PHYSN_NPI</th>\n",
       "      <th>OT_PHYSN_NPI</th>\n",
       "      <th>CLM_ADMSN_DT</th>\n",
       "      <th>ADMTNG_ICD9_DGNS_CD</th>\n",
       "      <th>CLM_PASS_THRU_PER_DIEM_AMT</th>\n",
       "      <th>NCH_BENE_IP_DDCTBL_AMT</th>\n",
       "      <th>NCH_BENE_PTA_COINSRNC_LBLTY_AM</th>\n",
       "      <th>NCH_BENE_BLOOD_DDCTBL_LBLTY_AM</th>\n",
       "      <th>CLM_UTLZTN_DAY_CNT</th>\n",
       "      <th>NCH_BENE_DSCHRG_DT</th>\n",
       "      <th>CLM_DRG_CD</th>\n",
       "      <th>ICD9_DGNS_CD_1</th>\n",
       "      <th>ICD9_DGNS_CD_2</th>\n",
       "      <th>ICD9_DGNS_CD_3</th>\n",
       "      <th>ICD9_DGNS_CD_4</th>\n",
       "      <th>ICD9_DGNS_CD_5</th>\n",
       "      <th>ICD9_DGNS_CD_6</th>\n",
       "      <th>ICD9_DGNS_CD_7</th>\n",
       "      <th>ICD9_DGNS_CD_8</th>\n",
       "      <th>ICD9_DGNS_CD_9</th>\n",
       "      <th>ICD9_DGNS_CD_10</th>\n",
       "      <th>ICD9_PRCDR_CD_1</th>\n",
       "      <th>ICD9_PRCDR_CD_2</th>\n",
       "      <th>ICD9_PRCDR_CD_3</th>\n",
       "      <th>ICD9_PRCDR_CD_4</th>\n",
       "      <th>ICD9_PRCDR_CD_5</th>\n",
       "      <th>ICD9_PRCDR_CD_6</th>\n",
       "      <th>HCPCS_CD_1</th>\n",
       "      <th>HCPCS_CD_2</th>\n",
       "      <th>HCPCS_CD_3</th>\n",
       "      <th>HCPCS_CD_4</th>\n",
       "      <th>HCPCS_CD_5</th>\n",
       "      <th>HCPCS_CD_6</th>\n",
       "      <th>HCPCS_CD_7</th>\n",
       "      <th>HCPCS_CD_8</th>\n",
       "      <th>HCPCS_CD_9</th>\n",
       "      <th>HCPCS_CD_10</th>\n",
       "      <th>HCPCS_CD_11</th>\n",
       "      <th>HCPCS_CD_12</th>\n",
       "      <th>HCPCS_CD_13</th>\n",
       "      <th>HCPCS_CD_14</th>\n",
       "      <th>HCPCS_CD_15</th>\n",
       "      <th>HCPCS_CD_16</th>\n",
       "      <th>HCPCS_CD_17</th>\n",
       "      <th>HCPCS_CD_18</th>\n",
       "      <th>HCPCS_CD_19</th>\n",
       "      <th>HCPCS_CD_20</th>\n",
       "      <th>HCPCS_CD_21</th>\n",
       "      <th>HCPCS_CD_22</th>\n",
       "      <th>HCPCS_CD_23</th>\n",
       "      <th>HCPCS_CD_24</th>\n",
       "      <th>HCPCS_CD_25</th>\n",
       "      <th>HCPCS_CD_26</th>\n",
       "      <th>HCPCS_CD_27</th>\n",
       "      <th>HCPCS_CD_28</th>\n",
       "      <th>HCPCS_CD_29</th>\n",
       "      <th>HCPCS_CD_30</th>\n",
       "      <th>HCPCS_CD_31</th>\n",
       "      <th>HCPCS_CD_32</th>\n",
       "      <th>HCPCS_CD_33</th>\n",
       "      <th>HCPCS_CD_34</th>\n",
       "      <th>HCPCS_CD_35</th>\n",
       "      <th>HCPCS_CD_36</th>\n",
       "      <th>HCPCS_CD_37</th>\n",
       "      <th>HCPCS_CD_38</th>\n",
       "      <th>HCPCS_CD_39</th>\n",
       "      <th>HCPCS_CD_40</th>\n",
       "      <th>HCPCS_CD_41</th>\n",
       "      <th>HCPCS_CD_42</th>\n",
       "      <th>HCPCS_CD_43</th>\n",
       "      <th>HCPCS_CD_44</th>\n",
       "      <th>HCPCS_CD_45</th>\n",
       "      <th>dgns_cd_1_desc_x</th>\n",
       "      <th>dgns_cd_2_desc_x</th>\n",
       "      <th>dgns_cd_3_desc_x</th>\n",
       "      <th>dgns_cd_4_desc_x</th>\n",
       "      <th>dgns_cd_5_desc_x</th>\n",
       "      <th>dgns_cd_6_desc_x</th>\n",
       "      <th>dgns_cd_7_desc_x</th>\n",
       "      <th>dgns_cd_8_desc_x</th>\n",
       "      <th>dgns_cd_9_desc_x</th>\n",
       "      <th>dgns_cd_10_desc_x</th>\n",
       "      <th>dgns_cd_1_desc_y</th>\n",
       "      <th>dgns_cd_2_desc_y</th>\n",
       "      <th>dgns_cd_3_desc_y</th>\n",
       "      <th>dgns_cd_4_desc_y</th>\n",
       "      <th>dgns_cd_5_desc_y</th>\n",
       "      <th>dgns_cd_6_desc_y</th>\n",
       "      <th>dgns_cd_7_desc_y</th>\n",
       "      <th>dgns_cd_8_desc_y</th>\n",
       "      <th>dgns_cd_9_desc_y</th>\n",
       "      <th>dgns_cd_10_desc_y</th>\n",
       "    </tr>\n",
       "  </thead>\n",
       "  <tbody>\n",
       "    <tr>\n",
       "      <td>0</td>\n",
       "      <td>00013D2EFD8E45D1</td>\n",
       "      <td>196661176988405</td>\n",
       "      <td>1</td>\n",
       "      <td>2010-03-12</td>\n",
       "      <td>2010-03-13</td>\n",
       "      <td>2600GD</td>\n",
       "      <td>4000.0</td>\n",
       "      <td>0.0</td>\n",
       "      <td>3.139084e+09</td>\n",
       "      <td>NaN</td>\n",
       "      <td>NaN</td>\n",
       "      <td>20100312</td>\n",
       "      <td>4580</td>\n",
       "      <td>0.0</td>\n",
       "      <td>1100.0</td>\n",
       "      <td>0.0</td>\n",
       "      <td>0.0</td>\n",
       "      <td>1.0</td>\n",
       "      <td>20100313</td>\n",
       "      <td>217</td>\n",
       "      <td>7802</td>\n",
       "      <td>78820</td>\n",
       "      <td>V4501</td>\n",
       "      <td>4280</td>\n",
       "      <td>2720</td>\n",
       "      <td>4019</td>\n",
       "      <td>V4502</td>\n",
       "      <td>73300</td>\n",
       "      <td>E9330</td>\n",
       "      <td>None</td>\n",
       "      <td>NaN</td>\n",
       "      <td>None</td>\n",
       "      <td>None</td>\n",
       "      <td>None</td>\n",
       "      <td>None</td>\n",
       "      <td>None</td>\n",
       "      <td>None</td>\n",
       "      <td>None</td>\n",
       "      <td>None</td>\n",
       "      <td>None</td>\n",
       "      <td>None</td>\n",
       "      <td>None</td>\n",
       "      <td>None</td>\n",
       "      <td>None</td>\n",
       "      <td>None</td>\n",
       "      <td>None</td>\n",
       "      <td>None</td>\n",
       "      <td>None</td>\n",
       "      <td>None</td>\n",
       "      <td>None</td>\n",
       "      <td>None</td>\n",
       "      <td>None</td>\n",
       "      <td>None</td>\n",
       "      <td>None</td>\n",
       "      <td>None</td>\n",
       "      <td>None</td>\n",
       "      <td>None</td>\n",
       "      <td>None</td>\n",
       "      <td>None</td>\n",
       "      <td>None</td>\n",
       "      <td>None</td>\n",
       "      <td>None</td>\n",
       "      <td>None</td>\n",
       "      <td>None</td>\n",
       "      <td>None</td>\n",
       "      <td>None</td>\n",
       "      <td>None</td>\n",
       "      <td>None</td>\n",
       "      <td>None</td>\n",
       "      <td>None</td>\n",
       "      <td>None</td>\n",
       "      <td>None</td>\n",
       "      <td>None</td>\n",
       "      <td>None</td>\n",
       "      <td>None</td>\n",
       "      <td>None</td>\n",
       "      <td>None</td>\n",
       "      <td>None</td>\n",
       "      <td>None</td>\n",
       "      <td>None</td>\n",
       "      <td>None</td>\n",
       "      <td>Syncope and collapse</td>\n",
       "      <td>Retention of urine, unspecified</td>\n",
       "      <td>Cardiac pacemaker in situ</td>\n",
       "      <td>Congestive heart failure, unspecified</td>\n",
       "      <td>Pure hypercholesterolemia</td>\n",
       "      <td>Unspecified essential hypertension</td>\n",
       "      <td>Automatic implantable cardiac defibrillator in...</td>\n",
       "      <td>Osteoporosis, unspecified</td>\n",
       "      <td>Antiallergic and antiemetic drugs causing adve...</td>\n",
       "      <td>None</td>\n",
       "      <td>Syncope and collapse</td>\n",
       "      <td>Retention of urine, unspecified</td>\n",
       "      <td>Cardiac pacemaker in situ</td>\n",
       "      <td>Congestive heart failure, unspecified</td>\n",
       "      <td>Pure hypercholesterolemia</td>\n",
       "      <td>Unspecified essential hypertension</td>\n",
       "      <td>Automatic implantable cardiac defibrillator in...</td>\n",
       "      <td>Osteoporosis, unspecified</td>\n",
       "      <td>Antiallergic and antiemetic drugs causing adve...</td>\n",
       "      <td>None</td>\n",
       "    </tr>\n",
       "    <tr>\n",
       "      <td>1</td>\n",
       "      <td>00016F745862898F</td>\n",
       "      <td>196201177000368</td>\n",
       "      <td>1</td>\n",
       "      <td>2009-04-12</td>\n",
       "      <td>2009-04-18</td>\n",
       "      <td>3900MB</td>\n",
       "      <td>26000.0</td>\n",
       "      <td>0.0</td>\n",
       "      <td>6.476809e+09</td>\n",
       "      <td>NaN</td>\n",
       "      <td>NaN</td>\n",
       "      <td>20090412</td>\n",
       "      <td>7866</td>\n",
       "      <td>0.0</td>\n",
       "      <td>1068.0</td>\n",
       "      <td>0.0</td>\n",
       "      <td>0.0</td>\n",
       "      <td>6.0</td>\n",
       "      <td>20090418</td>\n",
       "      <td>201</td>\n",
       "      <td>1970</td>\n",
       "      <td>4019</td>\n",
       "      <td>5853</td>\n",
       "      <td>7843</td>\n",
       "      <td>2768</td>\n",
       "      <td>71590</td>\n",
       "      <td>2724</td>\n",
       "      <td>19889</td>\n",
       "      <td>5849</td>\n",
       "      <td>None</td>\n",
       "      <td>NaN</td>\n",
       "      <td>None</td>\n",
       "      <td>None</td>\n",
       "      <td>None</td>\n",
       "      <td>None</td>\n",
       "      <td>None</td>\n",
       "      <td>None</td>\n",
       "      <td>None</td>\n",
       "      <td>None</td>\n",
       "      <td>None</td>\n",
       "      <td>None</td>\n",
       "      <td>None</td>\n",
       "      <td>None</td>\n",
       "      <td>None</td>\n",
       "      <td>None</td>\n",
       "      <td>None</td>\n",
       "      <td>None</td>\n",
       "      <td>None</td>\n",
       "      <td>None</td>\n",
       "      <td>None</td>\n",
       "      <td>None</td>\n",
       "      <td>None</td>\n",
       "      <td>None</td>\n",
       "      <td>None</td>\n",
       "      <td>None</td>\n",
       "      <td>None</td>\n",
       "      <td>None</td>\n",
       "      <td>None</td>\n",
       "      <td>None</td>\n",
       "      <td>None</td>\n",
       "      <td>None</td>\n",
       "      <td>None</td>\n",
       "      <td>None</td>\n",
       "      <td>None</td>\n",
       "      <td>None</td>\n",
       "      <td>None</td>\n",
       "      <td>None</td>\n",
       "      <td>None</td>\n",
       "      <td>None</td>\n",
       "      <td>None</td>\n",
       "      <td>None</td>\n",
       "      <td>None</td>\n",
       "      <td>None</td>\n",
       "      <td>None</td>\n",
       "      <td>None</td>\n",
       "      <td>None</td>\n",
       "      <td>None</td>\n",
       "      <td>None</td>\n",
       "      <td>None</td>\n",
       "      <td>None</td>\n",
       "      <td>None</td>\n",
       "      <td>Secondary malignant neoplasm of lung</td>\n",
       "      <td>Unspecified essential hypertension</td>\n",
       "      <td>Chronic kidney disease, Stage III (moderate)</td>\n",
       "      <td>Aphasia</td>\n",
       "      <td>Hypopotassemia</td>\n",
       "      <td>Osteoarthrosis, unspecified whether generalize...</td>\n",
       "      <td>Other and unspecified hyperlipidemia</td>\n",
       "      <td>Secondary malignant neoplasm of other specifie...</td>\n",
       "      <td>Acute kidney failure, unspecified</td>\n",
       "      <td>None</td>\n",
       "      <td>Secondary malignant neoplasm of lung</td>\n",
       "      <td>Unspecified essential hypertension</td>\n",
       "      <td>Chronic kidney disease, Stage III (moderate)</td>\n",
       "      <td>Aphasia</td>\n",
       "      <td>Hypopotassemia</td>\n",
       "      <td>Osteoarthrosis, unspecified whether generalize...</td>\n",
       "      <td>Other and unspecified hyperlipidemia</td>\n",
       "      <td>Secondary malignant neoplasm of other specifie...</td>\n",
       "      <td>Acute kidney failure, unspecified</td>\n",
       "      <td>None</td>\n",
       "    </tr>\n",
       "  </tbody>\n",
       "</table>\n",
       "</div>"
      ],
      "text/plain": [
       "        DESYNPUF_ID           CLM_ID  SEGMENT CLM_FROM_DT CLM_THRU_DT  \\\n",
       "0  00013D2EFD8E45D1  196661176988405        1  2010-03-12  2010-03-13   \n",
       "1  00016F745862898F  196201177000368        1  2009-04-12  2009-04-18   \n",
       "\n",
       "  PRVDR_NUM  CLM_PMT_AMT  NCH_PRMRY_PYR_CLM_PD_AMT  AT_PHYSN_NPI  \\\n",
       "0    2600GD       4000.0                       0.0  3.139084e+09   \n",
       "1    3900MB      26000.0                       0.0  6.476809e+09   \n",
       "\n",
       "   OP_PHYSN_NPI  OT_PHYSN_NPI  CLM_ADMSN_DT ADMTNG_ICD9_DGNS_CD  \\\n",
       "0           NaN           NaN      20100312                4580   \n",
       "1           NaN           NaN      20090412                7866   \n",
       "\n",
       "   CLM_PASS_THRU_PER_DIEM_AMT  NCH_BENE_IP_DDCTBL_AMT  \\\n",
       "0                         0.0                  1100.0   \n",
       "1                         0.0                  1068.0   \n",
       "\n",
       "   NCH_BENE_PTA_COINSRNC_LBLTY_AM  NCH_BENE_BLOOD_DDCTBL_LBLTY_AM  \\\n",
       "0                             0.0                             0.0   \n",
       "1                             0.0                             0.0   \n",
       "\n",
       "   CLM_UTLZTN_DAY_CNT  NCH_BENE_DSCHRG_DT CLM_DRG_CD ICD9_DGNS_CD_1  \\\n",
       "0                 1.0            20100313        217           7802   \n",
       "1                 6.0            20090418        201           1970   \n",
       "\n",
       "  ICD9_DGNS_CD_2 ICD9_DGNS_CD_3 ICD9_DGNS_CD_4 ICD9_DGNS_CD_5 ICD9_DGNS_CD_6  \\\n",
       "0          78820          V4501           4280           2720           4019   \n",
       "1           4019           5853           7843           2768          71590   \n",
       "\n",
       "  ICD9_DGNS_CD_7 ICD9_DGNS_CD_8 ICD9_DGNS_CD_9 ICD9_DGNS_CD_10  \\\n",
       "0          V4502          73300          E9330            None   \n",
       "1           2724          19889           5849            None   \n",
       "\n",
       "   ICD9_PRCDR_CD_1 ICD9_PRCDR_CD_2 ICD9_PRCDR_CD_3 ICD9_PRCDR_CD_4  \\\n",
       "0              NaN            None            None            None   \n",
       "1              NaN            None            None            None   \n",
       "\n",
       "  ICD9_PRCDR_CD_5 ICD9_PRCDR_CD_6 HCPCS_CD_1 HCPCS_CD_2 HCPCS_CD_3 HCPCS_CD_4  \\\n",
       "0            None            None       None       None       None       None   \n",
       "1            None            None       None       None       None       None   \n",
       "\n",
       "  HCPCS_CD_5 HCPCS_CD_6 HCPCS_CD_7 HCPCS_CD_8 HCPCS_CD_9 HCPCS_CD_10  \\\n",
       "0       None       None       None       None       None        None   \n",
       "1       None       None       None       None       None        None   \n",
       "\n",
       "  HCPCS_CD_11 HCPCS_CD_12 HCPCS_CD_13 HCPCS_CD_14 HCPCS_CD_15 HCPCS_CD_16  \\\n",
       "0        None        None        None        None        None        None   \n",
       "1        None        None        None        None        None        None   \n",
       "\n",
       "  HCPCS_CD_17 HCPCS_CD_18 HCPCS_CD_19 HCPCS_CD_20 HCPCS_CD_21 HCPCS_CD_22  \\\n",
       "0        None        None        None        None        None        None   \n",
       "1        None        None        None        None        None        None   \n",
       "\n",
       "  HCPCS_CD_23 HCPCS_CD_24 HCPCS_CD_25 HCPCS_CD_26 HCPCS_CD_27 HCPCS_CD_28  \\\n",
       "0        None        None        None        None        None        None   \n",
       "1        None        None        None        None        None        None   \n",
       "\n",
       "  HCPCS_CD_29 HCPCS_CD_30 HCPCS_CD_31 HCPCS_CD_32 HCPCS_CD_33 HCPCS_CD_34  \\\n",
       "0        None        None        None        None        None        None   \n",
       "1        None        None        None        None        None        None   \n",
       "\n",
       "  HCPCS_CD_35 HCPCS_CD_36 HCPCS_CD_37 HCPCS_CD_38 HCPCS_CD_39 HCPCS_CD_40  \\\n",
       "0        None        None        None        None        None        None   \n",
       "1        None        None        None        None        None        None   \n",
       "\n",
       "  HCPCS_CD_41 HCPCS_CD_42 HCPCS_CD_43 HCPCS_CD_44 HCPCS_CD_45  \\\n",
       "0        None        None        None        None        None   \n",
       "1        None        None        None        None        None   \n",
       "\n",
       "                       dgns_cd_1_desc_x                    dgns_cd_2_desc_x  \\\n",
       "0                  Syncope and collapse     Retention of urine, unspecified   \n",
       "1  Secondary malignant neoplasm of lung  Unspecified essential hypertension   \n",
       "\n",
       "                               dgns_cd_3_desc_x  \\\n",
       "0                     Cardiac pacemaker in situ   \n",
       "1  Chronic kidney disease, Stage III (moderate)   \n",
       "\n",
       "                        dgns_cd_4_desc_x           dgns_cd_5_desc_x  \\\n",
       "0  Congestive heart failure, unspecified  Pure hypercholesterolemia   \n",
       "1                                Aphasia             Hypopotassemia   \n",
       "\n",
       "                                    dgns_cd_6_desc_x  \\\n",
       "0                 Unspecified essential hypertension   \n",
       "1  Osteoarthrosis, unspecified whether generalize...   \n",
       "\n",
       "                                    dgns_cd_7_desc_x  \\\n",
       "0  Automatic implantable cardiac defibrillator in...   \n",
       "1               Other and unspecified hyperlipidemia   \n",
       "\n",
       "                                    dgns_cd_8_desc_x  \\\n",
       "0                          Osteoporosis, unspecified   \n",
       "1  Secondary malignant neoplasm of other specifie...   \n",
       "\n",
       "                                    dgns_cd_9_desc_x dgns_cd_10_desc_x  \\\n",
       "0  Antiallergic and antiemetic drugs causing adve...              None   \n",
       "1                  Acute kidney failure, unspecified              None   \n",
       "\n",
       "                       dgns_cd_1_desc_y                    dgns_cd_2_desc_y  \\\n",
       "0                  Syncope and collapse     Retention of urine, unspecified   \n",
       "1  Secondary malignant neoplasm of lung  Unspecified essential hypertension   \n",
       "\n",
       "                               dgns_cd_3_desc_y  \\\n",
       "0                     Cardiac pacemaker in situ   \n",
       "1  Chronic kidney disease, Stage III (moderate)   \n",
       "\n",
       "                        dgns_cd_4_desc_y           dgns_cd_5_desc_y  \\\n",
       "0  Congestive heart failure, unspecified  Pure hypercholesterolemia   \n",
       "1                                Aphasia             Hypopotassemia   \n",
       "\n",
       "                                    dgns_cd_6_desc_y  \\\n",
       "0                 Unspecified essential hypertension   \n",
       "1  Osteoarthrosis, unspecified whether generalize...   \n",
       "\n",
       "                                    dgns_cd_7_desc_y  \\\n",
       "0  Automatic implantable cardiac defibrillator in...   \n",
       "1               Other and unspecified hyperlipidemia   \n",
       "\n",
       "                                    dgns_cd_8_desc_y  \\\n",
       "0                          Osteoporosis, unspecified   \n",
       "1  Secondary malignant neoplasm of other specifie...   \n",
       "\n",
       "                                    dgns_cd_9_desc_y dgns_cd_10_desc_y  \n",
       "0  Antiallergic and antiemetic drugs causing adve...              None  \n",
       "1                  Acute kidney failure, unspecified              None  "
      ]
     },
     "execution_count": 25,
     "metadata": {},
     "output_type": "execute_result"
    }
   ],
   "source": [
    "q = '''SELECT * FROM inpatient_claims '''\n",
    "\n",
    "InpatientClaimsDF = query_func(q, conn)\n",
    "print(InpatientClaimsDF.shape)\n",
    "InpatientClaimsDF.head(2)"
   ]
  },
  {
   "cell_type": "code",
   "execution_count": 26,
   "metadata": {},
   "outputs": [],
   "source": [
    "# Converting to Datetime format\n",
    "\n",
    "#datetime.strptime(str(int(InpatientClaimsDF['CLM_FROM_DT'][100])), '%Y%m%d')\n",
    "InpatientClaimsDF['CLM_FROM_DT'] = pd.to_datetime(InpatientClaimsDF['CLM_FROM_DT'], format='%Y%m%d', errors='coerce')\n",
    "InpatientClaimsDF['CLM_THRU_DT'] = pd.to_datetime(InpatientClaimsDF['CLM_THRU_DT'], format='%Y%m%d', errors='coerce')"
   ]
  },
  {
   "cell_type": "code",
   "execution_count": 10,
   "metadata": {},
   "outputs": [
    {
     "name": "stdout",
     "output_type": "stream",
     "text": [
      "(178561, 101)\n"
     ]
    },
    {
     "data": {
      "text/html": [
       "<div>\n",
       "<style scoped>\n",
       "    .dataframe tbody tr th:only-of-type {\n",
       "        vertical-align: middle;\n",
       "    }\n",
       "\n",
       "    .dataframe tbody tr th {\n",
       "        vertical-align: top;\n",
       "    }\n",
       "\n",
       "    .dataframe thead th {\n",
       "        text-align: right;\n",
       "    }\n",
       "</style>\n",
       "<table border=\"1\" class=\"dataframe\">\n",
       "  <thead>\n",
       "    <tr style=\"text-align: right;\">\n",
       "      <th></th>\n",
       "      <th>DESYNPUF_ID</th>\n",
       "      <th>CLM_ID</th>\n",
       "      <th>SEGMENT</th>\n",
       "      <th>CLM_FROM_DT</th>\n",
       "      <th>CLM_THRU_DT</th>\n",
       "      <th>PRVDR_NUM</th>\n",
       "      <th>CLM_PMT_AMT</th>\n",
       "      <th>NCH_PRMRY_PYR_CLM_PD_AMT</th>\n",
       "      <th>AT_PHYSN_NPI</th>\n",
       "      <th>OP_PHYSN_NPI</th>\n",
       "      <th>OT_PHYSN_NPI</th>\n",
       "      <th>CLM_ADMSN_DT</th>\n",
       "      <th>ADMTNG_ICD9_DGNS_CD</th>\n",
       "      <th>CLM_PASS_THRU_PER_DIEM_AMT</th>\n",
       "      <th>NCH_BENE_IP_DDCTBL_AMT</th>\n",
       "      <th>NCH_BENE_PTA_COINSRNC_LBLTY_AM</th>\n",
       "      <th>NCH_BENE_BLOOD_DDCTBL_LBLTY_AM</th>\n",
       "      <th>CLM_UTLZTN_DAY_CNT</th>\n",
       "      <th>NCH_BENE_DSCHRG_DT</th>\n",
       "      <th>CLM_DRG_CD</th>\n",
       "      <th>ICD9_DGNS_CD_1</th>\n",
       "      <th>ICD9_DGNS_CD_2</th>\n",
       "      <th>ICD9_DGNS_CD_3</th>\n",
       "      <th>ICD9_DGNS_CD_4</th>\n",
       "      <th>ICD9_DGNS_CD_5</th>\n",
       "      <th>ICD9_DGNS_CD_6</th>\n",
       "      <th>ICD9_DGNS_CD_7</th>\n",
       "      <th>ICD9_DGNS_CD_8</th>\n",
       "      <th>ICD9_DGNS_CD_9</th>\n",
       "      <th>ICD9_DGNS_CD_10</th>\n",
       "      <th>ICD9_PRCDR_CD_1</th>\n",
       "      <th>ICD9_PRCDR_CD_2</th>\n",
       "      <th>ICD9_PRCDR_CD_3</th>\n",
       "      <th>ICD9_PRCDR_CD_4</th>\n",
       "      <th>ICD9_PRCDR_CD_5</th>\n",
       "      <th>ICD9_PRCDR_CD_6</th>\n",
       "      <th>HCPCS_CD_1</th>\n",
       "      <th>HCPCS_CD_2</th>\n",
       "      <th>HCPCS_CD_3</th>\n",
       "      <th>HCPCS_CD_4</th>\n",
       "      <th>HCPCS_CD_5</th>\n",
       "      <th>HCPCS_CD_6</th>\n",
       "      <th>HCPCS_CD_7</th>\n",
       "      <th>HCPCS_CD_8</th>\n",
       "      <th>HCPCS_CD_9</th>\n",
       "      <th>HCPCS_CD_10</th>\n",
       "      <th>HCPCS_CD_11</th>\n",
       "      <th>HCPCS_CD_12</th>\n",
       "      <th>HCPCS_CD_13</th>\n",
       "      <th>HCPCS_CD_14</th>\n",
       "      <th>HCPCS_CD_15</th>\n",
       "      <th>HCPCS_CD_16</th>\n",
       "      <th>HCPCS_CD_17</th>\n",
       "      <th>HCPCS_CD_18</th>\n",
       "      <th>HCPCS_CD_19</th>\n",
       "      <th>HCPCS_CD_20</th>\n",
       "      <th>HCPCS_CD_21</th>\n",
       "      <th>HCPCS_CD_22</th>\n",
       "      <th>HCPCS_CD_23</th>\n",
       "      <th>HCPCS_CD_24</th>\n",
       "      <th>HCPCS_CD_25</th>\n",
       "      <th>HCPCS_CD_26</th>\n",
       "      <th>HCPCS_CD_27</th>\n",
       "      <th>HCPCS_CD_28</th>\n",
       "      <th>HCPCS_CD_29</th>\n",
       "      <th>HCPCS_CD_30</th>\n",
       "      <th>HCPCS_CD_31</th>\n",
       "      <th>HCPCS_CD_32</th>\n",
       "      <th>HCPCS_CD_33</th>\n",
       "      <th>HCPCS_CD_34</th>\n",
       "      <th>HCPCS_CD_35</th>\n",
       "      <th>HCPCS_CD_36</th>\n",
       "      <th>HCPCS_CD_37</th>\n",
       "      <th>HCPCS_CD_38</th>\n",
       "      <th>HCPCS_CD_39</th>\n",
       "      <th>HCPCS_CD_40</th>\n",
       "      <th>HCPCS_CD_41</th>\n",
       "      <th>HCPCS_CD_42</th>\n",
       "      <th>HCPCS_CD_43</th>\n",
       "      <th>HCPCS_CD_44</th>\n",
       "      <th>HCPCS_CD_45</th>\n",
       "      <th>dgns_cd_1_desc_x</th>\n",
       "      <th>dgns_cd_2_desc_x</th>\n",
       "      <th>dgns_cd_3_desc_x</th>\n",
       "      <th>dgns_cd_4_desc_x</th>\n",
       "      <th>dgns_cd_5_desc_x</th>\n",
       "      <th>dgns_cd_6_desc_x</th>\n",
       "      <th>dgns_cd_7_desc_x</th>\n",
       "      <th>dgns_cd_8_desc_x</th>\n",
       "      <th>dgns_cd_9_desc_x</th>\n",
       "      <th>dgns_cd_10_desc_x</th>\n",
       "      <th>dgns_cd_1_desc_y</th>\n",
       "      <th>dgns_cd_2_desc_y</th>\n",
       "      <th>dgns_cd_3_desc_y</th>\n",
       "      <th>dgns_cd_4_desc_y</th>\n",
       "      <th>dgns_cd_5_desc_y</th>\n",
       "      <th>dgns_cd_6_desc_y</th>\n",
       "      <th>dgns_cd_7_desc_y</th>\n",
       "      <th>dgns_cd_8_desc_y</th>\n",
       "      <th>dgns_cd_9_desc_y</th>\n",
       "      <th>dgns_cd_10_desc_y</th>\n",
       "    </tr>\n",
       "  </thead>\n",
       "  <tbody>\n",
       "    <tr>\n",
       "      <td>0</td>\n",
       "      <td>00013D2EFD8E45D1</td>\n",
       "      <td>196661176988405</td>\n",
       "      <td>1</td>\n",
       "      <td>2010-03-12</td>\n",
       "      <td>2010-03-13</td>\n",
       "      <td>2600GD</td>\n",
       "      <td>4000.0</td>\n",
       "      <td>0.0</td>\n",
       "      <td>3.139084e+09</td>\n",
       "      <td>NaN</td>\n",
       "      <td>NaN</td>\n",
       "      <td>20100312</td>\n",
       "      <td>4580</td>\n",
       "      <td>0.0</td>\n",
       "      <td>1100.0</td>\n",
       "      <td>0.0</td>\n",
       "      <td>0.0</td>\n",
       "      <td>1.0</td>\n",
       "      <td>20100313</td>\n",
       "      <td>217</td>\n",
       "      <td>7802</td>\n",
       "      <td>78820</td>\n",
       "      <td>V4501</td>\n",
       "      <td>4280</td>\n",
       "      <td>2720</td>\n",
       "      <td>4019</td>\n",
       "      <td>V4502</td>\n",
       "      <td>73300</td>\n",
       "      <td>E9330</td>\n",
       "      <td>None</td>\n",
       "      <td>NaN</td>\n",
       "      <td>None</td>\n",
       "      <td>None</td>\n",
       "      <td>None</td>\n",
       "      <td>None</td>\n",
       "      <td>None</td>\n",
       "      <td>None</td>\n",
       "      <td>None</td>\n",
       "      <td>None</td>\n",
       "      <td>None</td>\n",
       "      <td>None</td>\n",
       "      <td>None</td>\n",
       "      <td>None</td>\n",
       "      <td>None</td>\n",
       "      <td>None</td>\n",
       "      <td>None</td>\n",
       "      <td>None</td>\n",
       "      <td>None</td>\n",
       "      <td>None</td>\n",
       "      <td>None</td>\n",
       "      <td>None</td>\n",
       "      <td>None</td>\n",
       "      <td>None</td>\n",
       "      <td>None</td>\n",
       "      <td>None</td>\n",
       "      <td>None</td>\n",
       "      <td>None</td>\n",
       "      <td>None</td>\n",
       "      <td>None</td>\n",
       "      <td>None</td>\n",
       "      <td>None</td>\n",
       "      <td>None</td>\n",
       "      <td>None</td>\n",
       "      <td>None</td>\n",
       "      <td>None</td>\n",
       "      <td>None</td>\n",
       "      <td>None</td>\n",
       "      <td>None</td>\n",
       "      <td>None</td>\n",
       "      <td>None</td>\n",
       "      <td>None</td>\n",
       "      <td>None</td>\n",
       "      <td>None</td>\n",
       "      <td>None</td>\n",
       "      <td>None</td>\n",
       "      <td>None</td>\n",
       "      <td>None</td>\n",
       "      <td>None</td>\n",
       "      <td>None</td>\n",
       "      <td>None</td>\n",
       "      <td>None</td>\n",
       "      <td>Syncope and collapse</td>\n",
       "      <td>Retention of urine, unspecified</td>\n",
       "      <td>Cardiac pacemaker in situ</td>\n",
       "      <td>Congestive heart failure, unspecified</td>\n",
       "      <td>Pure hypercholesterolemia</td>\n",
       "      <td>Unspecified essential hypertension</td>\n",
       "      <td>Automatic implantable cardiac defibrillator in...</td>\n",
       "      <td>Osteoporosis, unspecified</td>\n",
       "      <td>Antiallergic and antiemetic drugs causing adve...</td>\n",
       "      <td>None</td>\n",
       "      <td>Syncope and collapse</td>\n",
       "      <td>Retention of urine, unspecified</td>\n",
       "      <td>Cardiac pacemaker in situ</td>\n",
       "      <td>Congestive heart failure, unspecified</td>\n",
       "      <td>Pure hypercholesterolemia</td>\n",
       "      <td>Unspecified essential hypertension</td>\n",
       "      <td>Automatic implantable cardiac defibrillator in...</td>\n",
       "      <td>Osteoporosis, unspecified</td>\n",
       "      <td>Antiallergic and antiemetic drugs causing adve...</td>\n",
       "      <td>None</td>\n",
       "    </tr>\n",
       "    <tr>\n",
       "      <td>1</td>\n",
       "      <td>00016F745862898F</td>\n",
       "      <td>196201177000368</td>\n",
       "      <td>1</td>\n",
       "      <td>2009-04-12</td>\n",
       "      <td>2009-04-18</td>\n",
       "      <td>3900MB</td>\n",
       "      <td>26000.0</td>\n",
       "      <td>0.0</td>\n",
       "      <td>6.476809e+09</td>\n",
       "      <td>NaN</td>\n",
       "      <td>NaN</td>\n",
       "      <td>20090412</td>\n",
       "      <td>7866</td>\n",
       "      <td>0.0</td>\n",
       "      <td>1068.0</td>\n",
       "      <td>0.0</td>\n",
       "      <td>0.0</td>\n",
       "      <td>6.0</td>\n",
       "      <td>20090418</td>\n",
       "      <td>201</td>\n",
       "      <td>1970</td>\n",
       "      <td>4019</td>\n",
       "      <td>5853</td>\n",
       "      <td>7843</td>\n",
       "      <td>2768</td>\n",
       "      <td>71590</td>\n",
       "      <td>2724</td>\n",
       "      <td>19889</td>\n",
       "      <td>5849</td>\n",
       "      <td>None</td>\n",
       "      <td>NaN</td>\n",
       "      <td>None</td>\n",
       "      <td>None</td>\n",
       "      <td>None</td>\n",
       "      <td>None</td>\n",
       "      <td>None</td>\n",
       "      <td>None</td>\n",
       "      <td>None</td>\n",
       "      <td>None</td>\n",
       "      <td>None</td>\n",
       "      <td>None</td>\n",
       "      <td>None</td>\n",
       "      <td>None</td>\n",
       "      <td>None</td>\n",
       "      <td>None</td>\n",
       "      <td>None</td>\n",
       "      <td>None</td>\n",
       "      <td>None</td>\n",
       "      <td>None</td>\n",
       "      <td>None</td>\n",
       "      <td>None</td>\n",
       "      <td>None</td>\n",
       "      <td>None</td>\n",
       "      <td>None</td>\n",
       "      <td>None</td>\n",
       "      <td>None</td>\n",
       "      <td>None</td>\n",
       "      <td>None</td>\n",
       "      <td>None</td>\n",
       "      <td>None</td>\n",
       "      <td>None</td>\n",
       "      <td>None</td>\n",
       "      <td>None</td>\n",
       "      <td>None</td>\n",
       "      <td>None</td>\n",
       "      <td>None</td>\n",
       "      <td>None</td>\n",
       "      <td>None</td>\n",
       "      <td>None</td>\n",
       "      <td>None</td>\n",
       "      <td>None</td>\n",
       "      <td>None</td>\n",
       "      <td>None</td>\n",
       "      <td>None</td>\n",
       "      <td>None</td>\n",
       "      <td>None</td>\n",
       "      <td>None</td>\n",
       "      <td>None</td>\n",
       "      <td>None</td>\n",
       "      <td>None</td>\n",
       "      <td>None</td>\n",
       "      <td>Secondary malignant neoplasm of lung</td>\n",
       "      <td>Unspecified essential hypertension</td>\n",
       "      <td>Chronic kidney disease, Stage III (moderate)</td>\n",
       "      <td>Aphasia</td>\n",
       "      <td>Hypopotassemia</td>\n",
       "      <td>Osteoarthrosis, unspecified whether generalize...</td>\n",
       "      <td>Other and unspecified hyperlipidemia</td>\n",
       "      <td>Secondary malignant neoplasm of other specifie...</td>\n",
       "      <td>Acute kidney failure, unspecified</td>\n",
       "      <td>None</td>\n",
       "      <td>Secondary malignant neoplasm of lung</td>\n",
       "      <td>Unspecified essential hypertension</td>\n",
       "      <td>Chronic kidney disease, Stage III (moderate)</td>\n",
       "      <td>Aphasia</td>\n",
       "      <td>Hypopotassemia</td>\n",
       "      <td>Osteoarthrosis, unspecified whether generalize...</td>\n",
       "      <td>Other and unspecified hyperlipidemia</td>\n",
       "      <td>Secondary malignant neoplasm of other specifie...</td>\n",
       "      <td>Acute kidney failure, unspecified</td>\n",
       "      <td>None</td>\n",
       "    </tr>\n",
       "  </tbody>\n",
       "</table>\n",
       "</div>"
      ],
      "text/plain": [
       "        DESYNPUF_ID           CLM_ID  SEGMENT CLM_FROM_DT CLM_THRU_DT  \\\n",
       "0  00013D2EFD8E45D1  196661176988405        1  2010-03-12  2010-03-13   \n",
       "1  00016F745862898F  196201177000368        1  2009-04-12  2009-04-18   \n",
       "\n",
       "  PRVDR_NUM  CLM_PMT_AMT  NCH_PRMRY_PYR_CLM_PD_AMT  AT_PHYSN_NPI  \\\n",
       "0    2600GD       4000.0                       0.0  3.139084e+09   \n",
       "1    3900MB      26000.0                       0.0  6.476809e+09   \n",
       "\n",
       "   OP_PHYSN_NPI  OT_PHYSN_NPI  CLM_ADMSN_DT ADMTNG_ICD9_DGNS_CD  \\\n",
       "0           NaN           NaN      20100312                4580   \n",
       "1           NaN           NaN      20090412                7866   \n",
       "\n",
       "   CLM_PASS_THRU_PER_DIEM_AMT  NCH_BENE_IP_DDCTBL_AMT  \\\n",
       "0                         0.0                  1100.0   \n",
       "1                         0.0                  1068.0   \n",
       "\n",
       "   NCH_BENE_PTA_COINSRNC_LBLTY_AM  NCH_BENE_BLOOD_DDCTBL_LBLTY_AM  \\\n",
       "0                             0.0                             0.0   \n",
       "1                             0.0                             0.0   \n",
       "\n",
       "   CLM_UTLZTN_DAY_CNT  NCH_BENE_DSCHRG_DT CLM_DRG_CD ICD9_DGNS_CD_1  \\\n",
       "0                 1.0            20100313        217           7802   \n",
       "1                 6.0            20090418        201           1970   \n",
       "\n",
       "  ICD9_DGNS_CD_2 ICD9_DGNS_CD_3 ICD9_DGNS_CD_4 ICD9_DGNS_CD_5 ICD9_DGNS_CD_6  \\\n",
       "0          78820          V4501           4280           2720           4019   \n",
       "1           4019           5853           7843           2768          71590   \n",
       "\n",
       "  ICD9_DGNS_CD_7 ICD9_DGNS_CD_8 ICD9_DGNS_CD_9 ICD9_DGNS_CD_10  \\\n",
       "0          V4502          73300          E9330            None   \n",
       "1           2724          19889           5849            None   \n",
       "\n",
       "   ICD9_PRCDR_CD_1 ICD9_PRCDR_CD_2 ICD9_PRCDR_CD_3 ICD9_PRCDR_CD_4  \\\n",
       "0              NaN            None            None            None   \n",
       "1              NaN            None            None            None   \n",
       "\n",
       "  ICD9_PRCDR_CD_5 ICD9_PRCDR_CD_6 HCPCS_CD_1 HCPCS_CD_2 HCPCS_CD_3 HCPCS_CD_4  \\\n",
       "0            None            None       None       None       None       None   \n",
       "1            None            None       None       None       None       None   \n",
       "\n",
       "  HCPCS_CD_5 HCPCS_CD_6 HCPCS_CD_7 HCPCS_CD_8 HCPCS_CD_9 HCPCS_CD_10  \\\n",
       "0       None       None       None       None       None        None   \n",
       "1       None       None       None       None       None        None   \n",
       "\n",
       "  HCPCS_CD_11 HCPCS_CD_12 HCPCS_CD_13 HCPCS_CD_14 HCPCS_CD_15 HCPCS_CD_16  \\\n",
       "0        None        None        None        None        None        None   \n",
       "1        None        None        None        None        None        None   \n",
       "\n",
       "  HCPCS_CD_17 HCPCS_CD_18 HCPCS_CD_19 HCPCS_CD_20 HCPCS_CD_21 HCPCS_CD_22  \\\n",
       "0        None        None        None        None        None        None   \n",
       "1        None        None        None        None        None        None   \n",
       "\n",
       "  HCPCS_CD_23 HCPCS_CD_24 HCPCS_CD_25 HCPCS_CD_26 HCPCS_CD_27 HCPCS_CD_28  \\\n",
       "0        None        None        None        None        None        None   \n",
       "1        None        None        None        None        None        None   \n",
       "\n",
       "  HCPCS_CD_29 HCPCS_CD_30 HCPCS_CD_31 HCPCS_CD_32 HCPCS_CD_33 HCPCS_CD_34  \\\n",
       "0        None        None        None        None        None        None   \n",
       "1        None        None        None        None        None        None   \n",
       "\n",
       "  HCPCS_CD_35 HCPCS_CD_36 HCPCS_CD_37 HCPCS_CD_38 HCPCS_CD_39 HCPCS_CD_40  \\\n",
       "0        None        None        None        None        None        None   \n",
       "1        None        None        None        None        None        None   \n",
       "\n",
       "  HCPCS_CD_41 HCPCS_CD_42 HCPCS_CD_43 HCPCS_CD_44 HCPCS_CD_45  \\\n",
       "0        None        None        None        None        None   \n",
       "1        None        None        None        None        None   \n",
       "\n",
       "                       dgns_cd_1_desc_x                    dgns_cd_2_desc_x  \\\n",
       "0                  Syncope and collapse     Retention of urine, unspecified   \n",
       "1  Secondary malignant neoplasm of lung  Unspecified essential hypertension   \n",
       "\n",
       "                               dgns_cd_3_desc_x  \\\n",
       "0                     Cardiac pacemaker in situ   \n",
       "1  Chronic kidney disease, Stage III (moderate)   \n",
       "\n",
       "                        dgns_cd_4_desc_x           dgns_cd_5_desc_x  \\\n",
       "0  Congestive heart failure, unspecified  Pure hypercholesterolemia   \n",
       "1                                Aphasia             Hypopotassemia   \n",
       "\n",
       "                                    dgns_cd_6_desc_x  \\\n",
       "0                 Unspecified essential hypertension   \n",
       "1  Osteoarthrosis, unspecified whether generalize...   \n",
       "\n",
       "                                    dgns_cd_7_desc_x  \\\n",
       "0  Automatic implantable cardiac defibrillator in...   \n",
       "1               Other and unspecified hyperlipidemia   \n",
       "\n",
       "                                    dgns_cd_8_desc_x  \\\n",
       "0                          Osteoporosis, unspecified   \n",
       "1  Secondary malignant neoplasm of other specifie...   \n",
       "\n",
       "                                    dgns_cd_9_desc_x dgns_cd_10_desc_x  \\\n",
       "0  Antiallergic and antiemetic drugs causing adve...              None   \n",
       "1                  Acute kidney failure, unspecified              None   \n",
       "\n",
       "                       dgns_cd_1_desc_y                    dgns_cd_2_desc_y  \\\n",
       "0                  Syncope and collapse     Retention of urine, unspecified   \n",
       "1  Secondary malignant neoplasm of lung  Unspecified essential hypertension   \n",
       "\n",
       "                               dgns_cd_3_desc_y  \\\n",
       "0                     Cardiac pacemaker in situ   \n",
       "1  Chronic kidney disease, Stage III (moderate)   \n",
       "\n",
       "                        dgns_cd_4_desc_y           dgns_cd_5_desc_y  \\\n",
       "0  Congestive heart failure, unspecified  Pure hypercholesterolemia   \n",
       "1                                Aphasia             Hypopotassemia   \n",
       "\n",
       "                                    dgns_cd_6_desc_y  \\\n",
       "0                 Unspecified essential hypertension   \n",
       "1  Osteoarthrosis, unspecified whether generalize...   \n",
       "\n",
       "                                    dgns_cd_7_desc_y  \\\n",
       "0  Automatic implantable cardiac defibrillator in...   \n",
       "1               Other and unspecified hyperlipidemia   \n",
       "\n",
       "                                    dgns_cd_8_desc_y  \\\n",
       "0                          Osteoporosis, unspecified   \n",
       "1  Secondary malignant neoplasm of other specifie...   \n",
       "\n",
       "                                    dgns_cd_9_desc_y dgns_cd_10_desc_y  \n",
       "0  Antiallergic and antiemetic drugs causing adve...              None  \n",
       "1                  Acute kidney failure, unspecified              None  "
      ]
     },
     "execution_count": 10,
     "metadata": {},
     "output_type": "execute_result"
    }
   ],
   "source": [
    "print(InpatientClaimsDF.shape)\n",
    "InpatientClaimsDF.head(2)"
   ]
  },
  {
   "cell_type": "markdown",
   "metadata": {},
   "source": [
    "#### Adding lookup for 10 Diagnostic codes for inpatient claims"
   ]
  },
  {
   "cell_type": "code",
   "execution_count": null,
   "metadata": {},
   "outputs": [],
   "source": [
    "datetime.now()"
   ]
  },
  {
   "cell_type": "code",
   "execution_count": null,
   "metadata": {},
   "outputs": [],
   "source": [
    "q = '''SELECT  \n",
    "            IPD.\"DESYNPUF_ID\", \n",
    "            ICD9D1.long_desc as DGNS_CD_1_desc,\n",
    "            ICD9D2.long_desc as DGNS_CD_2_desc,\n",
    "            ICD9D3.long_desc as DGNS_CD_3_desc,\n",
    "            ICD9D4.long_desc as DGNS_CD_4_desc,\n",
    "            ICD9D5.long_desc as DGNS_CD_5_desc,\n",
    "            ICD9D6.long_desc as DGNS_CD_6_desc,\n",
    "            ICD9D7.long_desc as DGNS_CD_7_desc,\n",
    "            ICD9D8.long_desc as DGNS_CD_8_desc,\n",
    "            ICD9D9.long_desc as DGNS_CD_9_desc,\n",
    "            ICD9D10.long_desc as DGNS_CD_10_desc\n",
    "                 \n",
    "       FROM \n",
    "                      inpatient_claims as IPD\n",
    "            LEFT JOIN icd9_diagonsis as ICD9D1 ON IPD.\"ICD9_DGNS_CD_1\" = ICD9D1.diagnosis_cd\n",
    "            LEFT JOIN icd9_diagonsis as ICD9D2 ON IPD.\"ICD9_DGNS_CD_2\" = ICD9D2.diagnosis_cd\n",
    "            LEFT JOIN icd9_diagonsis as ICD9D3 ON IPD.\"ICD9_DGNS_CD_3\" = ICD9D3.diagnosis_cd\n",
    "            LEFT JOIN icd9_diagonsis as ICD9D4 ON IPD.\"ICD9_DGNS_CD_4\" = ICD9D4.diagnosis_cd\n",
    "            LEFT JOIN icd9_diagonsis as ICD9D5 ON IPD.\"ICD9_DGNS_CD_5\" = ICD9D5.diagnosis_cd\n",
    "            LEFT JOIN icd9_diagonsis as ICD9D6 ON IPD.\"ICD9_DGNS_CD_6\" = ICD9D6.diagnosis_cd\n",
    "            LEFT JOIN icd9_diagonsis as ICD9D7 ON IPD.\"ICD9_DGNS_CD_7\" = ICD9D7.diagnosis_cd\n",
    "            LEFT JOIN icd9_diagonsis as ICD9D8 ON IPD.\"ICD9_DGNS_CD_8\" = ICD9D8.diagnosis_cd\n",
    "            LEFT JOIN icd9_diagonsis as ICD9D9 ON IPD.\"ICD9_DGNS_CD_9\" = ICD9D9.diagnosis_cd\n",
    "            LEFT JOIN icd9_diagonsis as ICD9D10 ON IPD.\"ICD9_DGNS_CD_10\" = ICD9D10.diagnosis_cd\n",
    "            ;\n",
    "    '''\n",
    "\n",
    "ICD_descDF_inpt = query_func(q, conn)\n",
    "ICD_descDF_inpt.head(1)"
   ]
  },
  {
   "cell_type": "code",
   "execution_count": null,
   "metadata": {},
   "outputs": [],
   "source": [
    "datetime.now()"
   ]
  },
  {
   "cell_type": "markdown",
   "metadata": {},
   "source": [
    "#### Procedure code lookup for inpatient claims"
   ]
  },
  {
   "cell_type": "code",
   "execution_count": 34,
   "metadata": {},
   "outputs": [
    {
     "data": {
      "text/plain": [
       "dtype('float64')"
      ]
     },
     "execution_count": 34,
     "metadata": {},
     "output_type": "execute_result"
    }
   ],
   "source": [
    "InpatientClaimsDF.ICD9_PRCDR_CD_1.dtype"
   ]
  },
  {
   "cell_type": "code",
   "execution_count": null,
   "metadata": {},
   "outputs": [],
   "source": []
  },
  {
   "cell_type": "code",
   "execution_count": 39,
   "metadata": {},
   "outputs": [
    {
     "data": {
      "text/html": [
       "<div>\n",
       "<style scoped>\n",
       "    .dataframe tbody tr th:only-of-type {\n",
       "        vertical-align: middle;\n",
       "    }\n",
       "\n",
       "    .dataframe tbody tr th {\n",
       "        vertical-align: top;\n",
       "    }\n",
       "\n",
       "    .dataframe thead th {\n",
       "        text-align: right;\n",
       "    }\n",
       "</style>\n",
       "<table border=\"1\" class=\"dataframe\">\n",
       "  <thead>\n",
       "    <tr style=\"text-align: right;\">\n",
       "      <th></th>\n",
       "      <th>DESYNPUF_ID</th>\n",
       "      <th>prcdr_cd_1_desc</th>\n",
       "      <th>prcdr_cd_2_desc</th>\n",
       "      <th>prcdr_cd_3_desc</th>\n",
       "      <th>prcdr_cd_4_desc</th>\n",
       "      <th>prcdr_cd_5_desc</th>\n",
       "      <th>prcdr_cd_6_desc</th>\n",
       "    </tr>\n",
       "  </thead>\n",
       "  <tbody>\n",
       "    <tr>\n",
       "      <td>0</td>\n",
       "      <td>DAB0D77EFB966CD2</td>\n",
       "      <td>Cisternal puncture</td>\n",
       "      <td>Other diagnostic procedures on lymphatic struc...</td>\n",
       "      <td>None</td>\n",
       "      <td>None</td>\n",
       "      <td>None</td>\n",
       "      <td>None</td>\n",
       "    </tr>\n",
       "    <tr>\n",
       "      <td>1</td>\n",
       "      <td>DAB0D77EFB966CD2</td>\n",
       "      <td>Other incision of conjunctiva</td>\n",
       "      <td>Other diagnostic procedures on lymphatic struc...</td>\n",
       "      <td>None</td>\n",
       "      <td>None</td>\n",
       "      <td>None</td>\n",
       "      <td>None</td>\n",
       "    </tr>\n",
       "  </tbody>\n",
       "</table>\n",
       "</div>"
      ],
      "text/plain": [
       "        DESYNPUF_ID                prcdr_cd_1_desc  \\\n",
       "0  DAB0D77EFB966CD2             Cisternal puncture   \n",
       "1  DAB0D77EFB966CD2  Other incision of conjunctiva   \n",
       "\n",
       "                                     prcdr_cd_2_desc prcdr_cd_3_desc  \\\n",
       "0  Other diagnostic procedures on lymphatic struc...            None   \n",
       "1  Other diagnostic procedures on lymphatic struc...            None   \n",
       "\n",
       "  prcdr_cd_4_desc prcdr_cd_5_desc prcdr_cd_6_desc  \n",
       "0            None            None            None  \n",
       "1            None            None            None  "
      ]
     },
     "execution_count": 39,
     "metadata": {},
     "output_type": "execute_result"
    }
   ],
   "source": [
    "q = '''SELECT  \n",
    "            IPD.\"DESYNPUF_ID\", \n",
    "            ICD9P1.long_desc as PRCDR_CD_1_desc,\n",
    "            ICD9P2.long_desc as PRCDR_CD_2_desc,\n",
    "            ICD9P3.long_desc as PRCDR_CD_3_desc,\n",
    "            ICD9P4.long_desc as PRCDR_CD_4_desc,\n",
    "            ICD9P5.long_desc as PRCDR_CD_5_desc,\n",
    "            ICD9P6.long_desc as PRCDR_CD_6_desc\n",
    "                 \n",
    "       FROM \n",
    "                      inpatient_claims as IPD\n",
    "            LEFT JOIN icd9_procedures as ICD9P1 ON CAST(IPD.\"ICD9_PRCDR_CD_1\" as varchar) = CAST(ICD9P1.procedure_cd as varchar)\n",
    "            LEFT JOIN icd9_procedures as ICD9P2 ON CAST(IPD.\"ICD9_PRCDR_CD_2\" as varchar) = CAST(ICD9P2.procedure_cd as varchar)\n",
    "            LEFT JOIN icd9_procedures as ICD9P3 ON CAST(IPD.\"ICD9_PRCDR_CD_3\" as varchar) = CAST(ICD9P3.procedure_cd as varchar)\n",
    "            LEFT JOIN icd9_procedures as ICD9P4 ON CAST(IPD.\"ICD9_PRCDR_CD_4\" as varchar) = CAST(ICD9P4.procedure_cd as varchar)\n",
    "            LEFT JOIN icd9_procedures as ICD9P5 ON CAST(IPD.\"ICD9_PRCDR_CD_5\" as varchar) = CAST(ICD9P5.procedure_cd as varchar)\n",
    "            LEFT JOIN icd9_procedures as ICD9P6 ON CAST(IPD.\"ICD9_PRCDR_CD_6\" as varchar) = CAST(ICD9P6.procedure_cd as varchar)\n",
    "            ;\n",
    "    '''\n",
    "\n",
    "ICDProc_descDF_inpt = query_func(q, conn)\n",
    "ICDProc_descDF_inpt.head(2)"
   ]
  },
  {
   "cell_type": "code",
   "execution_count": null,
   "metadata": {},
   "outputs": [],
   "source": []
  },
  {
   "cell_type": "markdown",
   "metadata": {},
   "source": [
    "#### HCPCS code lookup for inpatient claims"
   ]
  },
  {
   "cell_type": "code",
   "execution_count": 11,
   "metadata": {},
   "outputs": [
    {
     "data": {
      "text/plain": [
       "datetime.datetime(2020, 4, 30, 15, 6, 53, 53551)"
      ]
     },
     "execution_count": 11,
     "metadata": {},
     "output_type": "execute_result"
    }
   ],
   "source": [
    "datetime.now()"
   ]
  },
  {
   "cell_type": "code",
   "execution_count": 12,
   "metadata": {},
   "outputs": [
    {
     "data": {
      "text/html": [
       "<div>\n",
       "<style scoped>\n",
       "    .dataframe tbody tr th:only-of-type {\n",
       "        vertical-align: middle;\n",
       "    }\n",
       "\n",
       "    .dataframe tbody tr th {\n",
       "        vertical-align: top;\n",
       "    }\n",
       "\n",
       "    .dataframe thead th {\n",
       "        text-align: right;\n",
       "    }\n",
       "</style>\n",
       "<table border=\"1\" class=\"dataframe\">\n",
       "  <thead>\n",
       "    <tr style=\"text-align: right;\">\n",
       "      <th></th>\n",
       "      <th>DESYNPUF_ID</th>\n",
       "      <th>hcpcs_cd_1_desc</th>\n",
       "      <th>hcpcs_cd_2_desc</th>\n",
       "      <th>hcpcs_cd_3_desc</th>\n",
       "      <th>hcpcs_cd_4_desc</th>\n",
       "      <th>hcpcs_cd_5_desc</th>\n",
       "      <th>hcpcs_cd_6_desc</th>\n",
       "      <th>hcpcs_cd_7_desc</th>\n",
       "      <th>hcpcs_cd_8_desc</th>\n",
       "      <th>hcpcs_cd_9_desc</th>\n",
       "      <th>hcpcs_cd_10_desc</th>\n",
       "    </tr>\n",
       "  </thead>\n",
       "  <tbody>\n",
       "    <tr>\n",
       "      <td>0</td>\n",
       "      <td>00013D2EFD8E45D1</td>\n",
       "      <td>None</td>\n",
       "      <td>None</td>\n",
       "      <td>None</td>\n",
       "      <td>None</td>\n",
       "      <td>None</td>\n",
       "      <td>None</td>\n",
       "      <td>None</td>\n",
       "      <td>None</td>\n",
       "      <td>None</td>\n",
       "      <td>None</td>\n",
       "    </tr>\n",
       "    <tr>\n",
       "      <td>1</td>\n",
       "      <td>00016F745862898F</td>\n",
       "      <td>None</td>\n",
       "      <td>None</td>\n",
       "      <td>None</td>\n",
       "      <td>None</td>\n",
       "      <td>None</td>\n",
       "      <td>None</td>\n",
       "      <td>None</td>\n",
       "      <td>None</td>\n",
       "      <td>None</td>\n",
       "      <td>None</td>\n",
       "    </tr>\n",
       "    <tr>\n",
       "      <td>2</td>\n",
       "      <td>00016F745862898F</td>\n",
       "      <td>None</td>\n",
       "      <td>None</td>\n",
       "      <td>None</td>\n",
       "      <td>None</td>\n",
       "      <td>None</td>\n",
       "      <td>None</td>\n",
       "      <td>None</td>\n",
       "      <td>None</td>\n",
       "      <td>None</td>\n",
       "      <td>None</td>\n",
       "    </tr>\n",
       "    <tr>\n",
       "      <td>3</td>\n",
       "      <td>00016F745862898F</td>\n",
       "      <td>None</td>\n",
       "      <td>None</td>\n",
       "      <td>None</td>\n",
       "      <td>None</td>\n",
       "      <td>None</td>\n",
       "      <td>None</td>\n",
       "      <td>None</td>\n",
       "      <td>None</td>\n",
       "      <td>None</td>\n",
       "      <td>None</td>\n",
       "    </tr>\n",
       "    <tr>\n",
       "      <td>4</td>\n",
       "      <td>00016F745862898F</td>\n",
       "      <td>None</td>\n",
       "      <td>None</td>\n",
       "      <td>None</td>\n",
       "      <td>None</td>\n",
       "      <td>None</td>\n",
       "      <td>None</td>\n",
       "      <td>None</td>\n",
       "      <td>None</td>\n",
       "      <td>None</td>\n",
       "      <td>None</td>\n",
       "    </tr>\n",
       "  </tbody>\n",
       "</table>\n",
       "</div>"
      ],
      "text/plain": [
       "        DESYNPUF_ID hcpcs_cd_1_desc hcpcs_cd_2_desc hcpcs_cd_3_desc  \\\n",
       "0  00013D2EFD8E45D1            None            None            None   \n",
       "1  00016F745862898F            None            None            None   \n",
       "2  00016F745862898F            None            None            None   \n",
       "3  00016F745862898F            None            None            None   \n",
       "4  00016F745862898F            None            None            None   \n",
       "\n",
       "  hcpcs_cd_4_desc hcpcs_cd_5_desc hcpcs_cd_6_desc hcpcs_cd_7_desc  \\\n",
       "0            None            None            None            None   \n",
       "1            None            None            None            None   \n",
       "2            None            None            None            None   \n",
       "3            None            None            None            None   \n",
       "4            None            None            None            None   \n",
       "\n",
       "  hcpcs_cd_8_desc hcpcs_cd_9_desc hcpcs_cd_10_desc  \n",
       "0            None            None             None  \n",
       "1            None            None             None  \n",
       "2            None            None             None  \n",
       "3            None            None             None  \n",
       "4            None            None             None  "
      ]
     },
     "execution_count": 12,
     "metadata": {},
     "output_type": "execute_result"
    }
   ],
   "source": [
    "q = '''SELECT  \n",
    "            IPD.\"DESYNPUF_ID\", \n",
    "            h1.\"DESCRIPTION\" as hcpcs_CD_1_desc,\n",
    "            h2.\"DESCRIPTION\" as hcpcs_CD_2_desc,\n",
    "            h3.\"DESCRIPTION\" as hcpcs_CD_3_desc,\n",
    "            h4.\"DESCRIPTION\" as hcpcs_CD_4_desc,\n",
    "            h5.\"DESCRIPTION\" as hcpcs_CD_5_desc,\n",
    "            h6.\"DESCRIPTION\" as hcpcs_CD_6_desc,\n",
    "            h7.\"DESCRIPTION\" as hcpcs_CD_7_desc,\n",
    "            h8.\"DESCRIPTION\" as hcpcs_CD_8_desc,\n",
    "            h9.\"DESCRIPTION\" as hcpcs_CD_9_desc,\n",
    "            h10.\"DESCRIPTION\" as hcpcs_CD_10_desc\n",
    "       FROM \n",
    "                      inpatient_claims as IPD\n",
    "            LEFT JOIN hcpcs as h1 ON IPD.\"HCPCS_CD_1\" = h1.\"HCPCS\"\n",
    "            LEFT JOIN hcpcs as h2 ON IPD.\"HCPCS_CD_2\" = h2.\"HCPCS\"\n",
    "            LEFT JOIN hcpcs as h3 ON IPD.\"HCPCS_CD_3\" = h3.\"HCPCS\"\n",
    "            LEFT JOIN hcpcs as h4 ON IPD.\"HCPCS_CD_4\" = h4.\"HCPCS\"\n",
    "            LEFT JOIN hcpcs as h5 ON IPD.\"HCPCS_CD_5\" = h5.\"HCPCS\"\n",
    "            LEFT JOIN hcpcs as h6 ON IPD.\"HCPCS_CD_6\" = h6.\"HCPCS\"\n",
    "            LEFT JOIN hcpcs as h7 ON IPD.\"HCPCS_CD_7\" = h7.\"HCPCS\"\n",
    "            LEFT JOIN hcpcs as h8 ON IPD.\"HCPCS_CD_8\" = h8.\"HCPCS\"\n",
    "            LEFT JOIN hcpcs as h9 ON IPD.\"HCPCS_CD_9\" = h9.\"HCPCS\"\n",
    "            LEFT JOIN hcpcs as h10 ON IPD.\"HCPCS_CD_10\" = h10.\"HCPCS\"\n",
    "            LEFT JOIN hcpcs as h11 ON IPD.\"HCPCS_CD_11\" = h11.\"HCPCS\"\n",
    "\n",
    "            ;\n",
    "    '''\n",
    "\n",
    "hcpcsDF_inpt = query_func(q, conn)\n",
    "hcpcsDF_inpt.head(5)"
   ]
  },
  {
   "cell_type": "code",
   "execution_count": null,
   "metadata": {},
   "outputs": [],
   "source": []
  },
  {
   "cell_type": "code",
   "execution_count": null,
   "metadata": {},
   "outputs": [],
   "source": [
    "print(hcpcsDF_inpt.shape)\n",
    "hcpcsDF_inpt.head(1)"
   ]
  },
  {
   "cell_type": "code",
   "execution_count": null,
   "metadata": {},
   "outputs": [],
   "source": [
    "print(InpatientClaimsDF.shape)\n",
    "InpatientClaimsDF.head(1)"
   ]
  },
  {
   "cell_type": "markdown",
   "metadata": {},
   "source": [
    "#### Merging ICD diagnostic description to inpatient claims DF"
   ]
  },
  {
   "cell_type": "code",
   "execution_count": null,
   "metadata": {},
   "outputs": [],
   "source": [
    "datetime.now()"
   ]
  },
  {
   "cell_type": "code",
   "execution_count": null,
   "metadata": {},
   "outputs": [],
   "source": [
    "#InpatientClaimsDF = pd.merge(InpatientClaimsDF, ICD_descDF_inpt, on='DESYNPUF_ID')"
   ]
  },
  {
   "cell_type": "code",
   "execution_count": null,
   "metadata": {},
   "outputs": [],
   "source": [
    "InpatientClaimsDF = InpatientClaimsDF.merge(ICD_descDF_inpt, on='DESYNPUF_ID',\n",
    "                                            how='inner', left_index=True, right_index=True)"
   ]
  },
  {
   "cell_type": "code",
   "execution_count": null,
   "metadata": {},
   "outputs": [],
   "source": [
    "datetime.now()"
   ]
  },
  {
   "cell_type": "code",
   "execution_count": null,
   "metadata": {},
   "outputs": [],
   "source": [
    "print(InpatientClaimsDF.shape)\n",
    "InpatientClaimsDF.head(1)"
   ]
  },
  {
   "cell_type": "markdown",
   "metadata": {},
   "source": [
    "### Data Cleaning for prescription_drug_events table (date time format)"
   ]
  },
  {
   "cell_type": "code",
   "execution_count": 14,
   "metadata": {},
   "outputs": [
    {
     "name": "stdout",
     "output_type": "stream",
     "text": [
      "(5552421, 8)\n"
     ]
    },
    {
     "data": {
      "text/html": [
       "<div>\n",
       "<style scoped>\n",
       "    .dataframe tbody tr th:only-of-type {\n",
       "        vertical-align: middle;\n",
       "    }\n",
       "\n",
       "    .dataframe tbody tr th {\n",
       "        vertical-align: top;\n",
       "    }\n",
       "\n",
       "    .dataframe thead th {\n",
       "        text-align: right;\n",
       "    }\n",
       "</style>\n",
       "<table border=\"1\" class=\"dataframe\">\n",
       "  <thead>\n",
       "    <tr style=\"text-align: right;\">\n",
       "      <th></th>\n",
       "      <th>DESYNPUF_ID</th>\n",
       "      <th>PDE_ID</th>\n",
       "      <th>SRVC_DT</th>\n",
       "      <th>PROD_SRVC_ID</th>\n",
       "      <th>QTY_DSPNSD_NUM</th>\n",
       "      <th>DAYS_SUPLY_NUM</th>\n",
       "      <th>PTNT_PAY_AMT</th>\n",
       "      <th>TOT_RX_CST_AMT</th>\n",
       "    </tr>\n",
       "  </thead>\n",
       "  <tbody>\n",
       "    <tr>\n",
       "      <td>0</td>\n",
       "      <td>00013D2EFD8E45D1</td>\n",
       "      <td>233664490397622</td>\n",
       "      <td>2008-01-03</td>\n",
       "      <td>247037252</td>\n",
       "      <td>30.0</td>\n",
       "      <td>20</td>\n",
       "      <td>10.0</td>\n",
       "      <td>120.0</td>\n",
       "    </tr>\n",
       "  </tbody>\n",
       "</table>\n",
       "</div>"
      ],
      "text/plain": [
       "        DESYNPUF_ID           PDE_ID    SRVC_DT PROD_SRVC_ID  QTY_DSPNSD_NUM  \\\n",
       "0  00013D2EFD8E45D1  233664490397622 2008-01-03    247037252            30.0   \n",
       "\n",
       "   DAYS_SUPLY_NUM  PTNT_PAY_AMT  TOT_RX_CST_AMT  \n",
       "0              20          10.0           120.0  "
      ]
     },
     "execution_count": 14,
     "metadata": {},
     "output_type": "execute_result"
    }
   ],
   "source": [
    "q = '''SELECT * FROM prescription_drug_events '''\n",
    "\n",
    "drug_eventsDF = query_func(q, conn)\n",
    "print(drug_eventsDF.shape)\n",
    "drug_eventsDF.head(1) "
   ]
  },
  {
   "cell_type": "code",
   "execution_count": 15,
   "metadata": {},
   "outputs": [],
   "source": [
    "drug_eventsDF['SRVC_DT'] = pd.to_datetime(drug_eventsDF['SRVC_DT'], format='%Y%m%d', errors='coerce')"
   ]
  },
  {
   "cell_type": "code",
   "execution_count": 16,
   "metadata": {},
   "outputs": [
    {
     "name": "stdout",
     "output_type": "stream",
     "text": [
      "(5552421, 8)\n"
     ]
    },
    {
     "data": {
      "text/html": [
       "<div>\n",
       "<style scoped>\n",
       "    .dataframe tbody tr th:only-of-type {\n",
       "        vertical-align: middle;\n",
       "    }\n",
       "\n",
       "    .dataframe tbody tr th {\n",
       "        vertical-align: top;\n",
       "    }\n",
       "\n",
       "    .dataframe thead th {\n",
       "        text-align: right;\n",
       "    }\n",
       "</style>\n",
       "<table border=\"1\" class=\"dataframe\">\n",
       "  <thead>\n",
       "    <tr style=\"text-align: right;\">\n",
       "      <th></th>\n",
       "      <th>DESYNPUF_ID</th>\n",
       "      <th>PDE_ID</th>\n",
       "      <th>SRVC_DT</th>\n",
       "      <th>PROD_SRVC_ID</th>\n",
       "      <th>QTY_DSPNSD_NUM</th>\n",
       "      <th>DAYS_SUPLY_NUM</th>\n",
       "      <th>PTNT_PAY_AMT</th>\n",
       "      <th>TOT_RX_CST_AMT</th>\n",
       "    </tr>\n",
       "  </thead>\n",
       "  <tbody>\n",
       "    <tr>\n",
       "      <td>0</td>\n",
       "      <td>00013D2EFD8E45D1</td>\n",
       "      <td>233664490397622</td>\n",
       "      <td>2008-01-03</td>\n",
       "      <td>247037252</td>\n",
       "      <td>30.0</td>\n",
       "      <td>20</td>\n",
       "      <td>10.0</td>\n",
       "      <td>120.0</td>\n",
       "    </tr>\n",
       "  </tbody>\n",
       "</table>\n",
       "</div>"
      ],
      "text/plain": [
       "        DESYNPUF_ID           PDE_ID    SRVC_DT PROD_SRVC_ID  QTY_DSPNSD_NUM  \\\n",
       "0  00013D2EFD8E45D1  233664490397622 2008-01-03    247037252            30.0   \n",
       "\n",
       "   DAYS_SUPLY_NUM  PTNT_PAY_AMT  TOT_RX_CST_AMT  \n",
       "0              20          10.0           120.0  "
      ]
     },
     "execution_count": 16,
     "metadata": {},
     "output_type": "execute_result"
    }
   ],
   "source": [
    "print(drug_eventsDF.shape)\n",
    "drug_eventsDF.head(1) "
   ]
  },
  {
   "cell_type": "markdown",
   "metadata": {},
   "source": [
    "### Adding these DataFrames to the Database (overwriting)"
   ]
  },
  {
   "cell_type": "code",
   "execution_count": null,
   "metadata": {},
   "outputs": [],
   "source": [
    "# create an sqlalchemy connection\n",
    "conn_postgres = f'postgresql://{db_user}:{db_password}@{db_host}:{db_port}'\n",
    "engine = sqlalchemy.engine.create_engine(conn_postgres)"
   ]
  },
  {
   "cell_type": "code",
   "execution_count": null,
   "metadata": {},
   "outputs": [],
   "source": [
    "# connect using sqlalchemy\n",
    "connection = engine.connect()"
   ]
  },
  {
   "cell_type": "code",
   "execution_count": null,
   "metadata": {},
   "outputs": [],
   "source": [
    "# commit\n",
    "connection.execute('commit')"
   ]
  },
  {
   "cell_type": "code",
   "execution_count": null,
   "metadata": {},
   "outputs": [],
   "source": [
    "# close connection\n",
    "connection.close()"
   ]
  },
  {
   "cell_type": "code",
   "execution_count": null,
   "metadata": {},
   "outputs": [],
   "source": [
    "# open a new connection to the database that we created\n",
    "conn_str = f'postgresql://{db_user}:{db_password}@{db_host}:{db_port}/{database}'\n",
    "conn = psycopg2.connect(conn_str)"
   ]
  },
  {
   "cell_type": "code",
   "execution_count": null,
   "metadata": {},
   "outputs": [],
   "source": [
    "# connect using sqlalchemy\n",
    "engine = sqlalchemy.engine.create_engine(conn_str)"
   ]
  },
  {
   "cell_type": "markdown",
   "metadata": {},
   "source": [
    "#### Loading files to DataBase"
   ]
  },
  {
   "cell_type": "markdown",
   "metadata": {},
   "source": [
    "##### Beneficiary files"
   ]
  },
  {
   "cell_type": "code",
   "execution_count": null,
   "metadata": {},
   "outputs": [],
   "source": [
    "datetime.now()"
   ]
  },
  {
   "cell_type": "code",
   "execution_count": null,
   "metadata": {},
   "outputs": [],
   "source": [
    "Beneficiary2008DF.to_sql(name = 'beneficiary2008', con = engine, if_exists = 'replace', index = False)\n",
    "Beneficiary2009DF.to_sql(name = 'beneficiary2009', con = engine, if_exists = 'replace', index = False)\n",
    "Beneficiary2010DF.to_sql(name = 'beneficiary2010', con = engine, if_exists = 'replace', index = False) "
   ]
  },
  {
   "cell_type": "code",
   "execution_count": null,
   "metadata": {},
   "outputs": [],
   "source": [
    "datetime.now()"
   ]
  },
  {
   "cell_type": "markdown",
   "metadata": {},
   "source": [
    "#### ICD lookup files"
   ]
  },
  {
   "cell_type": "code",
   "execution_count": null,
   "metadata": {},
   "outputs": [],
   "source": [
    "ICD9_DiagonsisDF.to_sql(name = 'icd9_diagonsis', con = engine, if_exists = 'replace', index = False)\n",
    "ICD9_ProcedureDF.to_sql(name = 'icd9_procedures', con = engine, if_exists = 'replace', index = False)"
   ]
  },
  {
   "cell_type": "code",
   "execution_count": null,
   "metadata": {},
   "outputs": [],
   "source": [
    "datetime.now()"
   ]
  },
  {
   "cell_type": "markdown",
   "metadata": {},
   "source": [
    "#### Inpatient files"
   ]
  },
  {
   "cell_type": "code",
   "execution_count": null,
   "metadata": {},
   "outputs": [],
   "source": [
    "InpatientClaimsDF.to_sql(name = 'inpatient_claims', con = engine, if_exists = 'replace', index = False)"
   ]
  },
  {
   "cell_type": "code",
   "execution_count": null,
   "metadata": {},
   "outputs": [],
   "source": [
    "datetime.now()"
   ]
  },
  {
   "cell_type": "markdown",
   "metadata": {},
   "source": [
    "#### Deleting DataFrames and freeing up RAM"
   ]
  },
  {
   "cell_type": "code",
   "execution_count": null,
   "metadata": {},
   "outputs": [],
   "source": [
    "del [[InpatientClaimsDF, Beneficiary2008DF, Beneficiary2009DF, Beneficiary2010DF]]\n",
    "\n",
    "import gc\n",
    "gc.collect()\n",
    "\n",
    "InpatientClaimsDF = pd.DataFrame()\n",
    "Beneficiary2008DF = pd.DataFrame()\n",
    "Beneficiary2009DF = pd.DataFrame()\n",
    "Beneficiary2010DF = pd.DataFrame()"
   ]
  },
  {
   "cell_type": "code",
   "execution_count": null,
   "metadata": {},
   "outputs": [],
   "source": [
    "conn.commit()   #engine.commit()"
   ]
  },
  {
   "cell_type": "markdown",
   "metadata": {},
   "source": [
    "#### Prescription Events files"
   ]
  },
  {
   "cell_type": "code",
   "execution_count": null,
   "metadata": {},
   "outputs": [],
   "source": [
    "datetime.now()"
   ]
  },
  {
   "cell_type": "code",
   "execution_count": null,
   "metadata": {},
   "outputs": [],
   "source": [
    "# Caution: large file (0.5GB) - it takes approx 15 mins for this file alone\n",
    "drug_eventsDF.to_sql(name = 'prescription_drug_events', con = engine, if_exists = 'replace', index = False)"
   ]
  },
  {
   "cell_type": "code",
   "execution_count": null,
   "metadata": {},
   "outputs": [],
   "source": [
    "datetime.now()"
   ]
  },
  {
   "cell_type": "code",
   "execution_count": null,
   "metadata": {},
   "outputs": [],
   "source": [
    "#### Deleting DataFrames and freeing up RAM"
   ]
  },
  {
   "cell_type": "code",
   "execution_count": null,
   "metadata": {},
   "outputs": [],
   "source": [
    "del [drug_eventsDF]\n",
    "gc.collect()\n",
    "\n",
    "drug_eventsDF = pd.DataFrame()"
   ]
  },
  {
   "cell_type": "markdown",
   "metadata": {},
   "source": [
    "#### Outpatient file"
   ]
  },
  {
   "cell_type": "code",
   "execution_count": null,
   "metadata": {},
   "outputs": [],
   "source": [
    "datetime.now()"
   ]
  },
  {
   "cell_type": "code",
   "execution_count": null,
   "metadata": {},
   "outputs": [],
   "source": [
    "# Should take approx 15 mins to load\n",
    "OutpatientClaimsDF.to_sql(name = 'outpatient_claims', con = engine, if_exists = 'replace', index = False)"
   ]
  },
  {
   "cell_type": "code",
   "execution_count": null,
   "metadata": {},
   "outputs": [],
   "source": [
    "datetime.now()"
   ]
  },
  {
   "cell_type": "code",
   "execution_count": null,
   "metadata": {},
   "outputs": [],
   "source": [
    "del [OutpatientClaimsDF]\n",
    "gc.collect()\n",
    "\n",
    "OutpatientClaimsDF = pd.DataFrame()"
   ]
  },
  {
   "cell_type": "code",
   "execution_count": null,
   "metadata": {},
   "outputs": [],
   "source": [
    "conn.commit()   #engine.commit()"
   ]
  },
  {
   "cell_type": "code",
   "execution_count": null,
   "metadata": {},
   "outputs": [],
   "source": []
  },
  {
   "cell_type": "markdown",
   "metadata": {},
   "source": [
    "## ----------------------- To delete from here --------------------------------------------"
   ]
  },
  {
   "cell_type": "markdown",
   "metadata": {},
   "source": [
    "#### Finding who died in 2010"
   ]
  },
  {
   "cell_type": "code",
   "execution_count": null,
   "metadata": {},
   "outputs": [],
   "source": [
    "aa for error and stopping "
   ]
  },
  {
   "cell_type": "code",
   "execution_count": null,
   "metadata": {},
   "outputs": [],
   "source": [
    "died2010 = pd.DataFrame()\n",
    "died2010[['DESYNPUF_ID', 'BENE_DEATH_DT']] = Beneficiary2010DF[Beneficiary2010DF.BENE_DEATH_DT.notnull()][['DESYNPUF_ID','BENE_DEATH_DT']]\n",
    "print(died2010.shape)\n",
    "died2010.head(2)"
   ]
  },
  {
   "cell_type": "markdown",
   "metadata": {},
   "source": [
    "#### Finding who died in 2009"
   ]
  },
  {
   "cell_type": "code",
   "execution_count": null,
   "metadata": {},
   "outputs": [],
   "source": [
    "died2009 = pd.DataFrame()\n",
    "died2009[['DESYNPUF_ID', 'BENE_DEATH_DT']] = Beneficiary2009DF[Beneficiary2009DF.BENE_DEATH_DT.notnull()][['DESYNPUF_ID','BENE_DEATH_DT']]\n",
    "print(died2009.shape)\n",
    "died2009.head(2)"
   ]
  },
  {
   "cell_type": "markdown",
   "metadata": {},
   "source": [
    "#### Finding who died in 2008"
   ]
  },
  {
   "cell_type": "code",
   "execution_count": null,
   "metadata": {},
   "outputs": [],
   "source": [
    "died2008 = pd.DataFrame()\n",
    "died2008[['DESYNPUF_ID', 'BENE_DEATH_DT']] = Beneficiary2008DF[Beneficiary2008DF.BENE_DEATH_DT.notnull()][['DESYNPUF_ID','BENE_DEATH_DT']]\n",
    "print(died2008.shape)\n",
    "died2008.head(2)"
   ]
  },
  {
   "cell_type": "code",
   "execution_count": null,
   "metadata": {},
   "outputs": [],
   "source": [
    "# Picking 1 dead patient from 2010 and looking for his/her history in inpatient and outpatient files\n",
    "\n",
    "#died2010.DESYNPUF_ID"
   ]
  },
  {
   "cell_type": "code",
   "execution_count": null,
   "metadata": {},
   "outputs": [],
   "source": []
  },
  {
   "cell_type": "code",
   "execution_count": null,
   "metadata": {},
   "outputs": [],
   "source": []
  },
  {
   "cell_type": "code",
   "execution_count": null,
   "metadata": {},
   "outputs": [],
   "source": [
    "# Finding Inpatient and outpatuient activies of deads"
   ]
  },
  {
   "cell_type": "code",
   "execution_count": null,
   "metadata": {},
   "outputs": [],
   "source": [
    "set(InpatientClaimsDF.DESYNPUF_ID).intersection(set(died2010.DESYNPUF_ID))\n",
    "\n",
    "#InpatientClaimsDF[InpatientClaimsDF.DESYNPUF_ID == '00016F745862898F'] #died2010.DESYNPUF_ID[InpatientClaimsDF.DESYNPUF_ID.index]]"
   ]
  },
  {
   "cell_type": "code",
   "execution_count": null,
   "metadata": {},
   "outputs": [],
   "source": [
    "set(OutpatientClaimsDF.DESYNPUF_ID).intersection(set(died2010.DESYNPUF_ID))\n",
    "\n",
    "#OutpatientClaimsDF[OutpatientClaimsDF.DESYNPUF_ID == '00016F745862898F']#died2010.DESYNPUF_ID[OutpatientClaimsDF.DESYNPUF_ID.index]]"
   ]
  },
  {
   "cell_type": "code",
   "execution_count": null,
   "metadata": {},
   "outputs": [],
   "source": [
    "len(set(InpatientClaimsDF.DESYNPUF_ID).intersection(set(died2009.DESYNPUF_ID)))\n",
    "\n",
    "#InpatientClaimsDF[InpatientClaimsDF.DESYNPUF_ID == died2009.DESYNPUF_ID[InpatientClaimsDF.DESYNPUF_ID.index]]"
   ]
  },
  {
   "cell_type": "code",
   "execution_count": null,
   "metadata": {},
   "outputs": [],
   "source": [
    "len(set(OutpatientClaimsDF.DESYNPUF_ID).intersection(set(died2009.DESYNPUF_ID)))\n",
    "\n",
    "#OutpatientClaimsDF[OutpatientClaimsDF.DESYNPUF_ID == died2009.DESYNPUF_ID[OutpatientClaimsDF.DESYNPUF_ID.index]]"
   ]
  },
  {
   "cell_type": "code",
   "execution_count": null,
   "metadata": {},
   "outputs": [],
   "source": [
    "len(set(InpatientClaimsDF.DESYNPUF_ID).intersection(set(died2008.DESYNPUF_ID)))\n",
    "\n",
    "#InpatientClaimsDF[InpatientClaimsDF.DESYNPUF_ID == died2008.DESYNPUF_ID[InpatientClaimsDF.DESYNPUF_ID.index]]"
   ]
  },
  {
   "cell_type": "code",
   "execution_count": null,
   "metadata": {},
   "outputs": [],
   "source": [
    "len(set(OutpatientClaimsDF.DESYNPUF_ID).intersection(set(died2008.DESYNPUF_ID)))\n",
    "\n",
    "#OutpatientClaimsDF[OutpatientClaimsDF.DESYNPUF_ID == died2008.DESYNPUF_ID[OutpatientClaimsDF.index]]"
   ]
  },
  {
   "cell_type": "code",
   "execution_count": null,
   "metadata": {},
   "outputs": [],
   "source": [
    "# checking if patients who died in 2009 are also in 2008 beneficiary list\n",
    "\n",
    "print(len(set(Beneficiary2008DF.DESYNPUF_ID).intersection(set(died2009.DESYNPUF_ID))))\n",
    "bene2008_died2009 = set(Beneficiary2008DF.DESYNPUF_ID).intersection(set(died2009.DESYNPUF_ID))"
   ]
  },
  {
   "cell_type": "code",
   "execution_count": null,
   "metadata": {},
   "outputs": [],
   "source": [
    "list(bene2008_died2009)[0:5]"
   ]
  },
  {
   "cell_type": "code",
   "execution_count": null,
   "metadata": {},
   "outputs": [],
   "source": [
    "# NOW FIND NUMBER OF INPTS & OUTPTS VISITS AND DIAG CODE IN 2008 AND 2009 FOR THESE DEAD PTS IN 2009"
   ]
  },
  {
   "cell_type": "code",
   "execution_count": null,
   "metadata": {},
   "outputs": [],
   "source": [
    "# LATER USE THESE TO PREDICT PATIENTS IN 2008 OR 2009 OR 2010, IF THEY WILL DIE OR WILL BE READMITTED OR WILL \n",
    "# BE EXPENSIVE IN YEARS TO COME"
   ]
  },
  {
   "cell_type": "markdown",
   "metadata": {},
   "source": [
    "#### Now checking if patients in 2010 are also in 2009 and 2008 etc"
   ]
  },
  {
   "cell_type": "code",
   "execution_count": null,
   "metadata": {},
   "outputs": [],
   "source": [
    "# Any common patients in 2008 and 2009\n",
    "\n",
    "common2008_2009 = set(Beneficiary2009DF.DESYNPUF_ID).intersection(set(Beneficiary2008DF.DESYNPUF_ID))\n",
    "len(common2008_2009)"
   ]
  },
  {
   "cell_type": "code",
   "execution_count": null,
   "metadata": {},
   "outputs": [],
   "source": [
    "list(common2008_2009)[0:5]"
   ]
  },
  {
   "cell_type": "code",
   "execution_count": null,
   "metadata": {},
   "outputs": [],
   "source": [
    "# common patients in 2008 and 2010\n",
    "\n",
    "set(Beneficiary2010DF.DESYNPUF_ID).intersection(set(Beneficiary2008DF.DESYNPUF_ID))"
   ]
  },
  {
   "cell_type": "code",
   "execution_count": null,
   "metadata": {},
   "outputs": [],
   "source": [
    "# common patients in 2009 and 2010\n",
    "\n",
    "set(Beneficiary2009DF.DESYNPUF_ID).intersection(set(Beneficiary2010DF.DESYNPUF_ID))"
   ]
  },
  {
   "cell_type": "code",
   "execution_count": null,
   "metadata": {},
   "outputs": [],
   "source": [
    "# check visits in each year"
   ]
  },
  {
   "cell_type": "markdown",
   "metadata": {},
   "source": [
    "#### Chekcing Inpatient and outpatient visits of common patients in Year 2008-2009"
   ]
  },
  {
   "cell_type": "code",
   "execution_count": null,
   "metadata": {},
   "outputs": [],
   "source": [
    "opd2008 = datetime.strptime(str(OutpatientClaimsDF.CLM_FROM_DT).split('.')[0], '%Y%m%d')\n",
    "#opd2008.shape"
   ]
  },
  {
   "cell_type": "code",
   "execution_count": null,
   "metadata": {},
   "outputs": [],
   "source": [
    "str(OutpatientClaimsDF.CLM_FROM_DT)[5]"
   ]
  },
  {
   "cell_type": "code",
   "execution_count": null,
   "metadata": {},
   "outputs": [],
   "source": [
    "# Pt IDs for OPD in 2008\n",
    "OutpatientID2008 = OutpatientClaimsDF[str(OutpatientClaimsDF.CLM_FROM_DT).split('.')[0], '%Y%m%d').year == 2008][DESYNPUF_ID] \n",
    "OutpatientID2008.shape"
   ]
  },
  {
   "cell_type": "code",
   "execution_count": null,
   "metadata": {},
   "outputs": [],
   "source": [
    "# Pt IDs for OPD in 2009\n",
    "OutpatientID2009 OutpatientClaimsDF.DESYNPUF_ID for year 2008"
   ]
  },
  {
   "cell_type": "code",
   "execution_count": null,
   "metadata": {},
   "outputs": [],
   "source": [
    "OutpatientID2010"
   ]
  },
  {
   "cell_type": "code",
   "execution_count": null,
   "metadata": {},
   "outputs": [],
   "source": [
    "InpatientID2008"
   ]
  },
  {
   "cell_type": "code",
   "execution_count": null,
   "metadata": {},
   "outputs": [],
   "source": [
    "InpatientID2009"
   ]
  },
  {
   "cell_type": "code",
   "execution_count": null,
   "metadata": {},
   "outputs": [],
   "source": [
    "InpatientID2010"
   ]
  },
  {
   "cell_type": "code",
   "execution_count": null,
   "metadata": {},
   "outputs": [],
   "source": [
    "len(set(OutpatientClaimsDF.DESYNPUF_ID).intersection(set(common2008_2009)))"
   ]
  },
  {
   "cell_type": "code",
   "execution_count": null,
   "metadata": {},
   "outputs": [],
   "source": [
    "len(set(InpatientClaimsDF.DESYNPUF_ID).intersection(set(common2008_2009)))"
   ]
  },
  {
   "cell_type": "code",
   "execution_count": null,
   "metadata": {},
   "outputs": [],
   "source": []
  },
  {
   "cell_type": "markdown",
   "metadata": {},
   "source": [
    "#### Trying to stitch history for few patienst who died in 2009 but were also beneficiary in 2008"
   ]
  },
  {
   "cell_type": "code",
   "execution_count": null,
   "metadata": {},
   "outputs": [],
   "source": [
    "# pt IDs\n",
    "list(bene2008_died2009)[0:1]"
   ]
  },
  {
   "cell_type": "code",
   "execution_count": null,
   "metadata": {},
   "outputs": [],
   "source": [
    "# look for ICD9 etc from beneficiary in 2008 and 2009\n",
    "# look for inpatient claims in 2008, opd in 2008, inp in 2009, opd in 2009"
   ]
  },
  {
   "cell_type": "code",
   "execution_count": null,
   "metadata": {},
   "outputs": [],
   "source": [
    "Beneficiary2008DF.columns"
   ]
  },
  {
   "cell_type": "code",
   "execution_count": null,
   "metadata": {},
   "outputs": [],
   "source": [
    "# Looking for patient's diagnosis details in Beneficiary2008DF for pts who died in 2009"
   ]
  },
  {
   "cell_type": "code",
   "execution_count": null,
   "metadata": {},
   "outputs": [],
   "source": [
    "Beneficiary2008DF[Beneficiary2008DF.DESYNPUF_ID.isin (list(bene2008_died2009))]['SP_DIABETES']"
   ]
  },
  {
   "cell_type": "code",
   "execution_count": null,
   "metadata": {},
   "outputs": [],
   "source": []
  },
  {
   "cell_type": "code",
   "execution_count": null,
   "metadata": {},
   "outputs": [],
   "source": [
    "# Looking for patient's diagnosis details in Beneficiary2009DF for pts who died in 2009"
   ]
  },
  {
   "cell_type": "code",
   "execution_count": null,
   "metadata": {},
   "outputs": [],
   "source": [
    ",'SP_CHF', 'SP_ALZHDMTA'\n",
    "                                                                                  'SP_CHRNKIDN', 'SP_CNCR', 'SP_COPD', 'SP_DEPRESSN',\n",
    "       , 'SP_ISCHMCHT', 'SP_OSTEOPRS', 'SP_RA_OA', 'SP_STRKETIA']]"
   ]
  },
  {
   "cell_type": "code",
   "execution_count": null,
   "metadata": {},
   "outputs": [],
   "source": [
    "# Looking for patient's diagnosis details in Beneficiary2010DF for pts who died in 2009 - unlikey but checking"
   ]
  },
  {
   "cell_type": "code",
   "execution_count": null,
   "metadata": {},
   "outputs": [],
   "source": [
    "InpatientClaimsDF.head(1)"
   ]
  },
  {
   "cell_type": "code",
   "execution_count": null,
   "metadata": {},
   "outputs": [],
   "source": [
    "InpatientClaimsDF.CLM_FROM_DT.year"
   ]
  },
  {
   "cell_type": "code",
   "execution_count": null,
   "metadata": {},
   "outputs": [],
   "source": [
    "# claims data by year"
   ]
  },
  {
   "cell_type": "code",
   "execution_count": null,
   "metadata": {},
   "outputs": [],
   "source": [
    "Inpatientclaims2008 = InpatientClaimsDF[InpatientClaimsDF.CLM_FROM_DT.year]"
   ]
  },
  {
   "cell_type": "code",
   "execution_count": null,
   "metadata": {},
   "outputs": [],
   "source": []
  },
  {
   "cell_type": "code",
   "execution_count": null,
   "metadata": {},
   "outputs": [],
   "source": []
  },
  {
   "cell_type": "code",
   "execution_count": null,
   "metadata": {},
   "outputs": [],
   "source": [
    "print(len(Beneficiary1_2010DF.columns))\n",
    "Beneficiary1_2010DF.columns"
   ]
  },
  {
   "cell_type": "code",
   "execution_count": null,
   "metadata": {},
   "outputs": [],
   "source": [
    "# checking if all the columns in 3 files matches\n",
    "\n",
    "print(len(set(Beneficiary1_2008DF.columns).intersection(set(Beneficiary1_2009DF.columns))))\n",
    "set(Beneficiary1_2008DF.columns).intersection(set(Beneficiary1_2009DF.columns))"
   ]
  },
  {
   "cell_type": "code",
   "execution_count": null,
   "metadata": {},
   "outputs": [],
   "source": [
    "# Combining all benefiicary DataFrames\n",
    "\n",
    "Beneficiary1_DF= pd.concat([Beneficiary1_2008DF, Beneficiary1_2009DF, Beneficiary1_2010DF], axis=0)  # on rows\n",
    "Beneficiary1_DF.shape"
   ]
  },
  {
   "cell_type": "code",
   "execution_count": null,
   "metadata": {},
   "outputs": [],
   "source": [
    "Beneficiary1_DF.head(2)"
   ]
  },
  {
   "cell_type": "code",
   "execution_count": null,
   "metadata": {},
   "outputs": [],
   "source": [
    "# unique beneficiaries\n",
    "\n",
    "Beneficiary1_DF.DESYNPUF_ID.nunique()"
   ]
  },
  {
   "cell_type": "code",
   "execution_count": null,
   "metadata": {},
   "outputs": [],
   "source": [
    "print(len(Inpatient1_DF.columns))\n",
    "Inpatient1_DF.columns"
   ]
  },
  {
   "cell_type": "code",
   "execution_count": null,
   "metadata": {},
   "outputs": [],
   "source": [
    "print(len(Outpatient1_DF.columns))\n",
    "Outpatient1_DF.columns"
   ]
  },
  {
   "cell_type": "code",
   "execution_count": null,
   "metadata": {},
   "outputs": [],
   "source": [
    "# Checking how many columns in inpateint and outpatient matches\n",
    "\n",
    "print(len(set(Inpatient1_DF.columns).intersection(set(Outpatient1_DF.columns))))\n",
    "set(Inpatient1_DF.columns).intersection(set(Outpatient1_DF.columns))"
   ]
  },
  {
   "cell_type": "code",
   "execution_count": null,
   "metadata": {},
   "outputs": [],
   "source": [
    "# ASSUMING DESYNPUF_ID FOR INPATIENT AND OUTPATUIENTS ARE UNIQUE - CONFIRM"
   ]
  },
  {
   "cell_type": "code",
   "execution_count": null,
   "metadata": {},
   "outputs": [],
   "source": [
    "#check if any DESYNPUF_ID are repeated "
   ]
  },
  {
   "cell_type": "code",
   "execution_count": null,
   "metadata": {},
   "outputs": [],
   "source": [
    "Inpatient1_DF.DESYNPUF_ID.value_counts()"
   ]
  },
  {
   "cell_type": "code",
   "execution_count": null,
   "metadata": {},
   "outputs": [],
   "source": [
    "Outpatient1_DF.DESYNPUF_ID.value_counts()"
   ]
  },
  {
   "cell_type": "code",
   "execution_count": null,
   "metadata": {},
   "outputs": [],
   "source": [
    "#check if DESYNPUF_ID in inpatient matches in outpatient"
   ]
  },
  {
   "cell_type": "code",
   "execution_count": null,
   "metadata": {},
   "outputs": [],
   "source": [
    "print(len(Inpatient1_DF.DESYNPUF_ID))\n",
    "print(len(Outpatient1_DF.DESYNPUF_ID))\n",
    "print('There are {} common Ids in inpatient & outpatient'.format(len(set(Outpatient1_DF['DESYNPUF_ID']).intersection(set(Inpatient1_DF['DESYNPUF_ID'])))))"
   ]
  },
  {
   "cell_type": "code",
   "execution_count": null,
   "metadata": {},
   "outputs": [],
   "source": []
  },
  {
   "cell_type": "code",
   "execution_count": null,
   "metadata": {},
   "outputs": [],
   "source": [
    "# Combining all DataFrames  # CHECK with Postgres or Tableau if there is data loss\n",
    "#pd.merge(df_a, df_b, on='subject_id', how='inner')\n",
    "\n",
    "InpatientDF = pd.merge(Beneficiary1_DF,Inpatient1_DF, on= 'DESYNPUF_ID', how='inner') \n",
    "OutpatientDF = pd.merge(Beneficiary1_DF, Outpatient1_DF, on= 'DESYNPUF_ID', how='inner') \n",
    "\n",
    "# This is wrong\n",
    "#Inpatient_temp1 = Beneficiary1_DF.merge(Inpatient1_DF, left_index = True, right_index = True) # Merge is inner join by default\n",
    "#Outpatient_temp1 = Beneficiary1_DF.merge(Outpatient1_DF, left_index = True, right_index = True) # Merge is inner join by default\n",
    "\n",
    "print(InpatientDF.shape)\n",
    "print(OutpatientDF.shape)"
   ]
  },
  {
   "cell_type": "code",
   "execution_count": null,
   "metadata": {},
   "outputs": [],
   "source": [
    "# Checking how many columns in inpatient and outpatient matches\n",
    "\n",
    "#print(len(set(Inpatient_temp1.columns).intersection(set(Outpatient_temp1.columns))))\n",
    "#set(Inpatient_temp1.columns).intersection(set(Outpatient_temp1.columns))"
   ]
  },
  {
   "cell_type": "code",
   "execution_count": null,
   "metadata": {},
   "outputs": [],
   "source": [
    "\n"
   ]
  },
  {
   "cell_type": "code",
   "execution_count": null,
   "metadata": {},
   "outputs": [],
   "source": [
    "InpatientDF.dtypes"
   ]
  },
  {
   "cell_type": "code",
   "execution_count": null,
   "metadata": {},
   "outputs": [],
   "source": [
    "Inpatient_corr = InpatientDF.corr()\n",
    "Inpatient_corr"
   ]
  },
  {
   "cell_type": "code",
   "execution_count": null,
   "metadata": {},
   "outputs": [],
   "source": [
    "fig, ax = plt.subplots(figsize=(60,36))\n",
    "matrix = np.triu(Inpatient_corr)\n",
    "ax = sns.heatmap(Inpatient_corr, annot = True,   center= 0 , mask=matrix,  cmap=\"BuPu\" ,fmt='.1g');#cmap= 'coolwarm',"
   ]
  },
  {
   "cell_type": "code",
   "execution_count": null,
   "metadata": {},
   "outputs": [],
   "source": [
    "OutpatientDF.dtypes"
   ]
  },
  {
   "cell_type": "code",
   "execution_count": null,
   "metadata": {},
   "outputs": [],
   "source": [
    "Outpatient_corr = OutpatientDF.corr()\n",
    "Outpatient_corr"
   ]
  },
  {
   "cell_type": "code",
   "execution_count": null,
   "metadata": {},
   "outputs": [],
   "source": [
    "fig, ax = plt.subplots(figsize=(60,36))\n",
    "matrix = np.triu(Outpatient_corr)\n",
    "ax = sns.heatmap(Outpatient_corr, annot = True,   center= 0 , mask=matrix,  cmap=\"BuPu\" ,fmt='.1g');#cmap= 'coolwarm',"
   ]
  },
  {
   "cell_type": "code",
   "execution_count": null,
   "metadata": {},
   "outputs": [],
   "source": [
    "# Save the corr in png to analyse in bigger"
   ]
  },
  {
   "cell_type": "code",
   "execution_count": null,
   "metadata": {},
   "outputs": [],
   "source": [
    "# Merging inpatient and outpatient DFs but merging the data on same column name while add remaining columns"
   ]
  },
  {
   "cell_type": "code",
   "execution_count": null,
   "metadata": {},
   "outputs": [],
   "source": [
    "InpatientDF.shape"
   ]
  },
  {
   "cell_type": "code",
   "execution_count": null,
   "metadata": {},
   "outputs": [],
   "source": [
    "Beneficiary1_DF.shape "
   ]
  },
  {
   "cell_type": "code",
   "execution_count": null,
   "metadata": {},
   "outputs": [],
   "source": [
    "Beneficiary1_DF.DESYNPUF_ID.nunique() # some are both inpatients and outpatients (343701-229163)"
   ]
  },
  {
   "cell_type": "code",
   "execution_count": null,
   "metadata": {},
   "outputs": [],
   "source": [
    "# how many deaths\n",
    "\n",
    "Beneficiary1_DF[Beneficiary1_DF.BENE_DEATH_DT.notnull()]['DESYNPUF_ID'].nunique() # for both inpatients and outpatients"
   ]
  },
  {
   "cell_type": "code",
   "execution_count": null,
   "metadata": {},
   "outputs": [],
   "source": [
    "Beneficiary_dead_ptsID = Beneficiary1_DF[Beneficiary1_DF.BENE_DEATH_DT.notnull()]['DESYNPUF_ID']\n",
    "\n",
    "#Beneficiary1_DF[Beneficiary1_DF.BENE_DEATH_DT.notnull()]['BENE_DEATH_DT']"
   ]
  },
  {
   "cell_type": "code",
   "execution_count": null,
   "metadata": {},
   "outputs": [],
   "source": []
  },
  {
   "cell_type": "code",
   "execution_count": null,
   "metadata": {},
   "outputs": [],
   "source": [
    "# how many deaths\n",
    "\n",
    "#InpatientDF[\n",
    "print(InpatientDF[InpatientDF.BENE_DEATH_DT.notnull()]['DESYNPUF_ID'].nunique())\n",
    "Inpatient_dead_ptsID = InpatientDF[InpatientDF.BENE_DEATH_DT.notnull()]['DESYNPUF_ID']"
   ]
  },
  {
   "cell_type": "code",
   "execution_count": null,
   "metadata": {},
   "outputs": [],
   "source": []
  },
  {
   "cell_type": "code",
   "execution_count": null,
   "metadata": {},
   "outputs": [],
   "source": [
    "# how many deaths \n",
    "\n",
    "#OutpatientDF[\n",
    "print(OutpatientDF[OutpatientDF.BENE_DEATH_DT.notnull()]['DESYNPUF_ID'].nunique())\n",
    "Outpatient_dead_ptsID = OutpatientDF[OutpatientDF.BENE_DEATH_DT.notnull()]['DESYNPUF_ID']"
   ]
  },
  {
   "cell_type": "code",
   "execution_count": null,
   "metadata": {},
   "outputs": [],
   "source": [
    "\n",
    "Beneficiary1_DF.columns"
   ]
  },
  {
   "cell_type": "code",
   "execution_count": null,
   "metadata": {},
   "outputs": [],
   "source": [
    "OutpatientDF.head(2)"
   ]
  },
  {
   "cell_type": "code",
   "execution_count": null,
   "metadata": {},
   "outputs": [],
   "source": []
  }
 ],
 "metadata": {
  "kernelspec": {
   "display_name": "Python 3",
   "language": "python",
   "name": "python3"
  },
  "language_info": {
   "codemirror_mode": {
    "name": "ipython",
    "version": 3
   },
   "file_extension": ".py",
   "mimetype": "text/x-python",
   "name": "python",
   "nbconvert_exporter": "python",
   "pygments_lexer": "ipython3",
   "version": "3.7.4"
  }
 },
 "nbformat": 4,
 "nbformat_minor": 2
}
