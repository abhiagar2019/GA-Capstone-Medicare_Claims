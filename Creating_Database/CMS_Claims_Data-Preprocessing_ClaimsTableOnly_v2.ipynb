{
 "cells": [
  {
   "cell_type": "code",
   "execution_count": 1,
   "metadata": {},
   "outputs": [],
   "source": [
    "import pandas as pd\n",
    "import numpy as np\n",
    "\n",
    "import time\n",
    "\n",
    "import sqlalchemy\n",
    "import psycopg2\n",
    "\n",
    "from tqdm import tqdm\n",
    "from datetime import datetime\n",
    "\n",
    "pd.set_option('display.max_columns', 500)   # to display 500 columns\n",
    "pd.set_option('display.max_rows', 500) # to display 500 rows"
   ]
  },
  {
   "cell_type": "code",
   "execution_count": 2,
   "metadata": {},
   "outputs": [],
   "source": [
    "#![](FileStructure.png)\n",
    "#from IPython.display import Image\n",
    "#Image(filename='FileStructure.png')"
   ]
  },
  {
   "cell_type": "code",
   "execution_count": 3,
   "metadata": {},
   "outputs": [],
   "source": [
    "#import psycopg2\n",
    "\n",
    "# DSN (data source name) format for database connections:  \n",
    "# [protocol / database  name]://[username]:[password]@[hostname / ip]:[port]/[database name here]\n",
    "\n",
    "# on your computer you are the user postgres (full administrative access)\n",
    "db_user = 'postgres'\n",
    "# if you need a password to access a database, put it here\n",
    "db_password = ''\n",
    "# on your computer, use localhost\n",
    "db_host = 'localhost'\n",
    "# the default port for postgres is 5432\n",
    "db_port = 5432\n",
    "# we want to connect to the northwind database\n",
    "database =   'cms_medicare_claims'  # 'cms_claims' #\n",
    "\n",
    "conn_str = f'postgresql://{db_user}:{db_password}@{db_host}:{db_port}/{database}'\n",
    "conn = psycopg2.connect(conn_str)"
   ]
  },
  {
   "cell_type": "code",
   "execution_count": 4,
   "metadata": {},
   "outputs": [
    {
     "data": {
      "text/html": [
       "<div>\n",
       "<style scoped>\n",
       "    .dataframe tbody tr th:only-of-type {\n",
       "        vertical-align: middle;\n",
       "    }\n",
       "\n",
       "    .dataframe tbody tr th {\n",
       "        vertical-align: top;\n",
       "    }\n",
       "\n",
       "    .dataframe thead th {\n",
       "        text-align: right;\n",
       "    }\n",
       "</style>\n",
       "<table border=\"1\" class=\"dataframe\">\n",
       "  <thead>\n",
       "    <tr style=\"text-align: right;\">\n",
       "      <th></th>\n",
       "      <th>tablename</th>\n",
       "    </tr>\n",
       "  </thead>\n",
       "  <tbody>\n",
       "    <tr>\n",
       "      <td>0</td>\n",
       "      <td>icd9_diagonsis</td>\n",
       "    </tr>\n",
       "    <tr>\n",
       "      <td>1</td>\n",
       "      <td>beneficiary2008</td>\n",
       "    </tr>\n",
       "    <tr>\n",
       "      <td>2</td>\n",
       "      <td>beneficiary2009</td>\n",
       "    </tr>\n",
       "    <tr>\n",
       "      <td>3</td>\n",
       "      <td>beneficiary2010</td>\n",
       "    </tr>\n",
       "    <tr>\n",
       "      <td>4</td>\n",
       "      <td>prescription_drug_events</td>\n",
       "    </tr>\n",
       "    <tr>\n",
       "      <td>5</td>\n",
       "      <td>carrier_claims</td>\n",
       "    </tr>\n",
       "    <tr>\n",
       "      <td>6</td>\n",
       "      <td>icd9_procedures</td>\n",
       "    </tr>\n",
       "    <tr>\n",
       "      <td>7</td>\n",
       "      <td>hcpcs</td>\n",
       "    </tr>\n",
       "    <tr>\n",
       "      <td>8</td>\n",
       "      <td>inpatient_claims</td>\n",
       "    </tr>\n",
       "    <tr>\n",
       "      <td>9</td>\n",
       "      <td>outpatient_claims</td>\n",
       "    </tr>\n",
       "  </tbody>\n",
       "</table>\n",
       "</div>"
      ],
      "text/plain": [
       "                  tablename\n",
       "0            icd9_diagonsis\n",
       "1           beneficiary2008\n",
       "2           beneficiary2009\n",
       "3           beneficiary2010\n",
       "4  prescription_drug_events\n",
       "5            carrier_claims\n",
       "6           icd9_procedures\n",
       "7                     hcpcs\n",
       "8          inpatient_claims\n",
       "9         outpatient_claims"
      ]
     },
     "execution_count": 4,
     "metadata": {},
     "output_type": "execute_result"
    }
   ],
   "source": [
    "# Check Tables in the Database\n",
    "query = \"\"\"\n",
    "SELECT tablename \n",
    "FROM pg_catalog.pg_tables \n",
    "WHERE schemaname='public'\n",
    "\"\"\"\n",
    "\n",
    "pd.read_sql(query, con=conn)"
   ]
  },
  {
   "cell_type": "code",
   "execution_count": 5,
   "metadata": {},
   "outputs": [
    {
     "data": {
      "text/plain": [
       "' query = \"\"\"\\nSELECT table_name, column_name, data_type, table_schema\\nFROM information_schema.columns\\nWHERE table_schema = \\'public\\'\\norder by table_name\\n\"\"\"\\npd.read_sql(query, con=conn) '"
      ]
     },
     "execution_count": 5,
     "metadata": {},
     "output_type": "execute_result"
    }
   ],
   "source": [
    "# to view All tables and columns\n",
    "''' query = \"\"\"\n",
    "SELECT table_name, column_name, data_type, table_schema\n",
    "FROM information_schema.columns\n",
    "WHERE table_schema = 'public'\n",
    "order by table_name\n",
    "\"\"\"\n",
    "pd.read_sql(query, con=conn) '''"
   ]
  },
  {
   "cell_type": "markdown",
   "metadata": {},
   "source": [
    "#### Function"
   ]
  },
  {
   "cell_type": "code",
   "execution_count": 6,
   "metadata": {},
   "outputs": [],
   "source": [
    "def query_func(query, conn):\n",
    "    df = pd.read_sql(query , con=conn)\n",
    "    return df"
   ]
  },
  {
   "cell_type": "markdown",
   "metadata": {},
   "source": [
    "### Data processing & lookups for Carrier Claims table"
   ]
  },
  {
   "cell_type": "code",
   "execution_count": 7,
   "metadata": {},
   "outputs": [
    {
     "data": {
      "text/plain": [
       "datetime.datetime(2020, 5, 2, 20, 51, 51, 700700)"
      ]
     },
     "execution_count": 7,
     "metadata": {},
     "output_type": "execute_result"
    }
   ],
   "source": [
    "datetime.now()"
   ]
  },
  {
   "cell_type": "code",
   "execution_count": 8,
   "metadata": {},
   "outputs": [
    {
     "data": {
      "text/html": [
       "<div>\n",
       "<style scoped>\n",
       "    .dataframe tbody tr th:only-of-type {\n",
       "        vertical-align: middle;\n",
       "    }\n",
       "\n",
       "    .dataframe tbody tr th {\n",
       "        vertical-align: top;\n",
       "    }\n",
       "\n",
       "    .dataframe thead th {\n",
       "        text-align: right;\n",
       "    }\n",
       "</style>\n",
       "<table border=\"1\" class=\"dataframe\">\n",
       "  <thead>\n",
       "    <tr style=\"text-align: right;\">\n",
       "      <th></th>\n",
       "      <th>DESYNPUF_ID</th>\n",
       "      <th>CLM_ID</th>\n",
       "      <th>CLM_FROM_DT</th>\n",
       "      <th>CLM_THRU_DT</th>\n",
       "      <th>ICD9_DGNS_CD_1</th>\n",
       "      <th>ICD9_DGNS_CD_2</th>\n",
       "      <th>ICD9_DGNS_CD_3</th>\n",
       "      <th>ICD9_DGNS_CD_4</th>\n",
       "      <th>ICD9_DGNS_CD_5</th>\n",
       "      <th>ICD9_DGNS_CD_6</th>\n",
       "      <th>ICD9_DGNS_CD_7</th>\n",
       "      <th>ICD9_DGNS_CD_8</th>\n",
       "      <th>PRF_PHYSN_NPI_1</th>\n",
       "      <th>PRF_PHYSN_NPI_2</th>\n",
       "      <th>PRF_PHYSN_NPI_3</th>\n",
       "      <th>PRF_PHYSN_NPI_4</th>\n",
       "      <th>PRF_PHYSN_NPI_5</th>\n",
       "      <th>PRF_PHYSN_NPI_6</th>\n",
       "      <th>PRF_PHYSN_NPI_7</th>\n",
       "      <th>PRF_PHYSN_NPI_8</th>\n",
       "      <th>PRF_PHYSN_NPI_9</th>\n",
       "      <th>PRF_PHYSN_NPI_10</th>\n",
       "      <th>PRF_PHYSN_NPI_11</th>\n",
       "      <th>PRF_PHYSN_NPI_12</th>\n",
       "      <th>PRF_PHYSN_NPI_13</th>\n",
       "      <th>TAX_NUM_1</th>\n",
       "      <th>TAX_NUM_2</th>\n",
       "      <th>TAX_NUM_3</th>\n",
       "      <th>TAX_NUM_4</th>\n",
       "      <th>TAX_NUM_5</th>\n",
       "      <th>TAX_NUM_6</th>\n",
       "      <th>TAX_NUM_7</th>\n",
       "      <th>TAX_NUM_8</th>\n",
       "      <th>TAX_NUM_9</th>\n",
       "      <th>TAX_NUM_10</th>\n",
       "      <th>TAX_NUM_11</th>\n",
       "      <th>TAX_NUM_12</th>\n",
       "      <th>TAX_NUM_13</th>\n",
       "      <th>HCPCS_CD_1</th>\n",
       "      <th>HCPCS_CD_2</th>\n",
       "      <th>HCPCS_CD_3</th>\n",
       "      <th>HCPCS_CD_4</th>\n",
       "      <th>HCPCS_CD_5</th>\n",
       "      <th>HCPCS_CD_6</th>\n",
       "      <th>HCPCS_CD_7</th>\n",
       "      <th>HCPCS_CD_8</th>\n",
       "      <th>HCPCS_CD_9</th>\n",
       "      <th>HCPCS_CD_10</th>\n",
       "      <th>HCPCS_CD_11</th>\n",
       "      <th>HCPCS_CD_12</th>\n",
       "      <th>HCPCS_CD_13</th>\n",
       "      <th>LINE_NCH_PMT_AMT_1</th>\n",
       "      <th>LINE_NCH_PMT_AMT_2</th>\n",
       "      <th>LINE_NCH_PMT_AMT_3</th>\n",
       "      <th>LINE_NCH_PMT_AMT_4</th>\n",
       "      <th>LINE_NCH_PMT_AMT_5</th>\n",
       "      <th>LINE_NCH_PMT_AMT_6</th>\n",
       "      <th>LINE_NCH_PMT_AMT_7</th>\n",
       "      <th>LINE_NCH_PMT_AMT_8</th>\n",
       "      <th>LINE_NCH_PMT_AMT_9</th>\n",
       "      <th>LINE_NCH_PMT_AMT_10</th>\n",
       "      <th>LINE_NCH_PMT_AMT_11</th>\n",
       "      <th>LINE_NCH_PMT_AMT_12</th>\n",
       "      <th>LINE_NCH_PMT_AMT_13</th>\n",
       "      <th>LINE_BENE_PTB_DDCTBL_AMT_1</th>\n",
       "      <th>LINE_BENE_PTB_DDCTBL_AMT_2</th>\n",
       "      <th>LINE_BENE_PTB_DDCTBL_AMT_3</th>\n",
       "      <th>LINE_BENE_PTB_DDCTBL_AMT_4</th>\n",
       "      <th>LINE_BENE_PTB_DDCTBL_AMT_5</th>\n",
       "      <th>LINE_BENE_PTB_DDCTBL_AMT_6</th>\n",
       "      <th>LINE_BENE_PTB_DDCTBL_AMT_7</th>\n",
       "      <th>LINE_BENE_PTB_DDCTBL_AMT_8</th>\n",
       "      <th>LINE_BENE_PTB_DDCTBL_AMT_9</th>\n",
       "      <th>LINE_BENE_PTB_DDCTBL_AMT_10</th>\n",
       "      <th>LINE_BENE_PTB_DDCTBL_AMT_11</th>\n",
       "      <th>LINE_BENE_PTB_DDCTBL_AMT_12</th>\n",
       "      <th>LINE_BENE_PTB_DDCTBL_AMT_13</th>\n",
       "      <th>LINE_BENE_PRMRY_PYR_PD_AMT_1</th>\n",
       "      <th>LINE_BENE_PRMRY_PYR_PD_AMT_2</th>\n",
       "      <th>LINE_BENE_PRMRY_PYR_PD_AMT_3</th>\n",
       "      <th>LINE_BENE_PRMRY_PYR_PD_AMT_4</th>\n",
       "      <th>LINE_BENE_PRMRY_PYR_PD_AMT_5</th>\n",
       "      <th>LINE_BENE_PRMRY_PYR_PD_AMT_6</th>\n",
       "      <th>LINE_BENE_PRMRY_PYR_PD_AMT_7</th>\n",
       "      <th>LINE_BENE_PRMRY_PYR_PD_AMT_8</th>\n",
       "      <th>LINE_BENE_PRMRY_PYR_PD_AMT_9</th>\n",
       "      <th>LINE_BENE_PRMRY_PYR_PD_AMT_10</th>\n",
       "      <th>LINE_BENE_PRMRY_PYR_PD_AMT_11</th>\n",
       "      <th>LINE_BENE_PRMRY_PYR_PD_AMT_12</th>\n",
       "      <th>LINE_BENE_PRMRY_PYR_PD_AMT_13</th>\n",
       "      <th>LINE_COINSRNC_AMT_1</th>\n",
       "      <th>LINE_COINSRNC_AMT_2</th>\n",
       "      <th>LINE_COINSRNC_AMT_3</th>\n",
       "      <th>LINE_COINSRNC_AMT_4</th>\n",
       "      <th>LINE_COINSRNC_AMT_5</th>\n",
       "      <th>LINE_COINSRNC_AMT_6</th>\n",
       "      <th>LINE_COINSRNC_AMT_7</th>\n",
       "      <th>LINE_COINSRNC_AMT_8</th>\n",
       "      <th>LINE_COINSRNC_AMT_9</th>\n",
       "      <th>LINE_COINSRNC_AMT_10</th>\n",
       "      <th>LINE_COINSRNC_AMT_11</th>\n",
       "      <th>LINE_COINSRNC_AMT_12</th>\n",
       "      <th>LINE_COINSRNC_AMT_13</th>\n",
       "      <th>LINE_ALOWD_CHRG_AMT_1</th>\n",
       "      <th>LINE_ALOWD_CHRG_AMT_2</th>\n",
       "      <th>LINE_ALOWD_CHRG_AMT_3</th>\n",
       "      <th>LINE_ALOWD_CHRG_AMT_4</th>\n",
       "      <th>LINE_ALOWD_CHRG_AMT_5</th>\n",
       "      <th>LINE_ALOWD_CHRG_AMT_6</th>\n",
       "      <th>LINE_ALOWD_CHRG_AMT_7</th>\n",
       "      <th>LINE_ALOWD_CHRG_AMT_8</th>\n",
       "      <th>LINE_ALOWD_CHRG_AMT_9</th>\n",
       "      <th>LINE_ALOWD_CHRG_AMT_10</th>\n",
       "      <th>LINE_ALOWD_CHRG_AMT_11</th>\n",
       "      <th>LINE_ALOWD_CHRG_AMT_12</th>\n",
       "      <th>LINE_ALOWD_CHRG_AMT_13</th>\n",
       "      <th>LINE_PRCSG_IND_CD_1</th>\n",
       "      <th>LINE_PRCSG_IND_CD_2</th>\n",
       "      <th>LINE_PRCSG_IND_CD_3</th>\n",
       "      <th>LINE_PRCSG_IND_CD_4</th>\n",
       "      <th>LINE_PRCSG_IND_CD_5</th>\n",
       "      <th>LINE_PRCSG_IND_CD_6</th>\n",
       "      <th>LINE_PRCSG_IND_CD_7</th>\n",
       "      <th>LINE_PRCSG_IND_CD_8</th>\n",
       "      <th>LINE_PRCSG_IND_CD_9</th>\n",
       "      <th>LINE_PRCSG_IND_CD_10</th>\n",
       "      <th>LINE_PRCSG_IND_CD_11</th>\n",
       "      <th>LINE_PRCSG_IND_CD_12</th>\n",
       "      <th>LINE_PRCSG_IND_CD_13</th>\n",
       "      <th>LINE_ICD9_DGNS_CD_1</th>\n",
       "      <th>LINE_ICD9_DGNS_CD_2</th>\n",
       "      <th>LINE_ICD9_DGNS_CD_3</th>\n",
       "      <th>LINE_ICD9_DGNS_CD_4</th>\n",
       "      <th>LINE_ICD9_DGNS_CD_5</th>\n",
       "      <th>LINE_ICD9_DGNS_CD_6</th>\n",
       "      <th>LINE_ICD9_DGNS_CD_7</th>\n",
       "      <th>LINE_ICD9_DGNS_CD_8</th>\n",
       "      <th>LINE_ICD9_DGNS_CD_9</th>\n",
       "      <th>LINE_ICD9_DGNS_CD_10</th>\n",
       "      <th>LINE_ICD9_DGNS_CD_11</th>\n",
       "      <th>LINE_ICD9_DGNS_CD_12</th>\n",
       "      <th>LINE_ICD9_DGNS_CD_13</th>\n",
       "    </tr>\n",
       "  </thead>\n",
       "  <tbody>\n",
       "    <tr>\n",
       "      <td>0</td>\n",
       "      <td>0061141AB18FFA96</td>\n",
       "      <td>887453388368559</td>\n",
       "      <td>2008-01-27</td>\n",
       "      <td>2008-01-27</td>\n",
       "      <td>43400</td>\n",
       "      <td>V5873</td>\n",
       "      <td>7859</td>\n",
       "      <td>4389</td>\n",
       "      <td>34830</td>\n",
       "      <td>4241</td>\n",
       "      <td>6929</td>\n",
       "      <td>5571</td>\n",
       "      <td>2.408497e+09</td>\n",
       "      <td>NaN</td>\n",
       "      <td>NaN</td>\n",
       "      <td>NaN</td>\n",
       "      <td>NaN</td>\n",
       "      <td>NaN</td>\n",
       "      <td>None</td>\n",
       "      <td>None</td>\n",
       "      <td>None</td>\n",
       "      <td>None</td>\n",
       "      <td>None</td>\n",
       "      <td>None</td>\n",
       "      <td>None</td>\n",
       "      <td>620499266</td>\n",
       "      <td>NaN</td>\n",
       "      <td>NaN</td>\n",
       "      <td>NaN</td>\n",
       "      <td>NaN</td>\n",
       "      <td>NaN</td>\n",
       "      <td>None</td>\n",
       "      <td>None</td>\n",
       "      <td>None</td>\n",
       "      <td>None</td>\n",
       "      <td>None</td>\n",
       "      <td>None</td>\n",
       "      <td>None</td>\n",
       "      <td>99231</td>\n",
       "      <td>None</td>\n",
       "      <td>None</td>\n",
       "      <td>None</td>\n",
       "      <td>None</td>\n",
       "      <td>None</td>\n",
       "      <td>None</td>\n",
       "      <td>None</td>\n",
       "      <td>None</td>\n",
       "      <td>None</td>\n",
       "      <td>None</td>\n",
       "      <td>None</td>\n",
       "      <td>None</td>\n",
       "      <td>10.0</td>\n",
       "      <td>0.0</td>\n",
       "      <td>0.0</td>\n",
       "      <td>0.0</td>\n",
       "      <td>0.0</td>\n",
       "      <td>0.0</td>\n",
       "      <td>0.0</td>\n",
       "      <td>0.0</td>\n",
       "      <td>0.0</td>\n",
       "      <td>0.0</td>\n",
       "      <td>0.0</td>\n",
       "      <td>0.0</td>\n",
       "      <td>0.0</td>\n",
       "      <td>0.0</td>\n",
       "      <td>0.0</td>\n",
       "      <td>0.0</td>\n",
       "      <td>0.0</td>\n",
       "      <td>0.0</td>\n",
       "      <td>0.0</td>\n",
       "      <td>0.0</td>\n",
       "      <td>0.0</td>\n",
       "      <td>0.0</td>\n",
       "      <td>0.0</td>\n",
       "      <td>0.0</td>\n",
       "      <td>0.0</td>\n",
       "      <td>0.0</td>\n",
       "      <td>0.0</td>\n",
       "      <td>0.0</td>\n",
       "      <td>0.0</td>\n",
       "      <td>0.0</td>\n",
       "      <td>0.0</td>\n",
       "      <td>0.0</td>\n",
       "      <td>0.0</td>\n",
       "      <td>0.0</td>\n",
       "      <td>0.0</td>\n",
       "      <td>0.0</td>\n",
       "      <td>0.0</td>\n",
       "      <td>0.0</td>\n",
       "      <td>0.0</td>\n",
       "      <td>0.0</td>\n",
       "      <td>0.0</td>\n",
       "      <td>0.0</td>\n",
       "      <td>0.0</td>\n",
       "      <td>0.0</td>\n",
       "      <td>0.0</td>\n",
       "      <td>0.0</td>\n",
       "      <td>0.0</td>\n",
       "      <td>0.0</td>\n",
       "      <td>0.0</td>\n",
       "      <td>0.0</td>\n",
       "      <td>0.0</td>\n",
       "      <td>0.0</td>\n",
       "      <td>10.0</td>\n",
       "      <td>0.0</td>\n",
       "      <td>0.0</td>\n",
       "      <td>0.0</td>\n",
       "      <td>0.0</td>\n",
       "      <td>0.0</td>\n",
       "      <td>0.0</td>\n",
       "      <td>0.0</td>\n",
       "      <td>0.0</td>\n",
       "      <td>0.0</td>\n",
       "      <td>0.0</td>\n",
       "      <td>0.0</td>\n",
       "      <td>0.0</td>\n",
       "      <td>O</td>\n",
       "      <td>None</td>\n",
       "      <td>None</td>\n",
       "      <td>None</td>\n",
       "      <td>None</td>\n",
       "      <td>None</td>\n",
       "      <td>None</td>\n",
       "      <td>None</td>\n",
       "      <td>None</td>\n",
       "      <td>None</td>\n",
       "      <td>None</td>\n",
       "      <td>None</td>\n",
       "      <td>None</td>\n",
       "      <td>4019</td>\n",
       "      <td>None</td>\n",
       "      <td>None</td>\n",
       "      <td>None</td>\n",
       "      <td>None</td>\n",
       "      <td>None</td>\n",
       "      <td>None</td>\n",
       "      <td>None</td>\n",
       "      <td>None</td>\n",
       "      <td>None</td>\n",
       "      <td>None</td>\n",
       "      <td>None</td>\n",
       "      <td>None</td>\n",
       "    </tr>\n",
       "  </tbody>\n",
       "</table>\n",
       "</div>"
      ],
      "text/plain": [
       "        DESYNPUF_ID           CLM_ID CLM_FROM_DT CLM_THRU_DT ICD9_DGNS_CD_1  \\\n",
       "0  0061141AB18FFA96  887453388368559  2008-01-27  2008-01-27          43400   \n",
       "\n",
       "  ICD9_DGNS_CD_2 ICD9_DGNS_CD_3 ICD9_DGNS_CD_4 ICD9_DGNS_CD_5 ICD9_DGNS_CD_6  \\\n",
       "0          V5873           7859           4389          34830           4241   \n",
       "\n",
       "  ICD9_DGNS_CD_7 ICD9_DGNS_CD_8  PRF_PHYSN_NPI_1  PRF_PHYSN_NPI_2  \\\n",
       "0           6929           5571     2.408497e+09              NaN   \n",
       "\n",
       "   PRF_PHYSN_NPI_3  PRF_PHYSN_NPI_4  PRF_PHYSN_NPI_5  PRF_PHYSN_NPI_6  \\\n",
       "0              NaN              NaN              NaN              NaN   \n",
       "\n",
       "  PRF_PHYSN_NPI_7 PRF_PHYSN_NPI_8 PRF_PHYSN_NPI_9 PRF_PHYSN_NPI_10  \\\n",
       "0            None            None            None             None   \n",
       "\n",
       "  PRF_PHYSN_NPI_11 PRF_PHYSN_NPI_12 PRF_PHYSN_NPI_13  TAX_NUM_1  TAX_NUM_2  \\\n",
       "0             None             None             None  620499266        NaN   \n",
       "\n",
       "   TAX_NUM_3  TAX_NUM_4  TAX_NUM_5  TAX_NUM_6 TAX_NUM_7 TAX_NUM_8 TAX_NUM_9  \\\n",
       "0        NaN        NaN        NaN        NaN      None      None      None   \n",
       "\n",
       "  TAX_NUM_10 TAX_NUM_11 TAX_NUM_12 TAX_NUM_13 HCPCS_CD_1 HCPCS_CD_2  \\\n",
       "0       None       None       None       None      99231       None   \n",
       "\n",
       "  HCPCS_CD_3 HCPCS_CD_4 HCPCS_CD_5 HCPCS_CD_6 HCPCS_CD_7 HCPCS_CD_8  \\\n",
       "0       None       None       None       None       None       None   \n",
       "\n",
       "  HCPCS_CD_9 HCPCS_CD_10 HCPCS_CD_11 HCPCS_CD_12 HCPCS_CD_13  \\\n",
       "0       None        None        None        None        None   \n",
       "\n",
       "   LINE_NCH_PMT_AMT_1  LINE_NCH_PMT_AMT_2  LINE_NCH_PMT_AMT_3  \\\n",
       "0                10.0                 0.0                 0.0   \n",
       "\n",
       "   LINE_NCH_PMT_AMT_4  LINE_NCH_PMT_AMT_5  LINE_NCH_PMT_AMT_6  \\\n",
       "0                 0.0                 0.0                 0.0   \n",
       "\n",
       "   LINE_NCH_PMT_AMT_7  LINE_NCH_PMT_AMT_8  LINE_NCH_PMT_AMT_9  \\\n",
       "0                 0.0                 0.0                 0.0   \n",
       "\n",
       "   LINE_NCH_PMT_AMT_10  LINE_NCH_PMT_AMT_11  LINE_NCH_PMT_AMT_12  \\\n",
       "0                  0.0                  0.0                  0.0   \n",
       "\n",
       "   LINE_NCH_PMT_AMT_13  LINE_BENE_PTB_DDCTBL_AMT_1  \\\n",
       "0                  0.0                         0.0   \n",
       "\n",
       "   LINE_BENE_PTB_DDCTBL_AMT_2  LINE_BENE_PTB_DDCTBL_AMT_3  \\\n",
       "0                         0.0                         0.0   \n",
       "\n",
       "   LINE_BENE_PTB_DDCTBL_AMT_4  LINE_BENE_PTB_DDCTBL_AMT_5  \\\n",
       "0                         0.0                         0.0   \n",
       "\n",
       "   LINE_BENE_PTB_DDCTBL_AMT_6  LINE_BENE_PTB_DDCTBL_AMT_7  \\\n",
       "0                         0.0                         0.0   \n",
       "\n",
       "   LINE_BENE_PTB_DDCTBL_AMT_8  LINE_BENE_PTB_DDCTBL_AMT_9  \\\n",
       "0                         0.0                         0.0   \n",
       "\n",
       "   LINE_BENE_PTB_DDCTBL_AMT_10  LINE_BENE_PTB_DDCTBL_AMT_11  \\\n",
       "0                          0.0                          0.0   \n",
       "\n",
       "   LINE_BENE_PTB_DDCTBL_AMT_12  LINE_BENE_PTB_DDCTBL_AMT_13  \\\n",
       "0                          0.0                          0.0   \n",
       "\n",
       "   LINE_BENE_PRMRY_PYR_PD_AMT_1  LINE_BENE_PRMRY_PYR_PD_AMT_2  \\\n",
       "0                           0.0                           0.0   \n",
       "\n",
       "   LINE_BENE_PRMRY_PYR_PD_AMT_3  LINE_BENE_PRMRY_PYR_PD_AMT_4  \\\n",
       "0                           0.0                           0.0   \n",
       "\n",
       "   LINE_BENE_PRMRY_PYR_PD_AMT_5  LINE_BENE_PRMRY_PYR_PD_AMT_6  \\\n",
       "0                           0.0                           0.0   \n",
       "\n",
       "   LINE_BENE_PRMRY_PYR_PD_AMT_7  LINE_BENE_PRMRY_PYR_PD_AMT_8  \\\n",
       "0                           0.0                           0.0   \n",
       "\n",
       "   LINE_BENE_PRMRY_PYR_PD_AMT_9  LINE_BENE_PRMRY_PYR_PD_AMT_10  \\\n",
       "0                           0.0                            0.0   \n",
       "\n",
       "   LINE_BENE_PRMRY_PYR_PD_AMT_11  LINE_BENE_PRMRY_PYR_PD_AMT_12  \\\n",
       "0                            0.0                            0.0   \n",
       "\n",
       "   LINE_BENE_PRMRY_PYR_PD_AMT_13  LINE_COINSRNC_AMT_1  LINE_COINSRNC_AMT_2  \\\n",
       "0                            0.0                  0.0                  0.0   \n",
       "\n",
       "   LINE_COINSRNC_AMT_3  LINE_COINSRNC_AMT_4  LINE_COINSRNC_AMT_5  \\\n",
       "0                  0.0                  0.0                  0.0   \n",
       "\n",
       "   LINE_COINSRNC_AMT_6  LINE_COINSRNC_AMT_7  LINE_COINSRNC_AMT_8  \\\n",
       "0                  0.0                  0.0                  0.0   \n",
       "\n",
       "   LINE_COINSRNC_AMT_9  LINE_COINSRNC_AMT_10  LINE_COINSRNC_AMT_11  \\\n",
       "0                  0.0                   0.0                   0.0   \n",
       "\n",
       "   LINE_COINSRNC_AMT_12  LINE_COINSRNC_AMT_13  LINE_ALOWD_CHRG_AMT_1  \\\n",
       "0                   0.0                   0.0                   10.0   \n",
       "\n",
       "   LINE_ALOWD_CHRG_AMT_2  LINE_ALOWD_CHRG_AMT_3  LINE_ALOWD_CHRG_AMT_4  \\\n",
       "0                    0.0                    0.0                    0.0   \n",
       "\n",
       "   LINE_ALOWD_CHRG_AMT_5  LINE_ALOWD_CHRG_AMT_6  LINE_ALOWD_CHRG_AMT_7  \\\n",
       "0                    0.0                    0.0                    0.0   \n",
       "\n",
       "   LINE_ALOWD_CHRG_AMT_8  LINE_ALOWD_CHRG_AMT_9  LINE_ALOWD_CHRG_AMT_10  \\\n",
       "0                    0.0                    0.0                     0.0   \n",
       "\n",
       "   LINE_ALOWD_CHRG_AMT_11  LINE_ALOWD_CHRG_AMT_12  LINE_ALOWD_CHRG_AMT_13  \\\n",
       "0                     0.0                     0.0                     0.0   \n",
       "\n",
       "  LINE_PRCSG_IND_CD_1 LINE_PRCSG_IND_CD_2 LINE_PRCSG_IND_CD_3  \\\n",
       "0                   O                None                None   \n",
       "\n",
       "  LINE_PRCSG_IND_CD_4 LINE_PRCSG_IND_CD_5 LINE_PRCSG_IND_CD_6  \\\n",
       "0                None                None                None   \n",
       "\n",
       "  LINE_PRCSG_IND_CD_7 LINE_PRCSG_IND_CD_8 LINE_PRCSG_IND_CD_9  \\\n",
       "0                None                None                None   \n",
       "\n",
       "  LINE_PRCSG_IND_CD_10 LINE_PRCSG_IND_CD_11 LINE_PRCSG_IND_CD_12  \\\n",
       "0                 None                 None                 None   \n",
       "\n",
       "  LINE_PRCSG_IND_CD_13 LINE_ICD9_DGNS_CD_1 LINE_ICD9_DGNS_CD_2  \\\n",
       "0                 None                4019                None   \n",
       "\n",
       "  LINE_ICD9_DGNS_CD_3 LINE_ICD9_DGNS_CD_4 LINE_ICD9_DGNS_CD_5  \\\n",
       "0                None                None                None   \n",
       "\n",
       "  LINE_ICD9_DGNS_CD_6 LINE_ICD9_DGNS_CD_7 LINE_ICD9_DGNS_CD_8  \\\n",
       "0                None                None                None   \n",
       "\n",
       "  LINE_ICD9_DGNS_CD_9 LINE_ICD9_DGNS_CD_10 LINE_ICD9_DGNS_CD_11  \\\n",
       "0                None                 None                 None   \n",
       "\n",
       "  LINE_ICD9_DGNS_CD_12 LINE_ICD9_DGNS_CD_13  \n",
       "0                 None                 None  "
      ]
     },
     "execution_count": 8,
     "metadata": {},
     "output_type": "execute_result"
    }
   ],
   "source": [
    "q = '''SELECT * FROM carrier_claims where \"DESYNPUF_ID\" = '0061141AB18FFA96' '''\n",
    "\n",
    "carrier_claimsDF = query_func(q, conn)\n",
    "carrier_claimsDF.head(1) "
   ]
  },
  {
   "cell_type": "code",
   "execution_count": 9,
   "metadata": {},
   "outputs": [
    {
     "name": "stdout",
     "output_type": "stream",
     "text": [
      "(74, 142)\n"
     ]
    },
    {
     "data": {
      "text/plain": [
       "DESYNPUF_ID                              object\n",
       "CLM_ID                                    int64\n",
       "CLM_FROM_DT                      datetime64[ns]\n",
       "CLM_THRU_DT                      datetime64[ns]\n",
       "ICD9_DGNS_CD_1                           object\n",
       "ICD9_DGNS_CD_2                           object\n",
       "ICD9_DGNS_CD_3                           object\n",
       "ICD9_DGNS_CD_4                           object\n",
       "ICD9_DGNS_CD_5                           object\n",
       "ICD9_DGNS_CD_6                           object\n",
       "ICD9_DGNS_CD_7                           object\n",
       "ICD9_DGNS_CD_8                           object\n",
       "PRF_PHYSN_NPI_1                         float64\n",
       "PRF_PHYSN_NPI_2                         float64\n",
       "PRF_PHYSN_NPI_3                         float64\n",
       "PRF_PHYSN_NPI_4                         float64\n",
       "PRF_PHYSN_NPI_5                         float64\n",
       "PRF_PHYSN_NPI_6                         float64\n",
       "PRF_PHYSN_NPI_7                          object\n",
       "PRF_PHYSN_NPI_8                          object\n",
       "PRF_PHYSN_NPI_9                          object\n",
       "PRF_PHYSN_NPI_10                         object\n",
       "PRF_PHYSN_NPI_11                         object\n",
       "PRF_PHYSN_NPI_12                         object\n",
       "PRF_PHYSN_NPI_13                         object\n",
       "TAX_NUM_1                                 int64\n",
       "TAX_NUM_2                               float64\n",
       "TAX_NUM_3                               float64\n",
       "TAX_NUM_4                               float64\n",
       "TAX_NUM_5                               float64\n",
       "TAX_NUM_6                               float64\n",
       "TAX_NUM_7                                object\n",
       "TAX_NUM_8                                object\n",
       "TAX_NUM_9                                object\n",
       "TAX_NUM_10                               object\n",
       "TAX_NUM_11                               object\n",
       "TAX_NUM_12                               object\n",
       "TAX_NUM_13                               object\n",
       "HCPCS_CD_1                               object\n",
       "HCPCS_CD_2                               object\n",
       "HCPCS_CD_3                               object\n",
       "HCPCS_CD_4                               object\n",
       "HCPCS_CD_5                               object\n",
       "HCPCS_CD_6                               object\n",
       "HCPCS_CD_7                               object\n",
       "HCPCS_CD_8                               object\n",
       "HCPCS_CD_9                               object\n",
       "HCPCS_CD_10                              object\n",
       "HCPCS_CD_11                              object\n",
       "HCPCS_CD_12                              object\n",
       "HCPCS_CD_13                              object\n",
       "LINE_NCH_PMT_AMT_1                      float64\n",
       "LINE_NCH_PMT_AMT_2                      float64\n",
       "LINE_NCH_PMT_AMT_3                      float64\n",
       "LINE_NCH_PMT_AMT_4                      float64\n",
       "LINE_NCH_PMT_AMT_5                      float64\n",
       "LINE_NCH_PMT_AMT_6                      float64\n",
       "LINE_NCH_PMT_AMT_7                      float64\n",
       "LINE_NCH_PMT_AMT_8                      float64\n",
       "LINE_NCH_PMT_AMT_9                      float64\n",
       "LINE_NCH_PMT_AMT_10                     float64\n",
       "LINE_NCH_PMT_AMT_11                     float64\n",
       "LINE_NCH_PMT_AMT_12                     float64\n",
       "LINE_NCH_PMT_AMT_13                     float64\n",
       "LINE_BENE_PTB_DDCTBL_AMT_1              float64\n",
       "LINE_BENE_PTB_DDCTBL_AMT_2              float64\n",
       "LINE_BENE_PTB_DDCTBL_AMT_3              float64\n",
       "LINE_BENE_PTB_DDCTBL_AMT_4              float64\n",
       "LINE_BENE_PTB_DDCTBL_AMT_5              float64\n",
       "LINE_BENE_PTB_DDCTBL_AMT_6              float64\n",
       "LINE_BENE_PTB_DDCTBL_AMT_7              float64\n",
       "LINE_BENE_PTB_DDCTBL_AMT_8              float64\n",
       "LINE_BENE_PTB_DDCTBL_AMT_9              float64\n",
       "LINE_BENE_PTB_DDCTBL_AMT_10             float64\n",
       "LINE_BENE_PTB_DDCTBL_AMT_11             float64\n",
       "LINE_BENE_PTB_DDCTBL_AMT_12             float64\n",
       "LINE_BENE_PTB_DDCTBL_AMT_13             float64\n",
       "LINE_BENE_PRMRY_PYR_PD_AMT_1            float64\n",
       "LINE_BENE_PRMRY_PYR_PD_AMT_2            float64\n",
       "LINE_BENE_PRMRY_PYR_PD_AMT_3            float64\n",
       "LINE_BENE_PRMRY_PYR_PD_AMT_4            float64\n",
       "LINE_BENE_PRMRY_PYR_PD_AMT_5            float64\n",
       "LINE_BENE_PRMRY_PYR_PD_AMT_6            float64\n",
       "LINE_BENE_PRMRY_PYR_PD_AMT_7            float64\n",
       "LINE_BENE_PRMRY_PYR_PD_AMT_8            float64\n",
       "LINE_BENE_PRMRY_PYR_PD_AMT_9            float64\n",
       "LINE_BENE_PRMRY_PYR_PD_AMT_10           float64\n",
       "LINE_BENE_PRMRY_PYR_PD_AMT_11           float64\n",
       "LINE_BENE_PRMRY_PYR_PD_AMT_12           float64\n",
       "LINE_BENE_PRMRY_PYR_PD_AMT_13           float64\n",
       "LINE_COINSRNC_AMT_1                     float64\n",
       "LINE_COINSRNC_AMT_2                     float64\n",
       "LINE_COINSRNC_AMT_3                     float64\n",
       "LINE_COINSRNC_AMT_4                     float64\n",
       "LINE_COINSRNC_AMT_5                     float64\n",
       "LINE_COINSRNC_AMT_6                     float64\n",
       "LINE_COINSRNC_AMT_7                     float64\n",
       "LINE_COINSRNC_AMT_8                     float64\n",
       "LINE_COINSRNC_AMT_9                     float64\n",
       "LINE_COINSRNC_AMT_10                    float64\n",
       "LINE_COINSRNC_AMT_11                    float64\n",
       "LINE_COINSRNC_AMT_12                    float64\n",
       "LINE_COINSRNC_AMT_13                    float64\n",
       "LINE_ALOWD_CHRG_AMT_1                   float64\n",
       "LINE_ALOWD_CHRG_AMT_2                   float64\n",
       "LINE_ALOWD_CHRG_AMT_3                   float64\n",
       "LINE_ALOWD_CHRG_AMT_4                   float64\n",
       "LINE_ALOWD_CHRG_AMT_5                   float64\n",
       "LINE_ALOWD_CHRG_AMT_6                   float64\n",
       "LINE_ALOWD_CHRG_AMT_7                   float64\n",
       "LINE_ALOWD_CHRG_AMT_8                   float64\n",
       "LINE_ALOWD_CHRG_AMT_9                   float64\n",
       "LINE_ALOWD_CHRG_AMT_10                  float64\n",
       "LINE_ALOWD_CHRG_AMT_11                  float64\n",
       "LINE_ALOWD_CHRG_AMT_12                  float64\n",
       "LINE_ALOWD_CHRG_AMT_13                  float64\n",
       "LINE_PRCSG_IND_CD_1                      object\n",
       "LINE_PRCSG_IND_CD_2                      object\n",
       "LINE_PRCSG_IND_CD_3                      object\n",
       "LINE_PRCSG_IND_CD_4                      object\n",
       "LINE_PRCSG_IND_CD_5                      object\n",
       "LINE_PRCSG_IND_CD_6                      object\n",
       "LINE_PRCSG_IND_CD_7                      object\n",
       "LINE_PRCSG_IND_CD_8                      object\n",
       "LINE_PRCSG_IND_CD_9                      object\n",
       "LINE_PRCSG_IND_CD_10                     object\n",
       "LINE_PRCSG_IND_CD_11                     object\n",
       "LINE_PRCSG_IND_CD_12                     object\n",
       "LINE_PRCSG_IND_CD_13                     object\n",
       "LINE_ICD9_DGNS_CD_1                      object\n",
       "LINE_ICD9_DGNS_CD_2                      object\n",
       "LINE_ICD9_DGNS_CD_3                      object\n",
       "LINE_ICD9_DGNS_CD_4                      object\n",
       "LINE_ICD9_DGNS_CD_5                      object\n",
       "LINE_ICD9_DGNS_CD_6                      object\n",
       "LINE_ICD9_DGNS_CD_7                      object\n",
       "LINE_ICD9_DGNS_CD_8                      object\n",
       "LINE_ICD9_DGNS_CD_9                      object\n",
       "LINE_ICD9_DGNS_CD_10                     object\n",
       "LINE_ICD9_DGNS_CD_11                     object\n",
       "LINE_ICD9_DGNS_CD_12                     object\n",
       "LINE_ICD9_DGNS_CD_13                     object\n",
       "dtype: object"
      ]
     },
     "execution_count": 9,
     "metadata": {},
     "output_type": "execute_result"
    }
   ],
   "source": [
    "print(carrier_claimsDF.shape)\n",
    "carrier_claimsDF.dtypes"
   ]
  },
  {
   "cell_type": "code",
   "execution_count": 10,
   "metadata": {},
   "outputs": [
    {
     "data": {
      "text/plain": [
       "datetime.datetime(2020, 5, 2, 20, 52, 7, 529373)"
      ]
     },
     "execution_count": 10,
     "metadata": {},
     "output_type": "execute_result"
    }
   ],
   "source": [
    "datetime.now()"
   ]
  },
  {
   "cell_type": "markdown",
   "metadata": {},
   "source": [
    "#### Adding lookup for 10 Diagnostic codes for carrier  claims"
   ]
  },
  {
   "cell_type": "code",
   "execution_count": null,
   "metadata": {},
   "outputs": [],
   "source": [
    "datetime.now()"
   ]
  },
  {
   "cell_type": "code",
   "execution_count": null,
   "metadata": {},
   "outputs": [],
   "source": [
    "q = '''SELECT  \n",
    "            CC.\"DESYNPUF_ID\", \n",
    "            ICD9D1.long_desc as DGNS_CD_1_desc,\n",
    "            ICD9D2.long_desc as DGNS_CD_2_desc,\n",
    "            ICD9D3.long_desc as DGNS_CD_3_desc,\n",
    "            ICD9D4.long_desc as DGNS_CD_4_desc,\n",
    "            ICD9D5.long_desc as DGNS_CD_5_desc,\n",
    "            ICD9D6.long_desc as DGNS_CD_6_desc,\n",
    "            ICD9D7.long_desc as DGNS_CD_7_desc,\n",
    "            ICD9D8.long_desc as DGNS_CD_8_desc\n",
    "                 \n",
    "       FROM \n",
    "                      carrier_claims as CC\n",
    "            LEFT JOIN icd9_diagonsis as ICD9D1 ON CC.\"ICD9_DGNS_CD_1\" = ICD9D1.diagnosis_cd\n",
    "            LEFT JOIN icd9_diagonsis as ICD9D2 ON CC.\"ICD9_DGNS_CD_2\" = ICD9D2.diagnosis_cd\n",
    "            LEFT JOIN icd9_diagonsis as ICD9D3 ON CC.\"ICD9_DGNS_CD_3\" = ICD9D3.diagnosis_cd\n",
    "            LEFT JOIN icd9_diagonsis as ICD9D4 ON CC.\"ICD9_DGNS_CD_4\" = ICD9D4.diagnosis_cd\n",
    "            LEFT JOIN icd9_diagonsis as ICD9D5 ON CC.\"ICD9_DGNS_CD_5\" = ICD9D5.diagnosis_cd\n",
    "            LEFT JOIN icd9_diagonsis as ICD9D6 ON CC.\"ICD9_DGNS_CD_6\" = ICD9D6.diagnosis_cd\n",
    "            LEFT JOIN icd9_diagonsis as ICD9D7 ON CC.\"ICD9_DGNS_CD_7\" = ICD9D7.diagnosis_cd\n",
    "            LEFT JOIN icd9_diagonsis as ICD9D8 ON CC.\"ICD9_DGNS_CD_8\" = ICD9D8.diagnosis_cd\n",
    "\n",
    "            ;\n",
    "    '''\n",
    "\n",
    "ICD_descDF = query_func(q, conn)\n",
    "print(ICD_descDF.shape)\n",
    "ICD_descDF.head(1)"
   ]
  },
  {
   "cell_type": "code",
   "execution_count": null,
   "metadata": {},
   "outputs": [],
   "source": [
    "datetime.now()"
   ]
  },
  {
   "cell_type": "markdown",
   "metadata": {},
   "source": [
    "#### Adding lookup for Line Diagnosis codes for carrier  claims"
   ]
  },
  {
   "cell_type": "code",
   "execution_count": null,
   "metadata": {},
   "outputs": [],
   "source": [
    "datetime.now()"
   ]
  },
  {
   "cell_type": "code",
   "execution_count": null,
   "metadata": {},
   "outputs": [],
   "source": [
    "q = '''SELECT  \n",
    "            CC.\"DESYNPUF_ID\", \n",
    "            ICD9D1.long_desc as LINE_DGNS_CD_1_desc,\n",
    "            ICD9D2.long_desc as LINE_DGNS_CD_2_desc,\n",
    "            ICD9D3.long_desc as LINE_DGNS_CD_3_desc,\n",
    "            ICD9D4.long_desc as LINE_DGNS_CD_4_desc,\n",
    "            ICD9D5.long_desc as LINE_DGNS_CD_5_desc,\n",
    "            ICD9D6.long_desc as LINE_DGNS_CD_6_desc,\n",
    "            ICD9D7.long_desc as LINE_DGNS_CD_7_desc,\n",
    "            ICD9D8.long_desc as LINE_DGNS_CD_8_desc,\n",
    "            ICD9D9.long_desc as LINE_DGNS_CD_9_desc,\n",
    "            ICD9D10.long_desc as LINE_DGNS_CD_10_desc,\n",
    "            ICD9D11.long_desc as LINE_DGNS_CD_11_desc,\n",
    "            ICD9D12.long_desc as LINE_DGNS_CD_12_desc,\n",
    "            ICD9D13.long_desc as LINE_DGNS_CD_13_desc\n",
    "            \n",
    "                 \n",
    "       FROM \n",
    "                      carrier_claims as CC\n",
    "            LEFT JOIN icd9_diagonsis as ICD9D1 ON CC.\"LINE_ICD9_DGNS_CD_1\" = ICD9D1.diagnosis_cd\n",
    "            LEFT JOIN icd9_diagonsis as ICD9D2 ON CC.\"LINE_ICD9_DGNS_CD_2\" = ICD9D2.diagnosis_cd\n",
    "            LEFT JOIN icd9_diagonsis as ICD9D3 ON CC.\"LINE_ICD9_DGNS_CD_3\" = ICD9D3.diagnosis_cd\n",
    "            LEFT JOIN icd9_diagonsis as ICD9D4 ON CC.\"LINE_ICD9_DGNS_CD_4\" = ICD9D4.diagnosis_cd\n",
    "            LEFT JOIN icd9_diagonsis as ICD9D5 ON CC.\"LINE_ICD9_DGNS_CD_5\" = ICD9D5.diagnosis_cd\n",
    "            LEFT JOIN icd9_diagonsis as ICD9D6 ON CC.\"LINE_ICD9_DGNS_CD_6\" = ICD9D6.diagnosis_cd\n",
    "            LEFT JOIN icd9_diagonsis as ICD9D7 ON CC.\"LINE_ICD9_DGNS_CD_7\" = ICD9D7.diagnosis_cd\n",
    "            LEFT JOIN icd9_diagonsis as ICD9D8 ON CC.\"LINE_ICD9_DGNS_CD_8\" = ICD9D8.diagnosis_cd\n",
    "            LEFT JOIN icd9_diagonsis as ICD9D9 ON CC.\"LINE_ICD9_DGNS_CD_9\" = ICD9D9.diagnosis_cd\n",
    "            LEFT JOIN icd9_diagonsis as ICD9D10 ON CC.\"LINE_ICD9_DGNS_CD_10\" = ICD9D10.diagnosis_cd\n",
    "            LEFT JOIN icd9_diagonsis as ICD9D11 ON CC.\"LINE_ICD9_DGNS_CD_11\" = ICD9D11.diagnosis_cd\n",
    "            LEFT JOIN icd9_diagonsis as ICD9D12 ON CC.\"LINE_ICD9_DGNS_CD_12\" = ICD9D12.diagnosis_cd\n",
    "            LEFT JOIN icd9_diagonsis as ICD9D13 ON CC.\"LINE_ICD9_DGNS_CD_13\" = ICD9D13.diagnosis_cd\n",
    "            \n",
    "            ;\n",
    "    '''\n",
    "\n",
    "LineICD_descDF = query_func(q, conn)\n",
    "print(LineICD_descDF.shape)\n",
    "LineICD_descDF.head(2)"
   ]
  },
  {
   "cell_type": "code",
   "execution_count": null,
   "metadata": {},
   "outputs": [],
   "source": [
    "datetime.now()"
   ]
  },
  {
   "cell_type": "markdown",
   "metadata": {},
   "source": [
    "#### Adding lookup for HCPCS codes for carrier  claims"
   ]
  },
  {
   "cell_type": "code",
   "execution_count": null,
   "metadata": {},
   "outputs": [],
   "source": [
    "datetime.now()"
   ]
  },
  {
   "cell_type": "code",
   "execution_count": null,
   "metadata": {},
   "outputs": [],
   "source": [
    "q = '''SELECT  \n",
    "            CC.\"DESYNPUF_ID\", \n",
    "            h1.\"DESCRIPTION\" as hcpcs_CD_1_desc,\n",
    "            h2.\"DESCRIPTION\" as hcpcs_CD_2_desc,\n",
    "            h3.\"DESCRIPTION\" as hcpcs_CD_3_desc,\n",
    "            h4.\"DESCRIPTION\" as hcpcs_CD_4_desc,\n",
    "            h5.\"DESCRIPTION\" as hcpcs_CD_5_desc,\n",
    "            h6.\"DESCRIPTION\" as hcpcs_CD_6_desc,\n",
    "            h7.\"DESCRIPTION\" as hcpcs_CD_7_desc,\n",
    "            h8.\"DESCRIPTION\" as hcpcs_CD_8_desc,\n",
    "            h9.\"DESCRIPTION\" as hcpcs_CD_9_desc,\n",
    "            h10.\"DESCRIPTION\" as hcpcs_CD_10_desc,\n",
    "            h11.\"DESCRIPTION\" as hcpcs_CD_11_desc\n",
    "            \n",
    "       FROM \n",
    "                      carrier_claims as CC\n",
    "            LEFT JOIN hcpcs as h1 ON CAST(CC.\"HCPCS_CD_1\" as varchar) = CAST(h1.\"HCPCS\" as varchar)\n",
    "            LEFT JOIN hcpcs as h2 ON CAST(CC.\"HCPCS_CD_2\" as varchar) = CAST(h2.\"HCPCS\" as varchar)\n",
    "            LEFT JOIN hcpcs as h3 ON CAST(CC.\"HCPCS_CD_3\" as varchar) = CAST(h3.\"HCPCS\" as varchar)\n",
    "            LEFT JOIN hcpcs as h4 ON CAST(CC.\"HCPCS_CD_4\" as varchar) = CAST(h4.\"HCPCS\" as varchar)\n",
    "            LEFT JOIN hcpcs as h5 ON CAST(CC.\"HCPCS_CD_5\" as varchar) = CAST(h5.\"HCPCS\" as varchar)\n",
    "            LEFT JOIN hcpcs as h6 ON CAST(CC.\"HCPCS_CD_6\" as varchar) = CAST(h6.\"HCPCS\" as varchar)\n",
    "            LEFT JOIN hcpcs as h7 ON CAST(CC.\"HCPCS_CD_7\" as varchar) = CAST(h7.\"HCPCS\" as varchar)\n",
    "            LEFT JOIN hcpcs as h8 ON CAST(CC.\"HCPCS_CD_8\" as varchar) = CAST(h8.\"HCPCS\" as varchar)\n",
    "            LEFT JOIN hcpcs as h9 ON CAST(CC.\"HCPCS_CD_9\" as varchar) = CAST(h9.\"HCPCS\" as varchar)\n",
    "            LEFT JOIN hcpcs as h10 ON CAST(CC.\"HCPCS_CD_10\" as varchar) = CAST(h10.\"HCPCS\" as varchar)\n",
    "            LEFT JOIN hcpcs as h11 ON CAST(CC.\"HCPCS_CD_11\" as varchar) = CAST(h11.\"HCPCS\" as varchar)\n",
    "\n",
    "            ;\n",
    "    '''\n",
    "\n",
    "hcpcsDF_carrier = query_func(q, conn)\n",
    "print(hcpcsDF_carrier.shape)\n",
    "hcpcsDF_carrier.head(5)"
   ]
  },
  {
   "cell_type": "code",
   "execution_count": null,
   "metadata": {},
   "outputs": [],
   "source": [
    "datetime.now()"
   ]
  },
  {
   "cell_type": "markdown",
   "metadata": {},
   "source": [
    "#### Merging ICD diagnostic description to Carrier claims DF"
   ]
  },
  {
   "cell_type": "code",
   "execution_count": null,
   "metadata": {},
   "outputs": [],
   "source": [
    "carrier_claimsDF.index, ICD_descDF.index, LineICD_descDF.index, hcpcsDF_carrier.index"
   ]
  },
  {
   "cell_type": "code",
   "execution_count": null,
   "metadata": {},
   "outputs": [],
   "source": [
    "ICD_descDF.index"
   ]
  },
  {
   "cell_type": "code",
   "execution_count": null,
   "metadata": {},
   "outputs": [],
   "source": [
    "datetime.now()"
   ]
  },
  {
   "cell_type": "code",
   "execution_count": null,
   "metadata": {},
   "outputs": [],
   "source": [
    "carrier_claimsDF = carrier_claimsDF.merge(ICD_descDF, on='DESYNPUF_ID', \n",
    "                                              how='inner',  left_index=True, right_index=True)"
   ]
  },
  {
   "cell_type": "code",
   "execution_count": null,
   "metadata": {},
   "outputs": [],
   "source": [
    "datetime.now()  "
   ]
  },
  {
   "cell_type": "code",
   "execution_count": null,
   "metadata": {},
   "outputs": [],
   "source": [
    "print(carrier_claimsDF.shape)\n",
    "carrier_claimsDF.head(2)"
   ]
  },
  {
   "cell_type": "markdown",
   "metadata": {},
   "source": [
    "#### Merging Line ICD diagnostic description to Carrier claims DF"
   ]
  },
  {
   "cell_type": "code",
   "execution_count": null,
   "metadata": {},
   "outputs": [],
   "source": [
    "datetime.now()  "
   ]
  },
  {
   "cell_type": "code",
   "execution_count": null,
   "metadata": {},
   "outputs": [],
   "source": [
    "carrier_claimsDF = carrier_claimsDF.merge(LineICD_descDF, on='DESYNPUF_ID', \n",
    "                                              how='inner',  left_index=True, right_index=True)"
   ]
  },
  {
   "cell_type": "code",
   "execution_count": null,
   "metadata": {},
   "outputs": [],
   "source": [
    "datetime.now()  "
   ]
  },
  {
   "cell_type": "code",
   "execution_count": null,
   "metadata": {},
   "outputs": [],
   "source": [
    "print(carrier_claimsDF.shape)\n",
    "carrier_claimsDF.head(2)"
   ]
  },
  {
   "cell_type": "code",
   "execution_count": null,
   "metadata": {},
   "outputs": [],
   "source": [
    "datetime.now()"
   ]
  },
  {
   "cell_type": "markdown",
   "metadata": {},
   "source": [
    "#### Merging HCPCS description to carrier claims DF"
   ]
  },
  {
   "cell_type": "code",
   "execution_count": null,
   "metadata": {},
   "outputs": [],
   "source": [
    "datetime.now()  "
   ]
  },
  {
   "cell_type": "code",
   "execution_count": null,
   "metadata": {},
   "outputs": [],
   "source": [
    "carrier_claimsDF = carrier_claimsDF.merge(hcpcsDF_carrier, on='DESYNPUF_ID', \n",
    "                                              how='inner',  left_index=True, right_index=True)"
   ]
  },
  {
   "cell_type": "code",
   "execution_count": null,
   "metadata": {},
   "outputs": [],
   "source": [
    "datetime.now()  "
   ]
  },
  {
   "cell_type": "code",
   "execution_count": null,
   "metadata": {},
   "outputs": [],
   "source": [
    "print(carrier_claimsDF.shape)\n",
    "carrier_claimsDF.head(2)"
   ]
  },
  {
   "cell_type": "markdown",
   "metadata": {},
   "source": [
    "### Adding these DataFrames to the Database (overwriting)"
   ]
  },
  {
   "cell_type": "code",
   "execution_count": null,
   "metadata": {},
   "outputs": [],
   "source": [
    "# create an sqlalchemy connection\n",
    "conn_postgres = f'postgresql://{db_user}:{db_password}@{db_host}:{db_port}'\n",
    "engine = sqlalchemy.engine.create_engine(conn_postgres)"
   ]
  },
  {
   "cell_type": "code",
   "execution_count": null,
   "metadata": {},
   "outputs": [],
   "source": [
    "# connect using sqlalchemy\n",
    "connection = engine.connect()"
   ]
  },
  {
   "cell_type": "code",
   "execution_count": null,
   "metadata": {},
   "outputs": [],
   "source": [
    "# commit\n",
    "connection.execute('commit')"
   ]
  },
  {
   "cell_type": "code",
   "execution_count": null,
   "metadata": {},
   "outputs": [],
   "source": [
    "# close connection\n",
    "connection.close()"
   ]
  },
  {
   "cell_type": "code",
   "execution_count": null,
   "metadata": {},
   "outputs": [],
   "source": [
    "# open a new connection to the database that we created\n",
    "conn_str = f'postgresql://{db_user}:{db_password}@{db_host}:{db_port}/{database}'\n",
    "conn = psycopg2.connect(conn_str)"
   ]
  },
  {
   "cell_type": "code",
   "execution_count": null,
   "metadata": {},
   "outputs": [],
   "source": [
    "# connect using sqlalchemy\n",
    "engine = sqlalchemy.engine.create_engine(conn_str)"
   ]
  },
  {
   "cell_type": "markdown",
   "metadata": {},
   "source": [
    "#### Loading files to DataBase"
   ]
  },
  {
   "cell_type": "markdown",
   "metadata": {},
   "source": [
    "##### Carrier_claims"
   ]
  },
  {
   "cell_type": "code",
   "execution_count": null,
   "metadata": {},
   "outputs": [],
   "source": [
    "datetime.now()"
   ]
  },
  {
   "cell_type": "code",
   "execution_count": null,
   "metadata": {},
   "outputs": [],
   "source": [
    "carrier_claimsDF.to_sql(name = 'carrier_claims', con = engine, if_exists = 'replace', index = False) "
   ]
  },
  {
   "cell_type": "code",
   "execution_count": null,
   "metadata": {},
   "outputs": [],
   "source": [
    "datetime.now()"
   ]
  },
  {
   "cell_type": "code",
   "execution_count": null,
   "metadata": {},
   "outputs": [],
   "source": [
    "conn.commit() "
   ]
  },
  {
   "cell_type": "code",
   "execution_count": null,
   "metadata": {},
   "outputs": [],
   "source": [
    "del [carrier_claimsDF]\n",
    "#gc.collect()\n",
    "\n",
    "carrier_claimsDF = pd.DataFrame()"
   ]
  },
  {
   "cell_type": "code",
   "execution_count": null,
   "metadata": {},
   "outputs": [],
   "source": []
  }
 ],
 "metadata": {
  "kernelspec": {
   "display_name": "Python 3",
   "language": "python",
   "name": "python3"
  },
  "language_info": {
   "codemirror_mode": {
    "name": "ipython",
    "version": 3
   },
   "file_extension": ".py",
   "mimetype": "text/x-python",
   "name": "python",
   "nbconvert_exporter": "python",
   "pygments_lexer": "ipython3",
   "version": "3.7.4"
  }
 },
 "nbformat": 4,
 "nbformat_minor": 2
}
