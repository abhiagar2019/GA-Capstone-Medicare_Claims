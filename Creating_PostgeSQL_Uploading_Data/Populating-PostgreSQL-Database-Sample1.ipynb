{
 "cells": [
  {
   "cell_type": "code",
   "execution_count": 1,
   "metadata": {},
   "outputs": [],
   "source": [
    "import sqlalchemy\n",
    "import psycopg2\n",
    "import pandas as pd\n",
    "\n",
    "from tqdm import tqdm\n",
    "\n",
    "# DSN (data source name) format for database connections:  \n",
    "# [protocol / database  name]://[username]:[password]@[hostname / ip]:[port]/[database name here]\n",
    "\n",
    "# on your computer you are the user postgres (full administrative access)\n",
    "db_user = 'postgres'\n",
    "# if you need a password to access a database, put it here\n",
    "db_password = ''\n",
    "# on your computer, use localhost\n",
    "db_host = 'localhost'\n",
    "# the default port for postgres is 5432\n",
    "db_port = 5432\n",
    "# we want to creat a database with the following name\n",
    "database =  'cms_claims' #'cms_medicare_claims'   #\n",
    "#set up a connection to postgres without specifying the database\n",
    "conn_postgres = f'postgresql://{db_user}:{db_password}@{db_host}:{db_port}'"
   ]
  },
  {
   "cell_type": "code",
   "execution_count": 9,
   "metadata": {},
   "outputs": [],
   "source": [
    "# open a new connection to the database that we created\n",
    "conn_str = f'postgresql://{db_user}:{db_password}@{db_host}:{db_port}/{database}'\n",
    "conn = psycopg2.connect(conn_str)"
   ]
  },
  {
   "cell_type": "code",
   "execution_count": 10,
   "metadata": {},
   "outputs": [],
   "source": [
    "# connect using sqlalchemy\n",
    "engine = sqlalchemy.engine.create_engine(conn_str)"
   ]
  },
  {
   "cell_type": "markdown",
   "metadata": {},
   "source": [
    "### Defining file paths"
   ]
  },
  {
   "cell_type": "code",
   "execution_count": 11,
   "metadata": {},
   "outputs": [],
   "source": [
    "path = '/Users/abhi/Documents/Abhi/General Assembly/Immersive course/Capstone Project/CMS_Data/'\n",
    "\n",
    "Beneficiary_Summary_File_Sample_1_2008_file = path + 'Sample1/DE1_0_2008_Beneficiary_Summary_File_Sample_1.csv'\n",
    "Beneficiary_Summary_File_Sample_1_2009_file = path + 'Sample1/DE1_0_2009_Beneficiary_Summary_File_Sample_1.csv'\n",
    "Beneficiary_Summary_File_Sample_1_2010_file = path + 'Sample1/DE1_0_2010_Beneficiary_Summary_File_Sample_20.csv'\n",
    "#check why number 20 for 2010\n",
    "\n",
    "# Inpatient file\n",
    "Inpatient_Sample_1_file = path + 'Sample1/DE1_0_2008_to_2010_Inpatient_Claims_Sample_1.csv'\n",
    "\n",
    "# Outpatient file\n",
    "Outpatient_Sample_1_file = path + 'Sample1/DE1_0_2008_to_2010_Outpatient_Claims_Sample_1.csv'\n",
    "\n",
    "# Prescription Drug events file\n",
    "Prescription_events1_file = path + 'Sample1/DE1_0_2008_to_2010_Prescription_Drug_Events_Sample_1.csv'\n",
    "\n",
    "# ICD 9 Diagnosis and procedure files\n",
    "ICD9_Diagonsis_file = path + 'ICD-9/CMS32_DESC_LONG_SHORT_DX.xlsx'\n",
    "ICD9_Procedure_file = path + 'ICD-9/CMS32_DESC_LONG_SHORT_SG.xlsx'\n",
    "\n",
    "# HCPCS Codes\n",
    "HCPCS_file = path + 'HCPCS/HCPCS.xlsx'\n"
   ]
  },
  {
   "cell_type": "markdown",
   "metadata": {},
   "source": [
    "### Reading files in DataFrames & dealing with Date-time format "
   ]
  },
  {
   "cell_type": "code",
   "execution_count": 12,
   "metadata": {},
   "outputs": [
    {
     "data": {
      "text/plain": [
       "datetime.datetime(2020, 5, 10, 17, 12, 33, 184073)"
      ]
     },
     "execution_count": 12,
     "metadata": {},
     "output_type": "execute_result"
    }
   ],
   "source": [
    "from datetime import datetime\n",
    "datetime.now()"
   ]
  },
  {
   "cell_type": "code",
   "execution_count": 13,
   "metadata": {},
   "outputs": [],
   "source": [
    "Beneficiary_2008DF = pd.read_csv(Beneficiary_Summary_File_Sample_1_2008_file)\n",
    "Beneficiary_2009DF = pd.read_csv(Beneficiary_Summary_File_Sample_1_2009_file)\n",
    "Beneficiary_2010DF = pd.read_csv(Beneficiary_Summary_File_Sample_1_2010_file)\n",
    "\n",
    "# Converting to Datetime format\n",
    "Beneficiary_2008DF['BENE_BIRTH_DT'] = pd.to_datetime(Beneficiary_2008DF['BENE_BIRTH_DT'], format='%Y%m%d', errors='coerce')\n",
    "Beneficiary_2008DF['BENE_DEATH_DT'] = pd.to_datetime(Beneficiary_2008DF['BENE_DEATH_DT'], format='%Y%m%d', errors='coerce')\n",
    "\n",
    "Beneficiary_2009DF['BENE_BIRTH_DT'] = pd.to_datetime(Beneficiary_2009DF['BENE_BIRTH_DT'], format='%Y%m%d', errors='coerce')\n",
    "Beneficiary_2009DF['BENE_DEATH_DT'] = pd.to_datetime(Beneficiary_2009DF['BENE_DEATH_DT'], format='%Y%m%d', errors='coerce')\n",
    "\n",
    "Beneficiary_2010DF['BENE_BIRTH_DT'] = pd.to_datetime(Beneficiary_2010DF['BENE_BIRTH_DT'], format='%Y%m%d', errors='coerce')\n",
    "Beneficiary_2010DF['BENE_DEATH_DT'] = pd.to_datetime(Beneficiary_2010DF['BENE_DEATH_DT'], format='%Y%m%d', errors='coerce')"
   ]
  },
  {
   "cell_type": "code",
   "execution_count": 14,
   "metadata": {},
   "outputs": [],
   "source": [
    "Inpatient_DF = pd.read_csv(Inpatient_Sample_1_file)\n",
    "\n",
    "# Converting to Datetime format\n",
    "#datetime.strptime(str(int(InpatientClaimsDF['CLM_FROM_DT'][100])), '%Y%m%d')\n",
    "Inpatient_DF['CLM_FROM_DT'] = pd.to_datetime(Inpatient_DF['CLM_FROM_DT'], format='%Y%m%d', errors='coerce')\n",
    "Inpatient_DF['CLM_THRU_DT'] = pd.to_datetime(Inpatient_DF['CLM_THRU_DT'], format='%Y%m%d', errors='coerce')"
   ]
  },
  {
   "cell_type": "code",
   "execution_count": 15,
   "metadata": {},
   "outputs": [
    {
     "name": "stderr",
     "output_type": "stream",
     "text": [
      "/Users/abhi/opt/anaconda3/lib/python3.7/site-packages/IPython/core/interactiveshell.py:3058: DtypeWarning: Columns (3) have mixed types. Specify dtype option on import or set low_memory=False.\n",
      "  interactivity=interactivity, compiler=compiler, result=result)\n"
     ]
    }
   ],
   "source": [
    "Prescription_eventsDF = pd.read_csv(Prescription_events1_file)\n",
    "\n",
    "# Converting to Datetime format\n",
    "Prescription_eventsDF['SRVC_DT'] = pd.to_datetime(Prescription_eventsDF['SRVC_DT'], format='%Y%m%d', errors='coerce')"
   ]
  },
  {
   "cell_type": "code",
   "execution_count": 16,
   "metadata": {},
   "outputs": [
    {
     "name": "stderr",
     "output_type": "stream",
     "text": [
      "/Users/abhi/opt/anaconda3/lib/python3.7/site-packages/IPython/core/interactiveshell.py:3058: DtypeWarning: Columns (21,23,24,25,26,27) have mixed types. Specify dtype option on import or set low_memory=False.\n",
      "  interactivity=interactivity, compiler=compiler, result=result)\n"
     ]
    }
   ],
   "source": [
    "Outpatient_DF = pd.read_csv(Outpatient_Sample_1_file)\n",
    "\n",
    "# Converting to Datetime format\n",
    "#datetime.strptime(str(int(Outpatient_DF['CLM_FROM_DT'][100])), '%Y%m%d')\n",
    "Outpatient_DF['CLM_FROM_DT'] = pd.to_datetime(Outpatient_DF['CLM_FROM_DT'], format='%Y%m%d', errors='coerce')\n",
    "Outpatient_DF['CLM_THRU_DT'] = pd.to_datetime(Outpatient_DF['CLM_THRU_DT'], format='%Y%m%d', errors='coerce')"
   ]
  },
  {
   "cell_type": "code",
   "execution_count": 17,
   "metadata": {},
   "outputs": [],
   "source": [
    "ICD9_DiagonsisDF = pd.read_excel(ICD9_Diagonsis_file)\n",
    "ICD9_ProcedureDF = pd.read_excel(ICD9_Procedure_file)"
   ]
  },
  {
   "cell_type": "code",
   "execution_count": 18,
   "metadata": {},
   "outputs": [
    {
     "data": {
      "text/plain": [
       "datetime.datetime(2020, 5, 10, 17, 12, 51, 612150)"
      ]
     },
     "execution_count": 18,
     "metadata": {},
     "output_type": "execute_result"
    }
   ],
   "source": [
    "datetime.now()"
   ]
  },
  {
   "cell_type": "code",
   "execution_count": 19,
   "metadata": {},
   "outputs": [],
   "source": [
    "HCPCS_DF = pd.read_excel(HCPCS_file)"
   ]
  },
  {
   "cell_type": "code",
   "execution_count": 20,
   "metadata": {},
   "outputs": [],
   "source": [
    "#conn.commit()  "
   ]
  },
  {
   "cell_type": "code",
   "execution_count": 22,
   "metadata": {},
   "outputs": [
    {
     "data": {
      "text/plain": [
       "datetime.datetime(2020, 5, 10, 17, 12, 52, 149226)"
      ]
     },
     "execution_count": 22,
     "metadata": {},
     "output_type": "execute_result"
    }
   ],
   "source": [
    "datetime.now()"
   ]
  },
  {
   "cell_type": "markdown",
   "metadata": {},
   "source": [
    "#### Checking tables in the database before creating new tables"
   ]
  },
  {
   "cell_type": "code",
   "execution_count": 23,
   "metadata": {},
   "outputs": [
    {
     "data": {
      "text/html": [
       "<div>\n",
       "<style scoped>\n",
       "    .dataframe tbody tr th:only-of-type {\n",
       "        vertical-align: middle;\n",
       "    }\n",
       "\n",
       "    .dataframe tbody tr th {\n",
       "        vertical-align: top;\n",
       "    }\n",
       "\n",
       "    .dataframe thead th {\n",
       "        text-align: right;\n",
       "    }\n",
       "</style>\n",
       "<table border=\"1\" class=\"dataframe\">\n",
       "  <thead>\n",
       "    <tr style=\"text-align: right;\">\n",
       "      <th></th>\n",
       "      <th>tablename</th>\n",
       "    </tr>\n",
       "  </thead>\n",
       "  <tbody>\n",
       "  </tbody>\n",
       "</table>\n",
       "</div>"
      ],
      "text/plain": [
       "Empty DataFrame\n",
       "Columns: [tablename]\n",
       "Index: []"
      ]
     },
     "execution_count": 23,
     "metadata": {},
     "output_type": "execute_result"
    }
   ],
   "source": [
    "pd.read_sql(\"SELECT tablename FROM pg_catalog.pg_tables WHERE schemaname='public'\", con=engine)"
   ]
  },
  {
   "cell_type": "markdown",
   "metadata": {},
   "source": [
    "### Creating tables and loading DataFrames to the Database"
   ]
  },
  {
   "cell_type": "code",
   "execution_count": 24,
   "metadata": {},
   "outputs": [
    {
     "data": {
      "text/plain": [
       "datetime.datetime(2020, 5, 10, 17, 12, 52, 231611)"
      ]
     },
     "execution_count": 24,
     "metadata": {},
     "output_type": "execute_result"
    }
   ],
   "source": [
    "datetime.now()"
   ]
  },
  {
   "cell_type": "code",
   "execution_count": 25,
   "metadata": {},
   "outputs": [],
   "source": [
    "# Need to run only once for these ICD lookupfiles\n",
    "\n",
    "ICD9_DiagonsisDF.to_sql(name = 'icd9_diagonsis', con = engine, if_exists = 'replace', index = False)\n",
    "ICD9_ProcedureDF.to_sql(name = 'icd9_procedures', con = engine, if_exists = 'replace', index = False)"
   ]
  },
  {
   "cell_type": "code",
   "execution_count": 26,
   "metadata": {},
   "outputs": [],
   "source": [
    "HCPCS_DF.to_sql(name = 'hcpcs', con = engine, if_exists = 'replace', index = False)"
   ]
  },
  {
   "cell_type": "code",
   "execution_count": 27,
   "metadata": {},
   "outputs": [
    {
     "data": {
      "text/plain": [
       "datetime.datetime(2020, 5, 10, 17, 12, 55, 275667)"
      ]
     },
     "execution_count": 27,
     "metadata": {},
     "output_type": "execute_result"
    }
   ],
   "source": [
    "datetime.now()"
   ]
  },
  {
   "cell_type": "code",
   "execution_count": 28,
   "metadata": {},
   "outputs": [],
   "source": [
    "Beneficiary_2008DF.to_sql(name = 'beneficiary2008', con = engine, if_exists = 'replace', index = False)\n",
    "Beneficiary_2009DF.to_sql(name = 'beneficiary2009', con = engine, if_exists = 'replace', index = False)\n",
    "Beneficiary_2010DF.to_sql(name = 'beneficiary2010', con = engine, if_exists = 'replace', index = False)"
   ]
  },
  {
   "cell_type": "code",
   "execution_count": 29,
   "metadata": {},
   "outputs": [
    {
     "data": {
      "text/plain": [
       "datetime.datetime(2020, 5, 10, 17, 14, 51, 718984)"
      ]
     },
     "execution_count": 29,
     "metadata": {},
     "output_type": "execute_result"
    }
   ],
   "source": [
    "#from datetime import datetime\n",
    "datetime.now()"
   ]
  },
  {
   "cell_type": "code",
   "execution_count": 30,
   "metadata": {},
   "outputs": [],
   "source": [
    "Inpatient_DF.to_sql(name = 'inpatient_claims', con = engine, if_exists = 'replace', index = False)"
   ]
  },
  {
   "cell_type": "code",
   "execution_count": 31,
   "metadata": {},
   "outputs": [
    {
     "data": {
      "text/plain": [
       "datetime.datetime(2020, 5, 10, 17, 15, 30, 632196)"
      ]
     },
     "execution_count": 31,
     "metadata": {},
     "output_type": "execute_result"
    }
   ],
   "source": [
    "#from datetime import datetime\n",
    "datetime.now()"
   ]
  },
  {
   "cell_type": "code",
   "execution_count": 32,
   "metadata": {},
   "outputs": [],
   "source": [
    "# Fairly large file ((165MB))  - takes 7 mins\n",
    "Outpatient_DF.to_sql(name = 'outpatient_claims', con = engine, if_exists = 'replace', index = False)"
   ]
  },
  {
   "cell_type": "code",
   "execution_count": 33,
   "metadata": {},
   "outputs": [
    {
     "data": {
      "text/plain": [
       "datetime.datetime(2020, 5, 10, 17, 22, 35, 302872)"
      ]
     },
     "execution_count": 33,
     "metadata": {},
     "output_type": "execute_result"
    }
   ],
   "source": [
    "datetime.now()"
   ]
  },
  {
   "cell_type": "code",
   "execution_count": 34,
   "metadata": {},
   "outputs": [],
   "source": [
    "# Caution: large file (0.5GB) - it takes approx 16 mins for this file alone\n",
    "Prescription_eventsDF.to_sql(name = 'prescription_drug_events', con = engine, if_exists = 'replace', index = False)"
   ]
  },
  {
   "cell_type": "code",
   "execution_count": 35,
   "metadata": {},
   "outputs": [
    {
     "data": {
      "text/plain": [
       "datetime.datetime(2020, 5, 10, 17, 38, 30, 844834)"
      ]
     },
     "execution_count": 35,
     "metadata": {},
     "output_type": "execute_result"
    }
   ],
   "source": [
    "datetime.now()"
   ]
  },
  {
   "cell_type": "code",
   "execution_count": 40,
   "metadata": {},
   "outputs": [],
   "source": [
    "conn.commit()   #engine.commit()"
   ]
  },
  {
   "cell_type": "markdown",
   "metadata": {},
   "source": [
    "#### Checking tables in the database after creating new tables"
   ]
  },
  {
   "cell_type": "code",
   "execution_count": 41,
   "metadata": {},
   "outputs": [
    {
     "data": {
      "text/html": [
       "<div>\n",
       "<style scoped>\n",
       "    .dataframe tbody tr th:only-of-type {\n",
       "        vertical-align: middle;\n",
       "    }\n",
       "\n",
       "    .dataframe tbody tr th {\n",
       "        vertical-align: top;\n",
       "    }\n",
       "\n",
       "    .dataframe thead th {\n",
       "        text-align: right;\n",
       "    }\n",
       "</style>\n",
       "<table border=\"1\" class=\"dataframe\">\n",
       "  <thead>\n",
       "    <tr style=\"text-align: right;\">\n",
       "      <th></th>\n",
       "      <th>tablename</th>\n",
       "    </tr>\n",
       "  </thead>\n",
       "  <tbody>\n",
       "    <tr>\n",
       "      <td>0</td>\n",
       "      <td>icd9_diagonsis</td>\n",
       "    </tr>\n",
       "    <tr>\n",
       "      <td>1</td>\n",
       "      <td>icd9_procedures</td>\n",
       "    </tr>\n",
       "    <tr>\n",
       "      <td>2</td>\n",
       "      <td>hcpcs</td>\n",
       "    </tr>\n",
       "    <tr>\n",
       "      <td>3</td>\n",
       "      <td>beneficiary2008</td>\n",
       "    </tr>\n",
       "    <tr>\n",
       "      <td>4</td>\n",
       "      <td>beneficiary2009</td>\n",
       "    </tr>\n",
       "    <tr>\n",
       "      <td>5</td>\n",
       "      <td>beneficiary2010</td>\n",
       "    </tr>\n",
       "    <tr>\n",
       "      <td>6</td>\n",
       "      <td>inpatient_claims</td>\n",
       "    </tr>\n",
       "    <tr>\n",
       "      <td>7</td>\n",
       "      <td>outpatient_claims</td>\n",
       "    </tr>\n",
       "    <tr>\n",
       "      <td>8</td>\n",
       "      <td>prescription_drug_events</td>\n",
       "    </tr>\n",
       "  </tbody>\n",
       "</table>\n",
       "</div>"
      ],
      "text/plain": [
       "                  tablename\n",
       "0            icd9_diagonsis\n",
       "1           icd9_procedures\n",
       "2                     hcpcs\n",
       "3           beneficiary2008\n",
       "4           beneficiary2009\n",
       "5           beneficiary2010\n",
       "6          inpatient_claims\n",
       "7         outpatient_claims\n",
       "8  prescription_drug_events"
      ]
     },
     "execution_count": 41,
     "metadata": {},
     "output_type": "execute_result"
    }
   ],
   "source": [
    "pd.read_sql(\"SELECT tablename FROM pg_catalog.pg_tables WHERE schemaname='public'\", con=engine)"
   ]
  }
 ],
 "metadata": {
  "kernelspec": {
   "display_name": "Python 3",
   "language": "python",
   "name": "python3"
  },
  "language_info": {
   "codemirror_mode": {
    "name": "ipython",
    "version": 3
   },
   "file_extension": ".py",
   "mimetype": "text/x-python",
   "name": "python",
   "nbconvert_exporter": "python",
   "pygments_lexer": "ipython3",
   "version": "3.7.4"
  },
  "toc": {
   "base_numbering": 1,
   "nav_menu": {},
   "number_sections": false,
   "sideBar": true,
   "skip_h1_title": false,
   "title_cell": "Table of Contents",
   "title_sidebar": "Contents",
   "toc_cell": false,
   "toc_position": {},
   "toc_section_display": true,
   "toc_window_display": false
  }
 },
 "nbformat": 4,
 "nbformat_minor": 4
}
